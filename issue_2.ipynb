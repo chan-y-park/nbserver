{
 "cells": [
  {
   "cell_type": "code",
   "execution_count": 1,
   "metadata": {
    "collapsed": false
   },
   "outputs": [
    {
     "name": "stdout",
     "output_type": "stream",
     "text": [
      "Use TkAgg backend for matplotlib.\n"
     ]
    }
   ],
   "source": [
    "import numpy, sympy\n",
    "from sympy import N\n",
    "from loom.sage_subprocess import solve_poly_system\n",
    "x, z = sympy.symbols('x z')"
   ]
  },
  {
   "cell_type": "code",
   "execution_count": 41,
   "metadata": {
    "collapsed": true
   },
   "outputs": [],
   "source": [
    "f = sympy.sympify('x**6 - 10*x**2*z + 4*x + 9*z**2')"
   ]
  },
  {
   "cell_type": "code",
   "execution_count": 42,
   "metadata": {
    "collapsed": false
   },
   "outputs": [
    {
     "data": {
      "text/plain": [
       "6*x**5 - 20*x*z + 4"
      ]
     },
     "execution_count": 42,
     "metadata": {},
     "output_type": "execute_result"
    }
   ],
   "source": [
    "f.diff(x)"
   ]
  },
  {
   "cell_type": "code",
   "execution_count": 43,
   "metadata": {
    "collapsed": false
   },
   "outputs": [],
   "source": [
    "poly_system = [f, f.diff(x)]"
   ]
  },
  {
   "cell_type": "code",
   "execution_count": 7,
   "metadata": {
    "collapsed": false
   },
   "outputs": [],
   "source": [
    "sols_sage = numpy.array(solve_poly_system(poly_system))"
   ]
  },
  {
   "cell_type": "code",
   "execution_count": 7,
   "metadata": {
    "collapsed": true
   },
   "outputs": [],
   "source": [
    "#sols_sympy = sympy.solve_poly_system([f, f.diff(x)], z, x)"
   ]
  },
  {
   "cell_type": "code",
   "execution_count": 8,
   "metadata": {
    "collapsed": false
   },
   "outputs": [],
   "source": [
    "#sols_sympy_N = numpy.array([[complex(z), complex(x)] for z, x in sols_sympy])"
   ]
  },
  {
   "cell_type": "code",
   "execution_count": 25,
   "metadata": {
    "collapsed": false
   },
   "outputs": [
    {
     "data": {
      "text/plain": [
       "array([[ 0.17272260-0.29916432j,  0.25229196+0.43698248j],\n",
       "       [ 0.17272260+0.29916432j,  0.25229196-0.43698248j],\n",
       "       [-0.34544520+0.j        , -0.50458392+0.j        ],\n",
       "       [-0.32876426-0.56943641j, -0.81798269+1.41678759j],\n",
       "       [-0.32876426+0.56943641j, -0.81798269-1.41678759j],\n",
       "       [ 0.65752847+0.j        ,  1.63596539+0.j        ]])"
      ]
     },
     "execution_count": 25,
     "metadata": {},
     "output_type": "execute_result"
    }
   ],
   "source": [
    "sols_sage"
   ]
  },
  {
   "cell_type": "code",
   "execution_count": 24,
   "metadata": {
    "collapsed": false
   },
   "outputs": [
    {
     "data": {
      "text/plain": [
       "array([[-0.34544520+0.j        , -0.50458391+0.j        ],\n",
       "       [ 0.17272260+0.29916432j,  0.25229196-0.43698248j],\n",
       "       [ 0.17272260-0.29916432j,  0.25229196+0.43698248j],\n",
       "       [ 0.65752853+0.j        ,  1.63596539+0.j        ],\n",
       "       [-0.32876426+0.56943641j, -0.81798269-1.41678759j],\n",
       "       [-0.32876426-0.56943641j, -0.81798269+1.41678759j]])"
      ]
     },
     "execution_count": 24,
     "metadata": {},
     "output_type": "execute_result"
    }
   ],
   "source": [
    "#sols_sympy_N"
   ]
  },
  {
   "cell_type": "code",
   "execution_count": 29,
   "metadata": {
    "collapsed": false
   },
   "outputs": [
    {
     "data": {
      "text/plain": [
       "array([  5.55111512e-17+0.j,  -5.55111512e-17+0.j])"
      ]
     },
     "execution_count": 29,
     "metadata": {},
     "output_type": "execute_result"
    }
   ],
   "source": [
    "#sols_sage[0] - sols_sympy_N[2]"
   ]
  },
  {
   "cell_type": "code",
   "execution_count": 30,
   "metadata": {
    "collapsed": false
   },
   "outputs": [
    {
     "data": {
      "text/plain": [
       "array([  5.55111512e-17+0.j,  -5.55111512e-17+0.j])"
      ]
     },
     "execution_count": 30,
     "metadata": {},
     "output_type": "execute_result"
    }
   ],
   "source": [
    "#sols_sage[1] - sols_sympy_N[1]"
   ]
  },
  {
   "cell_type": "code",
   "execution_count": 31,
   "metadata": {
    "collapsed": false
   },
   "outputs": [
    {
     "data": {
      "text/plain": [
       "array([  5.02952219e-09+0.j,  -1.10148788e-08+0.j])"
      ]
     },
     "execution_count": 31,
     "metadata": {},
     "output_type": "execute_result"
    }
   ],
   "source": [
    "#sols_sage[2] - sols_sympy_N[0]"
   ]
  },
  {
   "cell_type": "code",
   "execution_count": 32,
   "metadata": {
    "collapsed": false
   },
   "outputs": [
    {
     "data": {
      "text/plain": [
       "array([  5.55111512e-17 +1.11022302e-16j,  -1.11022302e-16 +2.22044605e-16j])"
      ]
     },
     "execution_count": 32,
     "metadata": {},
     "output_type": "execute_result"
    }
   ],
   "source": [
    "#sols_sage[3] - sols_sympy_N[5]"
   ]
  },
  {
   "cell_type": "code",
   "execution_count": 33,
   "metadata": {
    "collapsed": false
   },
   "outputs": [
    {
     "data": {
      "text/plain": [
       "array([  5.55111512e-17 -1.11022302e-16j,  -1.11022302e-16 -2.22044605e-16j])"
      ]
     },
     "execution_count": 33,
     "metadata": {},
     "output_type": "execute_result"
    }
   ],
   "source": [
    "#sols_sage[4] - sols_sympy_N[4]"
   ]
  },
  {
   "cell_type": "code",
   "execution_count": 34,
   "metadata": {
    "collapsed": false
   },
   "outputs": [
    {
     "data": {
      "text/plain": [
       "array([ -5.64597031e-08+0.j,   4.37893100e-09+0.j])"
      ]
     },
     "execution_count": 34,
     "metadata": {},
     "output_type": "execute_result"
    }
   ],
   "source": [
    "#sols_sage[5] - sols_sympy_N[3]"
   ]
  },
  {
   "cell_type": "code",
   "execution_count": 24,
   "metadata": {
    "collapsed": false
   },
   "outputs": [
    {
     "data": {
      "text/plain": [
       "((-0.34544519667495072+0j), (-0.50458392101551486+0j))"
      ]
     },
     "execution_count": 24,
     "metadata": {},
     "output_type": "execute_result"
    }
   ],
   "source": [
    "z_0, x_0 = sols_sage[2]\n",
    "z_0, x_0"
   ]
  },
  {
   "cell_type": "code",
   "execution_count": 11,
   "metadata": {
    "collapsed": false
   },
   "outputs": [],
   "source": [
    "fx_at_z_0 = f.subs(z, z_0)"
   ]
  },
  {
   "cell_type": "code",
   "execution_count": 12,
   "metadata": {
    "collapsed": false
   },
   "outputs": [
    {
     "data": {
      "text/plain": [
       "x**4 + 3.45445196674951*x**2 + 4*x + 1.07399145515216"
      ]
     },
     "execution_count": 12,
     "metadata": {},
     "output_type": "execute_result"
    }
   ],
   "source": [
    "fx_at_z_0"
   ]
  },
  {
   "cell_type": "code",
   "execution_count": 13,
   "metadata": {
    "collapsed": false
   },
   "outputs": [],
   "source": [
    "fx_at_z_0_coeffs = map(complex, sympy.Poly(fx_at_z_0, x).all_coeffs())"
   ]
  },
  {
   "cell_type": "code",
   "execution_count": 14,
   "metadata": {
    "collapsed": false
   },
   "outputs": [
    {
     "data": {
      "text/plain": [
       "[(1+0j), 0j, (3.4544519667495073+0j), (4+0j), (1.0739914551521585+0j)]"
      ]
     },
     "execution_count": 14,
     "metadata": {},
     "output_type": "execute_result"
    }
   ],
   "source": [
    "fx_at_z_0_coeffs"
   ]
  },
  {
   "cell_type": "code",
   "execution_count": 17,
   "metadata": {
    "collapsed": false
   },
   "outputs": [],
   "source": [
    "roots1 = numpy.roots(fx_at_z_0_coeffs)"
   ]
  },
  {
   "cell_type": "code",
   "execution_count": 19,
   "metadata": {
    "collapsed": false
   },
   "outputs": [
    {
     "data": {
      "text/plain": [
       "array([ 0.50458391 +1.99089473e+00j,  0.50458391 -1.99089473e+00j,\n",
       "       -0.50467797 +3.64711943e-14j, -0.50448985 -3.64506392e-14j])"
      ]
     },
     "execution_count": 19,
     "metadata": {},
     "output_type": "execute_result"
    }
   ],
   "source": [
    "roots1"
   ]
  },
  {
   "cell_type": "code",
   "execution_count": 26,
   "metadata": {
    "collapsed": false
   },
   "outputs": [
    {
     "data": {
      "text/plain": [
       "array([ -1.00916783e+00 -1.99089473e+00j,\n",
       "        -1.00916783e+00 +1.99089473e+00j,\n",
       "         9.40535241e-05 -3.64711943e-14j,  -9.40689503e-05 +3.64506392e-14j])"
      ]
     },
     "execution_count": 26,
     "metadata": {},
     "output_type": "execute_result"
    }
   ],
   "source": [
    "numpy.array([x_0]*4) - roots1"
   ]
  },
  {
   "cell_type": "code",
   "execution_count": 44,
   "metadata": {
    "collapsed": true
   },
   "outputs": [],
   "source": [
    "sols_sympy = sympy.solve_poly_system([f, f.diff(x)], z, x)"
   ]
  },
  {
   "cell_type": "code",
   "execution_count": null,
   "metadata": {
    "collapsed": false
   },
   "outputs": [],
   "source": []
  },
  {
   "cell_type": "code",
   "execution_count": 27,
   "metadata": {
    "collapsed": false
   },
   "outputs": [],
   "source": [
    "z_0, x_0 = sols_sympy[0]"
   ]
  },
  {
   "cell_type": "code",
   "execution_count": 28,
   "metadata": {
    "collapsed": true
   },
   "outputs": [],
   "source": [
    "fx_at_z_0 = f.subs(z, z_0)"
   ]
  },
  {
   "cell_type": "code",
   "execution_count": 29,
   "metadata": {
    "collapsed": false
   },
   "outputs": [
    {
     "data": {
      "text/plain": [
       "x**4 + 5*x**2*(-17 + 5*sqrt(13))**(2/3)*(5 + 2*sqrt(13))/18 + 4*x + (-17 + 5*sqrt(13))**(4/3)*(5 + 2*sqrt(13))**2/144"
      ]
     },
     "execution_count": 29,
     "metadata": {},
     "output_type": "execute_result"
    }
   ],
   "source": [
    "fx_at_z_0"
   ]
  },
  {
   "cell_type": "code",
   "execution_count": 30,
   "metadata": {
    "collapsed": true
   },
   "outputs": [],
   "source": [
    "fx_at_z_0_coeffs = map(complex, sympy.Poly(fx_at_z_0, x).all_coeffs())"
   ]
  },
  {
   "cell_type": "code",
   "execution_count": 31,
   "metadata": {
    "collapsed": false
   },
   "outputs": [
    {
     "data": {
      "text/plain": [
       "[(1+0j), 0j, (3.454452017044729+0j), (4+0j), (1.0739914864257956+0j)]"
      ]
     },
     "execution_count": 31,
     "metadata": {},
     "output_type": "execute_result"
    }
   ],
   "source": [
    "fx_at_z_0_coeffs"
   ]
  },
  {
   "cell_type": "code",
   "execution_count": 32,
   "metadata": {
    "collapsed": true
   },
   "outputs": [],
   "source": [
    "roots2 = numpy.roots(fx_at_z_0_coeffs)"
   ]
  },
  {
   "cell_type": "code",
   "execution_count": 33,
   "metadata": {
    "collapsed": false
   },
   "outputs": [
    {
     "data": {
      "text/plain": [
       "array([ 0.50458391 +1.99089474e+00j,  0.50458391 -1.99089474e+00j,\n",
       "       -0.50458389 -3.84091993e-10j, -0.50458393 +3.84091920e-10j])"
      ]
     },
     "execution_count": 33,
     "metadata": {},
     "output_type": "execute_result"
    }
   ],
   "source": [
    "roots2"
   ]
  },
  {
   "cell_type": "code",
   "execution_count": 35,
   "metadata": {
    "collapsed": false
   },
   "outputs": [
    {
     "data": {
      "text/plain": [
       "array([ -1.00916782e+00 -1.99089474e+00j,\n",
       "        -1.00916782e+00 +1.99089474e+00j,\n",
       "        -1.52167814e-08 +3.84091993e-10j,   1.52167827e-08 -3.84091920e-10j])"
      ]
     },
     "execution_count": 35,
     "metadata": {},
     "output_type": "execute_result"
    }
   ],
   "source": [
    "numpy.array([complex(x_0)]*4) - roots2"
   ]
  },
  {
   "cell_type": "code",
   "execution_count": 36,
   "metadata": {
    "collapsed": true
   },
   "outputs": [],
   "source": [
    "sols_sympy = sympy.solve([f, f.diff(x)], z, x)"
   ]
  },
  {
   "cell_type": "code",
   "execution_count": 37,
   "metadata": {
    "collapsed": false
   },
   "outputs": [
    {
     "data": {
      "text/plain": [
       "[(-(-17 + 5*sqrt(13))**(2/3)*(5 + 2*sqrt(13))/36,\n",
       "  -(-17 + 5*sqrt(13))**(1/3)/2),\n",
       " ((-17 + 5*sqrt(13))**(2/3)*(5 + 2*sqrt(13) + 5*sqrt(3)*I + 2*sqrt(39)*I)/72,\n",
       "  (-17 + 5*sqrt(13))**(1/3)*(1 - sqrt(3)*I)/4),\n",
       " ((-17 + 5*sqrt(13))**(2/3)*(5 + 2*sqrt(13) - 2*sqrt(39)*I - 5*sqrt(3)*I)/72,\n",
       "  (-17 + 5*sqrt(13))**(1/3)*(1 + sqrt(3)*I)/4),\n",
       " ((-5 + 2*sqrt(13))*(17 + 5*sqrt(13))**(2/3)/36, (17 + 5*sqrt(13))**(1/3)/2),\n",
       " ((17 + 5*sqrt(13))**(2/3)*(-2*sqrt(13) + 5 - 5*sqrt(3)*I + 2*sqrt(39)*I)/72,\n",
       "  -(1 + sqrt(3)*I)*(17 + 5*sqrt(13))**(1/3)/4),\n",
       " ((17 + 5*sqrt(13))**(2/3)*(-2*sqrt(13) + 5 - 2*sqrt(39)*I + 5*sqrt(3)*I)/72,\n",
       "  (-1 + sqrt(3)*I)*(17 + 5*sqrt(13))**(1/3)/4)]"
      ]
     },
     "execution_count": 37,
     "metadata": {},
     "output_type": "execute_result"
    }
   ],
   "source": [
    "sols_sympy"
   ]
  },
  {
   "cell_type": "code",
   "execution_count": null,
   "metadata": {
    "collapsed": true
   },
   "outputs": [],
   "source": []
  }
 ],
 "metadata": {
  "kernelspec": {
   "display_name": "Python 2",
   "language": "python",
   "name": "python2"
  },
  "language_info": {
   "codemirror_mode": {
    "name": "ipython",
    "version": 2
   },
   "file_extension": ".py",
   "mimetype": "text/x-python",
   "name": "python",
   "nbconvert_exporter": "python",
   "pygments_lexer": "ipython2",
   "version": "2.7.6"
  }
 },
 "nbformat": 4,
 "nbformat_minor": 0
}
