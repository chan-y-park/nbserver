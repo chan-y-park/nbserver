{
 "cells": [
  {
   "cell_type": "code",
   "execution_count": 1,
   "metadata": {
    "collapsed": false
   },
   "outputs": [
    {
     "name": "stdout",
     "output_type": "stream",
     "text": [
      "Use TkAgg backend for matplotlib.\n"
     ]
    }
   ],
   "source": [
    "%matplotlib tk\n",
    "#%matplotlib nbagg\n",
    "from pprint import pprint\n",
    "import loom\n",
    "from loom.trivialization import SWDataWithTrivialization"
   ]
  },
  {
   "cell_type": "code",
   "execution_count": 2,
   "metadata": {
    "collapsed": false
   },
   "outputs": [
    {
     "name": "stderr",
     "output_type": "stream",
     "text": [
      "19490: config file: config/A_3_coset.ini\n"
     ]
    }
   ],
   "source": [
    "config = loom.load_config(\"config/A_3_coset.ini\")"
   ]
  },
  {
   "cell_type": "code",
   "execution_count": 3,
   "metadata": {
    "collapsed": false,
    "scrolled": true
   },
   "outputs": [
    {
     "name": "stderr",
     "output_type": "stream",
     "text": [
      "19490: Representation data of (A3, 1) retrieved from SAGE:\n",
      "{'ffr_weights': [(1, 0, 0, 0), (0, 1, 0, 0), (0, 0, 1, 0), (0, 0, 0, 1)],\n",
      " 'multiplicities': [1, 1, 1, 1],\n",
      " 'positive_roots': [(1, -1, 0, 0),\n",
      "                    (1, 0, -1, 0),\n",
      "                    (0, 1, -1, 0),\n",
      "                    (1, 0, 0, -1),\n",
      "                    (0, 1, 0, -1),\n",
      "                    (0, 0, 1, -1)],\n",
      " 'roots': [(1, -1, 0, 0),\n",
      "           (1, 0, -1, 0),\n",
      "           (0, 1, -1, 0),\n",
      "           (1, 0, 0, -1),\n",
      "           (0, 1, 0, -1),\n",
      "           (0, 0, 1, -1),\n",
      "           (-1, 1, 0, 0),\n",
      "           (-1, 0, 1, 0),\n",
      "           (-1, 0, 0, 1),\n",
      "           (0, -1, 1, 0),\n",
      "           (0, -1, 0, 1),\n",
      "           (0, 0, -1, 1)],\n",
      " 'weight_basis': [(1, 0, 0, 0), (0, 1, 0, 0), (0, 0, 1, 0), (0, 0, 0, 1)],\n",
      " 'weight_coefficients': [(1, 0, 0, 0),\n",
      "                         (0, 1, 0, 0),\n",
      "                         (0, 0, 1, 0),\n",
      "                         (0, 0, 0, 1)],\n",
      " 'weights': [(1, 0, 0, 0), (0, 1, 0, 0), (0, 0, 1, 0), (0, 0, 0, 1)]}\n",
      "19490: Option 'mt_params' not specified; use None.\n",
      "19490: Seiberg-Witten curve in the 1st fundamental representation: x^{4} + 1.0 x^{2} + 0.25 x + 1.0 i z = 0\n",
      "19490: \n",
      "Seiberg-Witten differential: x dz\n",
      "\n",
      "19490: Option 'punctures' not specified; use None.\n",
      "19490: Calculating ramification points of the Seiberg-Witten curve in the first fundamental rep.\n",
      "19490: ramification point #0: z = -0.0153948329646j, x = (-0.121419865935+0j), i = 2.\n",
      "19490: ramification point #1: z = (-0.177440954744-0.242302583518j), x = (0.0607099331464+0.714882569341j), i = 2.\n",
      "19490: ramification point #2: z = (0.177440954744-0.242302583518j), x = (0.0607099331464-0.714882569341j), i = 2.\n",
      "19490: Getting aligned x's at the base point z = -0.521548576154j.\n",
      "19490: Analyzing a branch point at z = -0.0153948329646j.\n",
      "19490: Analyzing a branch point at z = (-0.177440954744-0.242302583518j).\n",
      "19490: Analyzing a branch point at z = (0.177440954744-0.242302583518j).\n"
     ]
    }
   ],
   "source": [
    "sw = SWDataWithTrivialization(config)"
   ]
  },
  {
   "cell_type": "code",
   "execution_count": 4,
   "metadata": {
    "collapsed": false
   },
   "outputs": [
    {
     "data": {
      "text/plain": [
       "array([ 0.34929869+0.89495225j, -0.34929869+0.66564226j,\n",
       "        0.34929869-0.89495225j, -0.34929869-0.66564226j])"
      ]
     },
     "execution_count": 4,
     "metadata": {},
     "output_type": "execute_result"
    }
   ],
   "source": [
    "sw.reference_xs"
   ]
  },
  {
   "cell_type": "code",
   "execution_count": 5,
   "metadata": {
    "collapsed": false
   },
   "outputs": [
    {
     "data": {
      "text/plain": [
       "array([ 0.34929869+0.89495225j, -0.34929869+0.66564226j,\n",
       "        0.34929869-0.89495225j, -0.34929869-0.66564226j])"
      ]
     },
     "execution_count": 5,
     "metadata": {},
     "output_type": "execute_result"
    }
   ],
   "source": [
    "sw.reference_ffr_xs"
   ]
  },
  {
   "cell_type": "code",
   "execution_count": 6,
   "metadata": {
    "collapsed": false
   },
   "outputs": [
    {
     "data": {
      "text/plain": [
       "array([[1, 0, 0, 0],\n",
       "       [0, 1, 0, 0],\n",
       "       [0, 0, 1, 0],\n",
       "       [0, 0, 0, 1]])"
      ]
     },
     "execution_count": 6,
     "metadata": {},
     "output_type": "execute_result"
    }
   ],
   "source": [
    "sw.g_data.weights"
   ]
  },
  {
   "cell_type": "code",
   "execution_count": 7,
   "metadata": {
    "collapsed": false
   },
   "outputs": [
    {
     "data": {
      "text/plain": [
       "array([[ 1, -1,  0,  0],\n",
       "       [ 1,  0, -1,  0],\n",
       "       [ 0,  1, -1,  0],\n",
       "       [ 1,  0,  0, -1],\n",
       "       [ 0,  1,  0, -1],\n",
       "       [ 0,  0,  1, -1]])"
      ]
     },
     "execution_count": 7,
     "metadata": {},
     "output_type": "execute_result"
    }
   ],
   "source": [
    "sw.g_data.positive_roots"
   ]
  },
  {
   "cell_type": "code",
   "execution_count": 8,
   "metadata": {
    "collapsed": false
   },
   "outputs": [
    {
     "name": "stdout",
     "output_type": "stream",
     "text": [
      "enum_sh:\n",
      "[[0, (0.12141986629274026+1.0146356823318876j)],\n",
      " [1, (-0.1214198592973952+2.1953108389132041e-10j)],\n",
      " [2, (0.12141986629274032-1.0146356823318876j)],\n",
      " [3, (-0.12141987328808598-2.1953110334712028e-10j)]]\n",
      "singles:\n",
      "[0, 2]\n",
      "positive_roots:\n",
      "[array([ 0,  1,  0, -1])]\n",
      "monodromy:\n",
      "matrix([[1, 0, 0, 0],\n",
      "        [0, 0, 0, 1],\n",
      "        [0, 0, 1, 0],\n",
      "        [0, 1, 0, 0]])\n",
      "groups:\n",
      "[[1, 3]]\n",
      "z:\n",
      "-0.01539483296461535j\n",
      "order:\n",
      "2\n",
      "enum_sh:\n",
      "[[0, (0.060709943978951748+0.71488257123473709j)],\n",
      " [1, (0.060709922313789043+0.71488256744771106j)],\n",
      " [2, (0.24667382667336657-0.99726881523569222j)],\n",
      " [3, (-0.36809369296610717-0.4324963234467567j)]]\n",
      "singles:\n",
      "[2, 3]\n",
      "positive_roots:\n",
      "[array([ 1, -1,  0,  0])]\n",
      "monodromy:\n",
      "matrix([[0, 1, 0, 0],\n",
      "        [1, 0, 0, 0],\n",
      "        [0, 0, 1, 0],\n",
      "        [0, 0, 0, 1]])\n",
      "groups:\n",
      "[[0, 1]]\n",
      "z:\n",
      "(-0.1774409547436906-0.2423025835176923j)\n",
      "order:\n",
      "2\n",
      "enum_sh:\n",
      "[[0, (0.24667382667336657+0.99726881523569222j)],\n",
      " [1, (-0.36809369296610717+0.4324963234467567j)],\n",
      " [2, (0.060709943978951748-0.71488257123473709j)],\n",
      " [3, (0.060709922313789043-0.71488256744771106j)]]\n",
      "singles:\n",
      "[0, 1]\n",
      "positive_roots:\n",
      "[array([ 0,  0,  1, -1])]\n",
      "monodromy:\n",
      "matrix([[1, 0, 0, 0],\n",
      "        [0, 1, 0, 0],\n",
      "        [0, 0, 0, 1],\n",
      "        [0, 0, 1, 0]])\n",
      "groups:\n",
      "[[2, 3]]\n",
      "z:\n",
      "(0.1774409547436906-0.2423025835176923j)\n",
      "order:\n",
      "2\n"
     ]
    }
   ],
   "source": [
    "for i, bp in enumerate(sw.branch_points):\n",
    "    for key, value in vars(bp).iteritems():\n",
    "        print(\"{}:\".format(key))\n",
    "        pprint(value)"
   ]
  },
  {
   "cell_type": "code",
   "execution_count": 9,
   "metadata": {
    "collapsed": false
   },
   "outputs": [
    {
     "data": {
      "text/plain": [
       "{0: (0.1855839685346321+1.4918649310438681j),\n",
       " 1: (-1.1368142784321957+0.19407453703810695j),\n",
       " 2: (1.0671290784830494-0.21270658887670435j),\n",
       " 3: (-0.11589876858548748-1.4732328792052691j)}"
      ]
     },
     "execution_count": 9,
     "metadata": {},
     "output_type": "execute_result"
    }
   ],
   "source": [
    "z_arb = 1.50 + 2.35j\n",
    "sw.get_sheets_at_z(z_arb)"
   ]
  },
  {
   "cell_type": "code",
   "execution_count": 10,
   "metadata": {
    "collapsed": false
   },
   "outputs": [
    {
     "name": "stderr",
     "output_type": "stream",
     "text": [
      "6146: config file: config/A_3_coset.ini\n",
      "6146: Representation data of (A3, [0, 1, 0]) retrieved from SAGE:\n",
      "{'ffr_weights': [(1, 0, 0, 0), (0, 1, 0, 0), (0, 0, 1, 0), (0, 0, 0, 1)],\n",
      " 'multiplicities': [1, 1, 1, 1, 1, 1],\n",
      " 'positive_roots': [(1, -1, 0, 0),\n",
      "                    (1, 0, -1, 0),\n",
      "                    (0, 1, -1, 0),\n",
      "                    (1, 0, 0, -1),\n",
      "                    (0, 1, 0, -1),\n",
      "                    (0, 0, 1, -1)],\n",
      " 'roots': [(1, -1, 0, 0),\n",
      "           (1, 0, -1, 0),\n",
      "           (0, 1, -1, 0),\n",
      "           (1, 0, 0, -1),\n",
      "           (0, 1, 0, -1),\n",
      "           (0, 0, 1, -1),\n",
      "           (-1, 1, 0, 0),\n",
      "           (-1, 0, 1, 0),\n",
      "           (-1, 0, 0, 1),\n",
      "           (0, -1, 1, 0),\n",
      "           (0, -1, 0, 1),\n",
      "           (0, 0, -1, 1)],\n",
      " 'weight_basis': [(1, 0, 0, 0), (0, 1, 0, 0), (0, 0, 1, 0), (0, 0, 0, 1)],\n",
      " 'weight_coefficients': [(0, 0, 1, 1),\n",
      "                         (0, 1, 1, 0),\n",
      "                         (0, 1, 0, 1),\n",
      "                         (1, 1, 0, 0),\n",
      "                         (1, 0, 0, 1),\n",
      "                         (1, 0, 1, 0)],\n",
      " 'weights': [(0, 0, 1, 1),\n",
      "             (0, 1, 1, 0),\n",
      "             (0, 1, 0, 1),\n",
      "             (1, 1, 0, 0),\n",
      "             (1, 0, 0, 1),\n",
      "             (1, 0, 1, 0)]}\n",
      "6146: Option 'mt_params' not specified; use None.\n",
      "6146: Seiberg-Witten curve in the 1st fundamental representation: x^{4} + 1.0 x^{2} + 0.25 x + 1.0 i z = 0\n",
      "6146: Seiberg-Witten curve in a general representation is not implemented yet.\n",
      "6146: \n",
      "Seiberg-Witten differential: x dz\n",
      "\n",
      "6146: Option 'punctures' not specified; use None.\n",
      "6146: Calculating ramification points of the Seiberg-Witten curve in the first fundamental rep.\n",
      "6146: ramification point #0: z = -0.0153948329646j, x = (-0.121419865935+0j), i = 2.\n",
      "6146: ramification point #1: z = (-0.177440954744-0.242302583518j), x = (0.0607099331464+0.714882569341j), i = 2.\n",
      "6146: ramification point #2: z = (0.177440954744-0.242302583518j), x = (0.0607099331464-0.714882569341j), i = 2.\n",
      "6146: Getting aligned x's at the base point z = -0.521548576154j.\n",
      "6146: Analyzing a branch point at z = -0.0153948329646j.\n",
      "6146: Analyzing a branch point at z = (-0.177440954744-0.242302583518j).\n",
      "6146: Analyzing a branch point at z = (0.177440954744-0.242302583518j).\n"
     ]
    }
   ],
   "source": [
    "config = loom.load_config(\"config/A_3_coset.ini\")\n",
    "config['representation'] = '[0, 1, 0]'\n",
    "sw2 = SWDataWithTrivialization(config)"
   ]
  },
  {
   "cell_type": "code",
   "execution_count": 11,
   "metadata": {
    "collapsed": false
   },
   "outputs": [
    {
     "data": {
      "text/plain": [
       "array([[0, 0, 1, 1],\n",
       "       [0, 1, 1, 0],\n",
       "       [0, 1, 0, 1],\n",
       "       [1, 1, 0, 0],\n",
       "       [1, 0, 0, 1],\n",
       "       [1, 0, 1, 0]])"
      ]
     },
     "execution_count": 11,
     "metadata": {},
     "output_type": "execute_result"
    }
   ],
   "source": [
    "sw2.g_data.weights"
   ]
  },
  {
   "cell_type": "code",
   "execution_count": 12,
   "metadata": {
    "collapsed": false
   },
   "outputs": [
    {
     "data": {
      "text/plain": [
       "array([ 0.34929869+0.89495225j, -0.34929869+0.66564226j,\n",
       "        0.34929869-0.89495225j, -0.34929869-0.66564226j])"
      ]
     },
     "execution_count": 12,
     "metadata": {},
     "output_type": "execute_result"
    }
   ],
   "source": [
    "sw2.reference_ffr_xs"
   ]
  },
  {
   "cell_type": "code",
   "execution_count": 13,
   "metadata": {
    "collapsed": false
   },
   "outputs": [
    {
     "name": "stdout",
     "output_type": "stream",
     "text": [
      "0: (4.4408920985e-16-1.56059451551j)\n",
      "1: (3.88578058619e-16-0.229309989142j)\n",
      "2: (-0.698597389739-3.33066907388e-16j)\n",
      "3: (-1.11022302463e-16+1.56059451551j)\n",
      "4: (-5.55111512313e-17+0.229309989142j)\n",
      "5: (0.698597389739-5.55111512313e-16j)\n"
     ]
    }
   ],
   "source": [
    "for i, x in enumerate(sw2.reference_xs):\n",
    "    print \"{}: {}\".format(i, x)"
   ]
  },
  {
   "cell_type": "markdown",
   "metadata": {},
   "source": [
    "When compared to the result of the previous trivialization, we get the match:\n",
    "```\n",
    "prev -> new\n",
    "[[0, (0.6985973897389384+0j)], -> 5\n",
    "[1, (2.7755575615628914e-16+1.5605945155068035j)], ->3\n",
    "[2, (5.551115123125783e-16-0.2293099891416427j)], -> 1\n",
    "[3, (-0.6985973897389375-6.661338147750939e-16j)], -> 2\n",
    "[4, (6.661338147750939e-16-1.5605945155068044j)], -> 0\n",
    "[5, (3.885780586188048e-16+0.22930998914164202j)]] -> 4\n",
    "```"
   ]
  },
  {
   "cell_type": "code",
   "execution_count": 14,
   "metadata": {
    "collapsed": false
   },
   "outputs": [
    {
     "data": {
      "text/plain": [
       "{0: (0.95123030989756185-1.6859394680819735j),\n",
       " 1: (-0.069685199949146348-0.018632051838597397j),\n",
       " 2: (-1.2527130470176833-1.2791583421671622j),\n",
       " 3: (-0.95123030989756363+1.685939468081975j),\n",
       " 4: (0.069685199949144627+0.018632051838598951j),\n",
       " 5: (1.2527130470176815+1.2791583421671637j)}"
      ]
     },
     "execution_count": 14,
     "metadata": {},
     "output_type": "execute_result"
    }
   ],
   "source": [
    "z_arb = 1.50 + 2.35j\n",
    "sw2.get_sheets_at_z(z_arb)"
   ]
  },
  {
   "cell_type": "markdown",
   "metadata": {},
   "source": [
    "This is consistent with the previous matching:\n",
    "```\n",
    "prev -> new\n",
    "{0: (1.2527130470176815+1.2791583421671637j), ->5\n",
    "1: (-0.9512303098975636+1.685939468081975j), -> 3\n",
    "2: (-0.06968519994914635-0.018632051838597397j), -> 1\n",
    "3: (-1.2527130470176833-1.2791583421671622j), -> 2\n",
    "4: (0.9512303098975619-1.6859394680819735j), -> 0\n",
    "5: (0.06968519994914463+0.01863205183859895j)} -> 4\n",
    "```"
   ]
  },
  {
   "cell_type": "code",
   "execution_count": 15,
   "metadata": {
    "collapsed": false
   },
   "outputs": [
    {
     "name": "stdout",
     "output_type": "stream",
     "text": [
      "---------------------------------------------------------\n",
      "Branch Point at z = -0.0153948329646j\n",
      "---------------------------------------------------------\n",
      "enum_sh:\n",
      "[[0, (-6.9953456638405243e-09-1.0146356825514187j)],\n",
      " [1, (6.9953451226067997e-09-1.0146356821123566j)],\n",
      " [2, (-0.24283973258548119-1.9455799876950016e-17j)],\n",
      " [3, (6.9953450670956485e-09+1.0146356825514187j)],\n",
      " [4, (-6.9953457193516755e-09+1.0146356821123566j)],\n",
      " [5, (0.24283973258548058+0j)]]\n",
      "singles:\n",
      "[2, 5]\n",
      "positive_roots:\n",
      "[array([ 0,  1,  0, -1])]\n",
      "monodromy:\n",
      "matrix([[0, 1, 0, 0, 0, 0],\n",
      "        [1, 0, 0, 0, 0, 0],\n",
      "        [0, 0, 1, 0, 0, 0],\n",
      "        [0, 0, 0, 0, 1, 0],\n",
      "        [0, 0, 0, 1, 0, 0],\n",
      "        [0, 0, 0, 0, 0, 1]])\n",
      "groups:\n",
      "[[0, 1], [3, 4]]\n",
      "z:\n",
      "-0.01539483296461535j\n",
      "order:\n",
      "2\n",
      "---------------------------------------------------------\n",
      "Branch Point at z = (-0.177440954744-0.242302583518j)\n",
      "---------------------------------------------------------\n",
      "enum_sh:\n",
      "[[0, (-0.1214198662927406-1.4297651386824488j)],\n",
      " [1, (0.30738374898715559-0.28238624778798116j)],\n",
      " [2, (-0.30738377065231814+0.28238624400095436j)],\n",
      " [3, (0.12141986629274079+1.4297651386824481j)],\n",
      " [4, (-0.30738374898715543+0.28238624778798038j)],\n",
      " [5, (0.30738377065231831-0.28238624400095513j)]]\n",
      "singles:\n",
      "[0, 3]\n",
      "positive_roots:\n",
      "[array([ 1, -1,  0,  0])]\n",
      "monodromy:\n",
      "matrix([[1, 0, 0, 0, 0, 0],\n",
      "        [0, 0, 0, 0, 0, 1],\n",
      "        [0, 0, 0, 0, 1, 0],\n",
      "        [0, 0, 0, 1, 0, 0],\n",
      "        [0, 0, 1, 0, 0, 0],\n",
      "        [0, 1, 0, 0, 0, 0]])\n",
      "groups:\n",
      "[[1, 5], [2, 4]]\n",
      "z:\n",
      "(-0.1774409547436906-0.2423025835176923j)\n",
      "order:\n",
      "2\n",
      "---------------------------------------------------------\n",
      "Branch Point at z = (0.177440954744-0.242302583518j)\n",
      "---------------------------------------------------------\n",
      "enum_sh:\n",
      "[[0, (0.12141986629274079-1.4297651386824481j)],\n",
      " [1, (-0.30738374898715543-0.28238624778798038j)],\n",
      " [2, (-0.30738377065231814-0.28238624400095436j)],\n",
      " [3, (-0.1214198662927406+1.4297651386824488j)],\n",
      " [4, (0.30738374898715559+0.28238624778798116j)],\n",
      " [5, (0.30738377065231831+0.28238624400095513j)]]\n",
      "singles:\n",
      "[0, 3]\n",
      "positive_roots:\n",
      "[array([ 0,  0,  1, -1])]\n",
      "monodromy:\n",
      "matrix([[1, 0, 0, 0, 0, 0],\n",
      "        [0, 0, 1, 0, 0, 0],\n",
      "        [0, 1, 0, 0, 0, 0],\n",
      "        [0, 0, 0, 1, 0, 0],\n",
      "        [0, 0, 0, 0, 0, 1],\n",
      "        [0, 0, 0, 0, 1, 0]])\n",
      "groups:\n",
      "[[1, 2], [4, 5]]\n",
      "z:\n",
      "(0.1774409547436906-0.2423025835176923j)\n",
      "order:\n",
      "2\n"
     ]
    }
   ],
   "source": [
    "for i, bp in enumerate(sw2.branch_points):\n",
    "    bp.print_info()"
   ]
  },
  {
   "cell_type": "markdown",
   "metadata": {},
   "source": [
    "Compare prev and new results.\n",
    "\n",
    "```\n",
    "---------------------------------------------------------               \n",
    "Branch Point at z = -0.0153948329646j               \n",
    "---------------------------------------------------------               \n",
    "this is the branch point structure\n",
    "groups = [[1, 5], [2, 4]]\n",
    "singles = [0, 3]\n",
    "positive roots = [array([ 1., -1.,  0.,  0.])]\n",
    "order = 2\n",
    "sheets at the branch point = [\n",
    "prev > new\n",
    "[0, (0.24283973258548058+0j)], > [5, (0.24283973258548058+0j)]]\n",
    "[1, (6.9953450670956485e-09+1.0146356825514187j)], > [3, (6.9953450670956485e-09+1.0146356825514187j)], \n",
    "[2, (6.9953451226068e-09-1.0146356821123566j)], > [1, (6.9953451226067997e-09-1.0146356821123566j)]\n",
    "[3, (-0.2428397325854812-1.9455799876950016e-17j)], > [2, (-0.24283973258548119-1.9455799876950016e-17j)] \n",
    "[4, (-6.995345663840524e-09-1.0146356825514187j)], > [0, (-6.9953456638405243e-09-1.0146356825514187j)]\n",
    "[5, (-6.9953457193516755e-09+1.0146356821123566j)] > [4, (-6.9953457193516755e-09+1.0146356821123566j)]\n",
    "]\n",
    "sheet monodromy permutation matrix = \n",
    "[[1 0 0 0 0 0]\n",
    " [0 0 0 0 0 1]\n",
    " [0 0 0 0 1 0]\n",
    " [0 0 0 1 0 0]\n",
    " [0 0 1 0 0 0]\n",
    " [0 1 0 0 0 0]]\n",
    "```"
   ]
  },
  {
   "cell_type": "code",
   "execution_count": null,
   "metadata": {
    "collapsed": false
   },
   "outputs": [],
   "source": [
    "sns = loom.generate(c, phase=1.0)"
   ]
  },
  {
   "cell_type": "code",
   "execution_count": null,
   "metadata": {
    "collapsed": false
   },
   "outputs": [],
   "source": [
    "snp = loom.plot(c, sns)"
   ]
  },
  {
   "cell_type": "code",
   "execution_count": 1,
   "metadata": {
    "collapsed": false
   },
   "outputs": [
    {
     "name": "stderr",
     "output_type": "stream",
     "text": [
      "9817: config file: default.ini\n"
     ]
    },
    {
     "name": "stdout",
     "output_type": "stream",
     "text": [
      "Use TkAgg backend for matplotlib.\n"
     ]
    }
   ],
   "source": [
    "import loom\n",
    "config = loom.load_config(\"default.ini\")"
   ]
  },
  {
   "cell_type": "code",
   "execution_count": 2,
   "metadata": {
    "collapsed": false
   },
   "outputs": [
    {
     "name": "stderr",
     "output_type": "stream",
     "text": [
      "9817: Representation data of (A2, 1) retrieved from SAGE:\n",
      "{'ffr_weights': [(1, 0, 0), (0, 1, 0), (0, 0, 1)],\n",
      " 'multiplicities': [1, 1, 1],\n",
      " 'positive_roots': [(1, -1, 0), (1, 0, -1), (0, 1, -1)],\n",
      " 'roots': [(1, -1, 0),\n",
      "           (1, 0, -1),\n",
      "           (0, 1, -1),\n",
      "           (-1, 1, 0),\n",
      "           (-1, 0, 1),\n",
      "           (0, -1, 1)],\n",
      " 'weight_basis': [(1, 0, 0), (0, 1, 0), (0, 0, 1)],\n",
      " 'weight_coefficients': [(1, 0, 0), (0, 1, 0), (0, 0, 1)],\n",
      " 'weights': [(1, 0, 0), (0, 1, 0), (0, 0, 1)]}\n",
      "9817: \n",
      "Seiberg-Witten curve: x^{3} + 1.0 x + i z^{2} + 1.0 = 0\n",
      "\n",
      "9817: \n",
      "Seiberg-Witten differential: x dz\n",
      "\n"
     ]
    }
   ],
   "source": [
    "from loom.geometry import SWData\n",
    "sw = SWData(config)"
   ]
  },
  {
   "cell_type": "code",
   "execution_count": 3,
   "metadata": {
    "collapsed": false
   },
   "outputs": [
    {
     "data": {
      "text/plain": [
       "array([ 0.21863067+1.36890747j,  0.58027425-1.0099573j ,\n",
       "       -0.79890492-0.35895017j])"
      ]
     },
     "execution_count": 3,
     "metadata": {},
     "output_type": "execute_result"
    }
   ],
   "source": [
    "sw.curve.get_xs(1)"
   ]
  },
  {
   "cell_type": "code",
   "execution_count": 4,
   "metadata": {
    "collapsed": false
   },
   "outputs": [
    {
     "data": {
      "text/plain": [
       "array([ 0.21863067+1.36890747j,  0.58027425-1.0099573j ,\n",
       "       -0.79890492-0.35895017j])"
      ]
     },
     "execution_count": 4,
     "metadata": {},
     "output_type": "execute_result"
    }
   ],
   "source": [
    "sw.curve.get_aligned_xs(1, sw.g_data)"
   ]
  },
  {
   "cell_type": "code",
   "execution_count": 1,
   "metadata": {
    "collapsed": false
   },
   "outputs": [
    {
     "name": "stderr",
     "output_type": "stream",
     "text": [
      "14560: config file: config/A_3_coset.ini\n"
     ]
    },
    {
     "name": "stdout",
     "output_type": "stream",
     "text": [
      "Use TkAgg backend for matplotlib.\n"
     ]
    }
   ],
   "source": [
    "import loom\n",
    "config = loom.load_config('config/A_3_coset.ini')"
   ]
  },
  {
   "cell_type": "code",
   "execution_count": 2,
   "metadata": {
    "collapsed": false,
    "scrolled": false
   },
   "outputs": [
    {
     "name": "stderr",
     "output_type": "stream",
     "text": [
      "14560: Representation data of (A3, 1) retrieved from SAGE:\n",
      "{'ffr_weights': [(1, 0, 0, 0), (0, 1, 0, 0), (0, 0, 1, 0), (0, 0, 0, 1)],\n",
      " 'multiplicities': [1, 1, 1, 1],\n",
      " 'positive_roots': [(1, -1, 0, 0),\n",
      "                    (1, 0, -1, 0),\n",
      "                    (0, 1, -1, 0),\n",
      "                    (1, 0, 0, -1),\n",
      "                    (0, 1, 0, -1),\n",
      "                    (0, 0, 1, -1)],\n",
      " 'roots': [(1, -1, 0, 0),\n",
      "           (1, 0, -1, 0),\n",
      "           (0, 1, -1, 0),\n",
      "           (1, 0, 0, -1),\n",
      "           (0, 1, 0, -1),\n",
      "           (0, 0, 1, -1),\n",
      "           (-1, 1, 0, 0),\n",
      "           (-1, 0, 1, 0),\n",
      "           (-1, 0, 0, 1),\n",
      "           (0, -1, 1, 0),\n",
      "           (0, -1, 0, 1),\n",
      "           (0, 0, -1, 1)],\n",
      " 'weight_basis': [(1, 0, 0, 0), (0, 1, 0, 0), (0, 0, 1, 0), (0, 0, 0, 1)],\n",
      " 'weight_coefficients': [(1, 0, 0, 0),\n",
      "                         (0, 1, 0, 0),\n",
      "                         (0, 0, 1, 0),\n",
      "                         (0, 0, 0, 1)],\n",
      " 'weights': [(1, 0, 0, 0), (0, 1, 0, 0), (0, 0, 1, 0), (0, 0, 0, 1)]}\n",
      "14560: Option 'mt_params' not specified; use None.\n",
      "14560: \n",
      "Seiberg-Witten curve: x^{4} + 1.0 x^{2} + 0.25 x + i z^{2} = 0\n",
      "\n",
      "14560: \n",
      "Seiberg-Witten differential: x dz\n",
      "\n",
      "14560: Option 'punctures' not specified; use None.\n"
     ]
    }
   ],
   "source": [
    "from loom.geometry import SWData\n",
    "sw = SWData(config)"
   ]
  },
  {
   "cell_type": "code",
   "execution_count": 3,
   "metadata": {
    "collapsed": false
   },
   "outputs": [
    {
     "data": {
      "text/plain": [
       "array([ 0.31267184+1.20809361j, -0.75235641+0.40626179j,\n",
       "       -0.21517636-1.13224468j,  0.65486094-0.48211072j])"
      ]
     },
     "execution_count": 3,
     "metadata": {},
     "output_type": "execute_result"
    }
   ],
   "source": [
    "sw.curve.get_xs(1)"
   ]
  },
  {
   "cell_type": "code",
   "execution_count": 4,
   "metadata": {
    "collapsed": false
   },
   "outputs": [
    {
     "data": {
      "text/plain": [
       "array([ 0.31267184+1.20809361j, -0.75235641+0.40626179j,\n",
       "       -0.21517636-1.13224468j,  0.65486094-0.48211072j])"
      ]
     },
     "execution_count": 4,
     "metadata": {},
     "output_type": "execute_result"
    }
   ],
   "source": [
    "sw.curve.get_aligned_xs(1, sw.g_data)"
   ]
  },
  {
   "cell_type": "code",
   "execution_count": 5,
   "metadata": {
    "collapsed": false
   },
   "outputs": [
    {
     "name": "stderr",
     "output_type": "stream",
     "text": [
      "14560: Representation data of (A3, 2) retrieved from SAGE:\n",
      "{'ffr_weights': [(1, 0, 0, 0), (0, 1, 0, 0), (0, 0, 1, 0), (0, 0, 0, 1)],\n",
      " 'multiplicities': [1, 1, 1, 1, 1, 1],\n",
      " 'positive_roots': [(1, -1, 0, 0),\n",
      "                    (1, 0, -1, 0),\n",
      "                    (0, 1, -1, 0),\n",
      "                    (1, 0, 0, -1),\n",
      "                    (0, 1, 0, -1),\n",
      "                    (0, 0, 1, -1)],\n",
      " 'roots': [(1, -1, 0, 0),\n",
      "           (1, 0, -1, 0),\n",
      "           (0, 1, -1, 0),\n",
      "           (1, 0, 0, -1),\n",
      "           (0, 1, 0, -1),\n",
      "           (0, 0, 1, -1),\n",
      "           (-1, 1, 0, 0),\n",
      "           (-1, 0, 1, 0),\n",
      "           (-1, 0, 0, 1),\n",
      "           (0, -1, 1, 0),\n",
      "           (0, -1, 0, 1),\n",
      "           (0, 0, -1, 1)],\n",
      " 'weight_basis': [(1, 0, 0, 0), (0, 1, 0, 0), (0, 0, 1, 0), (0, 0, 0, 1)],\n",
      " 'weight_coefficients': [(0, 0, 1, 1),\n",
      "                         (0, 1, 1, 0),\n",
      "                         (0, 1, 0, 1),\n",
      "                         (1, 1, 0, 0),\n",
      "                         (1, 0, 0, 1),\n",
      "                         (1, 0, 1, 0)],\n",
      " 'weights': [(0, 0, 1, 1),\n",
      "             (0, 1, 1, 0),\n",
      "             (0, 1, 0, 1),\n",
      "             (1, 1, 0, 0),\n",
      "             (1, 0, 0, 1),\n",
      "             (1, 0, 1, 0)]}\n",
      "loom/geometry.py:132: UserWarning: class SWCurve with a general representation is not implemented yet.\n",
      "  warn('class SWCurve with a general representation '\n",
      "14560: \n",
      "Seiberg-Witten curve: \\mathrm{None} = 0\n",
      "\n",
      "14560: \n",
      "Seiberg-Witten differential: x dz\n",
      "\n"
     ]
    }
   ],
   "source": [
    "config['representation'] = '2'\n",
    "sw = SWData(config)"
   ]
  },
  {
   "cell_type": "code",
   "execution_count": 6,
   "metadata": {
    "collapsed": false
   },
   "outputs": [
    {
     "ename": "AttributeError",
     "evalue": "'NoneType' object has no attribute 'subs'",
     "output_type": "error",
     "traceback": [
      "\u001b[1;31m---------------------------------------------------------------------------\u001b[0m",
      "\u001b[1;31mAttributeError\u001b[0m                            Traceback (most recent call last)",
      "\u001b[1;32m<ipython-input-6-7de288dc43bb>\u001b[0m in \u001b[0;36m<module>\u001b[1;34m()\u001b[0m\n\u001b[1;32m----> 1\u001b[1;33m \u001b[0msw\u001b[0m\u001b[1;33m.\u001b[0m\u001b[0mcurve\u001b[0m\u001b[1;33m.\u001b[0m\u001b[0mget_xs\u001b[0m\u001b[1;33m(\u001b[0m\u001b[1;36m1\u001b[0m\u001b[1;33m)\u001b[0m\u001b[1;33m\u001b[0m\u001b[0m\n\u001b[0m",
      "\u001b[1;32m/home/chan/loom/loom/geometry.py\u001b[0m in \u001b[0;36mget_xs\u001b[1;34m(self, z_0, for_ffr)\u001b[0m\n\u001b[0;32m    144\u001b[0m         \u001b[1;32melse\u001b[0m\u001b[1;33m:\u001b[0m\u001b[1;33m\u001b[0m\u001b[0m\n\u001b[0;32m    145\u001b[0m             \u001b[0meq\u001b[0m \u001b[1;33m=\u001b[0m \u001b[0mself\u001b[0m\u001b[1;33m.\u001b[0m\u001b[0mnum_eq\u001b[0m\u001b[1;33m\u001b[0m\u001b[0m\n\u001b[1;32m--> 146\u001b[1;33m         \u001b[0mfx\u001b[0m \u001b[1;33m=\u001b[0m \u001b[0meq\u001b[0m\u001b[1;33m.\u001b[0m\u001b[0msubs\u001b[0m\u001b[1;33m(\u001b[0m\u001b[0mz\u001b[0m\u001b[1;33m,\u001b[0m \u001b[0mz_0\u001b[0m\u001b[1;33m)\u001b[0m\u001b[1;33m\u001b[0m\u001b[0m\n\u001b[0m\u001b[0;32m    147\u001b[0m         \u001b[1;31m#xs = sympy.solve(fx, x)\u001b[0m\u001b[1;33m\u001b[0m\u001b[1;33m\u001b[0m\u001b[0m\n\u001b[0;32m    148\u001b[0m         \u001b[1;31m### The following may fail when the curve is not a polynomial.\u001b[0m\u001b[1;33m\u001b[0m\u001b[1;33m\u001b[0m\u001b[0m\n",
      "\u001b[1;31mAttributeError\u001b[0m: 'NoneType' object has no attribute 'subs'"
     ]
    }
   ],
   "source": [
    "sw.curve.get_xs(1)"
   ]
  },
  {
   "cell_type": "code",
   "execution_count": 7,
   "metadata": {
    "collapsed": false
   },
   "outputs": [
    {
     "data": {
      "text/plain": [
       "array([ 0.43968458-1.6143554j , -0.96753278-0.72598289j,\n",
       "       -0.09749548-0.07584893j, -0.43968458+1.6143554j ,\n",
       "        0.96753278+0.72598289j,  0.09749548+0.07584893j])"
      ]
     },
     "execution_count": 7,
     "metadata": {},
     "output_type": "execute_result"
    }
   ],
   "source": [
    "sw.curve.get_aligned_xs(1, sw.g_data)"
   ]
  },
  {
   "cell_type": "code",
   "execution_count": null,
   "metadata": {
    "collapsed": true
   },
   "outputs": [],
   "source": []
  }
 ],
 "metadata": {
  "kernelspec": {
   "display_name": "Python 2",
   "language": "python",
   "name": "python2"
  },
  "language_info": {
   "codemirror_mode": {
    "name": "ipython",
    "version": 2
   },
   "file_extension": ".py",
   "mimetype": "text/x-python",
   "name": "python",
   "nbconvert_exporter": "python",
   "pygments_lexer": "ipython2",
   "version": "2.7.6"
  }
 },
 "nbformat": 4,
 "nbformat_minor": 0
}
