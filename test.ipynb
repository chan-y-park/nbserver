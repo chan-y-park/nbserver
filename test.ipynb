{
 "cells": [
  {
   "cell_type": "code",
   "execution_count": 1,
   "metadata": {
    "collapsed": false,
    "scrolled": true
   },
   "outputs": [
    {
     "name": "stdout",
     "output_type": "stream",
     "text": [
      "Use TkAgg backend for matplotlib.\n",
      "Setting logging level to \"INFO\".\n"
     ]
    }
   ],
   "source": [
    "%matplotlib tk\n",
    "#%matplotlib nbagg\n",
    "from pprint import pprint\n",
    "import loom"
   ]
  },
  {
   "cell_type": "code",
   "execution_count": 8,
   "metadata": {
    "collapsed": false
   },
   "outputs": [
    {
     "name": "stderr",
     "output_type": "stream",
     "text": [
      "494: config file: config/AD_SO_6.ini\n"
     ]
    }
   ],
   "source": [
    "#config = loom.load_config(\"default.ini\") #success\n",
    "#config = loom.load_config(\"config/AD_SO_4.ini\") #success\n",
    "config = loom.load_config(\"config/AD_SO_6.ini\")\n",
    "#config = loom.load_config(\"config/coset_A_3.ini\")\n",
    "#config = loom.load_config(\"config/coset_A_3_2nd_rep.ini\")\n",
    "#config = loom.load_config(\"config/coset_A_4_2nd_rep.ini\")\n",
    "#config = loom.load_config(\"config/coset_D_3.ini\")\n",
    "#config = loom.load_config(\"config/coset_D_4.ini\")\n",
    "#config = loom.load_config(\"config/issue_2.ini\")\n",
    "#config = loom.load_config(\"config/pure_SO_4.ini\")\n",
    "#config = loom.load_config(\"config/pure_SU_2.ini\")"
   ]
  },
  {
   "cell_type": "code",
   "execution_count": 9,
   "metadata": {
    "collapsed": false,
    "scrolled": false
   },
   "outputs": [
    {
     "name": "stderr",
     "output_type": "stream",
     "text": [
      "494: Representation data of (D3, 1) retrieved from SAGE:\n",
      "{'ffr_weights': [(1, 0, 0),\n",
      "                 (0, 1, 0),\n",
      "                 (0, 0, 1),\n",
      "                 (-1, 0, 0),\n",
      "                 (0, -1, 0),\n",
      "                 (0, 0, -1)],\n",
      " 'multiplicities': [1, 1, 1, 1, 1, 1],\n",
      " 'positive_roots': [(1, 1, 0),\n",
      "                    (1, 0, 1),\n",
      "                    (0, 1, 1),\n",
      "                    (1, -1, 0),\n",
      "                    (1, 0, -1),\n",
      "                    (0, 1, -1)],\n",
      " 'roots': [(1, 1, 0),\n",
      "           (1, 0, 1),\n",
      "           (0, 1, 1),\n",
      "           (1, -1, 0),\n",
      "           (1, 0, -1),\n",
      "           (0, 1, -1),\n",
      "           (-1, 1, 0),\n",
      "           (-1, 0, 1),\n",
      "           (0, -1, 1),\n",
      "           (-1, -1, 0),\n",
      "           (-1, 0, -1),\n",
      "           (0, -1, -1)],\n",
      " 'weight_basis': [(1, 0, 0), (0, 1, 0), (0, 0, 1)],\n",
      " 'weight_coefficients': [(1, 0, 0),\n",
      "                         (0, 1, 0),\n",
      "                         (0, 0, 1),\n",
      "                         (-1, 0, 0),\n",
      "                         (0, -1, 0),\n",
      "                         (0, 0, -1)],\n",
      " 'weights': [(1, 0, 0),\n",
      "             (0, 1, 0),\n",
      "             (0, 0, 1),\n",
      "             (-1, 0, 0),\n",
      "             (0, -1, 0),\n",
      "             (0, 0, -1)]}\n",
      "494: Option 'mt_params' not specified; use None.\n",
      "494: The z-plane has not been rotated.\n",
      "494: Seiberg-Witten curve in the 1st fundamental representation:\n",
      "s_{2} x^{4} + s_{6} + x^{6} + x^{2} \\left(s_{4} + z^{2}\\right) = 0\n",
      "(numerically\n",
      "x^{6} + x^{2} \\left(z^{2} + 1.0\\right) + 0.11111111111111111111=0\n",
      ")\n",
      "494: Seiberg-Witten differential:\n",
      "x dz\n",
      "\n",
      "494: Calculating ramification points of the Seiberg-Witten curve in the first fundamental rep.\n",
      "494: Option 'ramification_point_finding_method' not specified; use None.\n",
      "494: ramification point #0: z = (-0.208235736959-0.908276943428j), x = (0.308857335264+0.534956596967j), i = 2.\n",
      "494: ramification point #1: z = (0.208235736959+0.908276943428j), x = (0.308857335264+0.534956596967j), i = 2.\n",
      "494: ramification point #2: z = (0.208235736959-0.908276943428j), x = (0.308857335264-0.534956596967j), i = 2.\n",
      "494: ramification point #3: z = (-0.208235736959+0.908276943428j), x = (0.308857335264-0.534956596967j), i = 2.\n",
      "494: ramification point #4: z = -1.19866185072j, x = (-0.617714723926+0j), i = 2.\n",
      "494: ramification point #5: z = 1.19866185072j, x = (-0.617714723926+0j), i = 2.\n",
      "494: ramification point #6: z = (0.208235736959-0.908276943428j), x = (-0.308857335264+0.534956596967j), i = 2.\n",
      "494: ramification point #7: z = (-0.208235736959+0.908276943428j), x = (-0.308857335264+0.534956596967j), i = 2.\n",
      "494: ramification point #8: z = (-0.208235736959-0.908276943428j), x = (-0.308857335264-0.534956596967j), i = 2.\n",
      "494: ramification point #9: z = (0.208235736959+0.908276943428j), x = (-0.308857335264-0.534956596967j), i = 2.\n",
      "494: ramification point #10: z = -1.19866185072j, x = (0.617714723926+0j), i = 2.\n",
      "494: ramification point #11: z = 1.19866185072j, x = (0.617714723926+0j), i = 2.\n",
      "494: Some branch points or punctures are vertically aligned.\n",
      "Need to rotate the z-plane.\n",
      "\n",
      "494: Will try rotating z-plane in increments of pi/2\n",
      "494: The z-plane has been rotated 1 times.\n",
      "Current rotation of the z-plane: I\n",
      "\n",
      "494: Seiberg-Witten curve in the 1st fundamental representation:\n",
      "s_{2} x^{4} + s_{6} + x^{6} + x^{2} \\left(s_{4} + z^{2}\\right) = 0\n",
      "(numerically\n",
      "x^{6} + x^{2} \\left(- z^{2} + 1.0\\right) + 0.11111111111111111111=0\n",
      ")\n",
      "494: Seiberg-Witten differential:\n",
      "i x dz\n",
      "\n",
      "494: Calculating ramification points of the Seiberg-Witten curve in the first fundamental rep.\n",
      "494: ramification point #0: z = (-0.908276943428+0.208235736959j), x = (0.308857335264+0.534956596967j), i = 2.\n",
      "494: ramification point #1: z = (0.908276943428-0.208235736959j), x = (0.308857335264+0.534956596967j), i = 2.\n",
      "494: ramification point #2: z = (-0.908276943428-0.208235736959j), x = (0.308857335264-0.534956596967j), i = 2.\n",
      "494: ramification point #3: z = (0.908276943428+0.208235736959j), x = (0.308857335264-0.534956596967j), i = 2.\n",
      "494: ramification point #4: z = (-1.19866185072-0j), x = (-0.617714723926+0j), i = 2.\n",
      "494: ramification point #5: z = (1.19866185072+0j), x = (-0.617714723926+0j), i = 2.\n",
      "494: ramification point #6: z = (-0.908276943428-0.208235736959j), x = (-0.308857335264+0.534956596967j), i = 2.\n",
      "494: ramification point #7: z = (0.908276943428+0.208235736959j), x = (-0.308857335264+0.534956596967j), i = 2.\n",
      "494: ramification point #8: z = (-0.908276943428+0.208235736959j), x = (-0.308857335264-0.534956596967j), i = 2.\n",
      "494: ramification point #9: z = (0.908276943428-0.208235736959j), x = (-0.308857335264-0.534956596967j), i = 2.\n",
      "494: ramification point #10: z = (-1.19866185072-0j), x = (0.617714723926+0j), i = 2.\n",
      "494: ramification point #11: z = (1.19866185072+0j), x = (0.617714723926+0j), i = 2.\n",
      "494: Some branch points or punctures are vertically aligned.\n",
      "Need to rotate the z-plane.\n",
      "\n",
      "494: Will try rotating z-plane in increments of pi/3\n",
      "494: The z-plane has been rotated 1 times.\n",
      "Current rotation of the z-plane: exp(I*pi/3)\n",
      "\n",
      "494: Seiberg-Witten curve in the 1st fundamental representation:\n",
      "s_{2} x^{4} + s_{6} + x^{6} + x^{2} \\left(s_{4} + z^{2}\\right) = 0\n",
      "(numerically\n",
      "x^{6} + x^{2} \\left(z^{2} \\left(-0.5 + 0.86602540378443864676 i\\right) + 1.0\\right) + 0.11111111111111111111=0\n",
      ")\n",
      "494: Seiberg-Witten differential:\n",
      "x \\left(0.5 + 0.86602540378443864676 i\\right) dz\n",
      "\n",
      "494: Calculating ramification points of the Seiberg-Witten curve in the first fundamental rep.\n",
      "494: ramification point #0: z = (-0.89070877516-0.273801033531j), x = (0.308857335264+0.534956596967j), i = 2.\n",
      "494: ramification point #1: z = (0.89070877516+0.273801033531j), x = (0.308857335264+0.534956596967j), i = 2.\n",
      "494: ramification point #2: z = (-0.682473038201-0.634475909897j), x = (0.308857335264-0.534956596967j), i = 2.\n",
      "494: ramification point #3: z = (0.682473038201+0.634475909897j), x = (0.308857335264-0.534956596967j), i = 2.\n",
      "494: ramification point #4: z = (-1.03807161327-0.599330925359j), x = (-0.617714723926+0j), i = 2.\n",
      "494: ramification point #5: z = (1.03807161327+0.599330925359j), x = (-0.617714723926+0j), i = 2.\n",
      "494: ramification point #6: z = (-0.682473038201-0.634475909897j), x = (-0.308857335264+0.534956596967j), i = 2.\n",
      "494: ramification point #7: z = (0.682473038201+0.634475909897j), x = (-0.308857335264+0.534956596967j), i = 2.\n",
      "494: ramification point #8: z = (-0.89070877516-0.273801033531j), x = (-0.308857335264-0.534956596967j), i = 2.\n",
      "494: ramification point #9: z = (0.89070877516+0.273801033531j), x = (-0.308857335264-0.534956596967j), i = 2.\n",
      "494: ramification point #10: z = (-1.03807161327-0.599330925359j), x = (0.617714723926+0j), i = 2.\n",
      "494: ramification point #11: z = (1.03807161327+0.599330925359j), x = (0.617714723926+0j), i = 2.\n",
      "494: All branch points and punctures are sufficiently separated vertically.\n",
      "Will not rotate z-plane any more.\n",
      "\n",
      "494: Getting aligned x's at the base point z = (-3.70074341542e-17-2.39732370144j).\n",
      "494: Analyzing a branch point at z = (-1.03807161327-0.599330925359j).\n",
      "494: Analyzing a branch point at z = (-0.89070877516-0.273801033531j).\n",
      "494: Analyzing a branch point at z = (-0.682473038201-0.634475909897j).\n",
      "494: Analyzing a branch point at z = (0.682473038201+0.634475909897j).\n",
      "494: Analyzing a branch point at z = (0.89070877516+0.273801033531j).\n",
      "494: Analyzing a branch point at z = (1.03807161327+0.599330925359j).\n",
      "494: start cpu time: 1442815963.56\n",
      "494: Generate a single spectral network at theta = 1.5.\n",
      "494: Start growing a new spectral network...\n",
      "494: Seed S-walls at branch points...\n",
      "494: Growing S-wall #0...\n",
      "494: Using CGAL to find intersections.\n",
      "494: Growing S-wall #1...\n",
      "494: Using CGAL to find intersections.\n",
      "494: Growing S-wall #2...\n",
      "494: Using CGAL to find intersections.\n",
      "494: Growing S-wall #3...\n",
      "494: Using CGAL to find intersections.\n",
      "494: Growing S-wall #4...\n",
      "494: Using CGAL to find intersections.\n",
      "494: Growing S-wall #5...\n",
      "494: Using CGAL to find intersections.\n",
      "494: Growing S-wall #6...\n",
      "494: Using CGAL to find intersections.\n",
      "494: Growing S-wall #7...\n",
      "494: Using CGAL to find intersections.\n",
      "494: Growing S-wall #8...\n",
      "494: Using CGAL to find intersections.\n",
      "494: Growing S-wall #9...\n",
      "494: Using CGAL to find intersections.\n",
      "494: Growing S-wall #10...\n",
      "494: Using CGAL to find intersections.\n",
      "494: Growing S-wall #11...\n",
      "494: Using CGAL to find intersections.\n",
      "494: Growing S-wall #12...\n",
      "494: Using CGAL to find intersections.\n",
      "494: Growing S-wall #13...\n",
      "494: Using CGAL to find intersections.\n",
      "494: Growing S-wall #14...\n",
      "494: Using CGAL to find intersections.\n",
      "494: Growing S-wall #15...\n",
      "494: Using CGAL to find intersections.\n",
      "494: Growing S-wall #16...\n",
      "494: Using CGAL to find intersections.\n",
      "494: Growing S-wall #17...\n",
      "494: Using CGAL to find intersections.\n",
      "494: Growing S-walls in iteration #1 finished.\n",
      "494: Iteration #1 finished.\n",
      "494: Growing S-wall #18...\n",
      "494: Using CGAL to find intersections.\n",
      "494: Growing S-wall #19...\n",
      "494: Using CGAL to find intersections.\n",
      "494: Growing S-wall #20...\n",
      "494: Using CGAL to find intersections.\n",
      "494: Growing S-wall #21...\n",
      "494: Using CGAL to find intersections.\n",
      "494: Growing S-wall #22...\n",
      "494: Using CGAL to find intersections.\n",
      "494: Growing S-wall #23...\n",
      "494: Using CGAL to find intersections.\n",
      "494: Growing S-wall #24...\n",
      "494: Using CGAL to find intersections.\n",
      "494: Growing S-wall #25...\n",
      "494: Using CGAL to find intersections.\n",
      "494: Growing S-wall #26...\n",
      "494: Using CGAL to find intersections.\n",
      "494: Growing S-wall #27...\n",
      "494: Using CGAL to find intersections.\n",
      "494: Growing S-wall #28...\n",
      "494: Using CGAL to find intersections.\n",
      "494: Growing S-wall #29...\n",
      "494: Using CGAL to find intersections.\n",
      "494: Growing S-wall #30...\n",
      "494: Using CGAL to find intersections.\n",
      "494: Growing S-wall #31...\n",
      "494: Using CGAL to find intersections.\n",
      "494: Growing S-wall #32...\n",
      "494: Using CGAL to find intersections.\n",
      "494: Growing S-wall #33...\n",
      "494: Using CGAL to find intersections.\n",
      "494: Growing S-walls in iteration #2 finished.\n",
      "494: Iteration #2 finished.\n",
      "494: Growing S-wall #34...\n",
      "494: Using CGAL to find intersections.\n",
      "494: Growing S-wall #35...\n",
      "494: Using CGAL to find intersections.\n",
      "494: Growing S-wall #36...\n",
      "494: Using CGAL to find intersections.\n",
      "494: Growing S-wall #37...\n",
      "494: Using CGAL to find intersections.\n",
      "494: Growing S-walls in iteration #3 finished.\n",
      "494: Iteration #3 finished.\n",
      "494: Growing S-wall #38...\n",
      "494: Using CGAL to find intersections.\n",
      "494: Growing S-wall #39...\n",
      "494: Using CGAL to find intersections.\n",
      "494: Growing S-wall #40...\n",
      "494: Using CGAL to find intersections.\n",
      "494: Growing S-wall #41...\n",
      "494: Using CGAL to find intersections.\n",
      "494: Growing S-wall #42...\n",
      "494: Using CGAL to find intersections.\n",
      "494: Growing S-wall #43...\n",
      "494: Using CGAL to find intersections.\n",
      "494: No additional joint found: Stop growing this spectral network at iteration #4.\n",
      "494: end cpu time: 1442816175.24334097\n",
      "494: elapsed cpu time: 211.68360090\n"
     ]
    }
   ],
   "source": [
    "snd = loom.generate(config, phase=1.5)\n",
    "#snd = loom.generate(config)"
   ]
  },
  {
   "cell_type": "code",
   "execution_count": 11,
   "metadata": {
    "collapsed": false
   },
   "outputs": [
    {
     "name": "stderr",
     "output_type": "stream",
     "text": [
      "494: Generating the plot of a spectral network @ theta = 1.5...\n"
     ]
    },
    {
     "name": "stdout",
     "output_type": "stream",
     "text": [
      "------------------------\n",
      "phase : 1.5\n",
      "------------------------\n",
      "\n",
      "\t--- The Root System ---\n",
      "\n",
      "alpha_10 : [-1, 0, -1]\n",
      "ordered weight pairs : ['(mu_0, mu_5)', '(mu_2, mu_3)']\n",
      "\n",
      "alpha_11 : [0, -1, -1]\n",
      "ordered weight pairs : ['(mu_1, mu_5)', '(mu_2, mu_4)']\n",
      "\n",
      "alpha_6 : [-1, 1, 0]\n",
      "ordered weight pairs : ['(mu_0, mu_1)', '(mu_4, mu_3)']\n",
      "\n",
      "alpha_7 : [-1, 0, 1]\n",
      "ordered weight pairs : ['(mu_0, mu_2)', '(mu_5, mu_3)']\n",
      "\n",
      "alpha_4 : [1, 0, -1]\n",
      "ordered weight pairs : ['(mu_2, mu_0)', '(mu_3, mu_5)']\n",
      "\n",
      "alpha_5 : [0, 1, -1]\n",
      "ordered weight pairs : ['(mu_2, mu_1)', '(mu_4, mu_5)']\n",
      "\n",
      "alpha_2 : [0, 1, 1]\n",
      "ordered weight pairs : ['(mu_4, mu_2)', '(mu_5, mu_1)']\n",
      "\n",
      "alpha_3 : [1, -1, 0]\n",
      "ordered weight pairs : ['(mu_1, mu_0)', '(mu_3, mu_4)']\n",
      "\n",
      "alpha_0 : [1, 1, 0]\n",
      "ordered weight pairs : ['(mu_3, mu_1)', '(mu_4, mu_0)']\n",
      "\n",
      "alpha_1 : [1, 0, 1]\n",
      "ordered weight pairs : ['(mu_3, mu_2)', '(mu_5, mu_0)']\n",
      "\n",
      "alpha_8 : [0, -1, 1]\n",
      "ordered weight pairs : ['(mu_1, mu_2)', '(mu_5, mu_4)']\n",
      "\n",
      "alpha_9 : [-1, -1, 0]\n",
      "ordered weight pairs : ['(mu_0, mu_4)', '(mu_1, mu_3)']\n",
      "\n",
      "\t--- The Weight System ---\n",
      "\n",
      "mu_5 : [0, 0, -1]\n",
      "\n",
      "mu_4 : [0, -1, 0]\n",
      "\n",
      "mu_3 : [-1, 0, 0]\n",
      "\n",
      "mu_2 : [0, 0, 1]\n",
      "\n",
      "mu_1 : [0, 1, 0]\n",
      "\n",
      "mu_0 : [1, 0, 0]\n",
      "\n",
      "\t--- The S-Wall Data ---\n",
      "\n",
      "S-wall #0\troot types : ['alpha_7']\n",
      "\t\tsheet pairs : [[['mu_0', 'mu_2'], ['mu_5', 'mu_3']]]\n",
      "\n",
      "S-wall #1\troot types : ['alpha_4', 'alpha_11', 'alpha_11']\n",
      "\t\tsheet pairs : [[['mu_2', 'mu_0'], ['mu_3', 'mu_5']], [['mu_1', 'mu_5'], ['mu_2', 'mu_4']], [['mu_1', 'mu_5'], ['mu_2', 'mu_4']]]\n",
      "\n",
      "S-wall #2\troot types : ['alpha_4']\n",
      "\t\tsheet pairs : [[['mu_2', 'mu_0'], ['mu_3', 'mu_5']]]\n",
      "\n",
      "S-wall #3\troot types : ['alpha_9', 'alpha_11']\n",
      "\t\tsheet pairs : [[['mu_0', 'mu_4'], ['mu_1', 'mu_3']], [['mu_1', 'mu_5'], ['mu_2', 'mu_4']]]\n",
      "\n",
      "S-wall #4\troot types : ['alpha_0']\n",
      "\t\tsheet pairs : [[['mu_3', 'mu_1'], ['mu_4', 'mu_0']]]\n",
      "\n",
      "S-wall #5\troot types : ['alpha_9', 'alpha_10']\n",
      "\t\tsheet pairs : [[['mu_0', 'mu_4'], ['mu_1', 'mu_3']], [['mu_0', 'mu_5'], ['mu_2', 'mu_3']]]\n",
      "\n",
      "S-wall #6\troot types : ['alpha_5']\n",
      "\t\tsheet pairs : [[['mu_2', 'mu_1'], ['mu_4', 'mu_5']]]\n",
      "\n",
      "S-wall #7\troot types : ['alpha_8']\n",
      "\t\tsheet pairs : [[['mu_1', 'mu_2'], ['mu_5', 'mu_4']]]\n",
      "\n",
      "S-wall #8\troot types : ['alpha_8', 'alpha_3']\n",
      "\t\tsheet pairs : [[['mu_1', 'mu_2'], ['mu_5', 'mu_4']], [['mu_1', 'mu_0'], ['mu_3', 'mu_4']]]\n",
      "\n",
      "S-wall #9\troot types : ['alpha_8', 'alpha_9']\n",
      "\t\tsheet pairs : [[['mu_1', 'mu_2'], ['mu_5', 'mu_4']], [['mu_0', 'mu_4'], ['mu_1', 'mu_3']]]\n",
      "\n",
      "S-wall #10\troot types : ['alpha_5']\n",
      "\t\tsheet pairs : [[['mu_2', 'mu_1'], ['mu_4', 'mu_5']]]\n",
      "\n",
      "S-wall #11\troot types : ['alpha_8']\n",
      "\t\tsheet pairs : [[['mu_1', 'mu_2'], ['mu_5', 'mu_4']]]\n",
      "\n",
      "S-wall #12\troot types : ['alpha_10']\n",
      "\t\tsheet pairs : [[['mu_0', 'mu_5'], ['mu_2', 'mu_3']]]\n",
      "\n",
      "S-wall #13\troot types : ['alpha_1', 'alpha_0', 'alpha_9', 'alpha_11']\n",
      "\t\tsheet pairs : [[['mu_3', 'mu_2'], ['mu_5', 'mu_0']], [['mu_3', 'mu_1'], ['mu_4', 'mu_0']], [['mu_0', 'mu_4'], ['mu_1', 'mu_3']], [['mu_1', 'mu_5'], ['mu_2', 'mu_4']]]\n",
      "\n",
      "S-wall #14\troot types : ['alpha_1', 'alpha_3']\n",
      "\t\tsheet pairs : [[['mu_3', 'mu_2'], ['mu_5', 'mu_0']], [['mu_1', 'mu_0'], ['mu_3', 'mu_4']]]\n",
      "\n",
      "S-wall #15\troot types : ['alpha_11']\n",
      "\t\tsheet pairs : [[['mu_1', 'mu_5'], ['mu_2', 'mu_4']]]\n",
      "\n",
      "S-wall #16\troot types : ['alpha_2']\n",
      "\t\tsheet pairs : [[['mu_4', 'mu_2'], ['mu_5', 'mu_1']]]\n",
      "\n",
      "S-wall #17\troot types : ['alpha_11', 'alpha_3', 'alpha_4', 'alpha_3', 'alpha_3', 'alpha_8']\n",
      "\t\tsheet pairs : [[['mu_1', 'mu_5'], ['mu_2', 'mu_4']], [['mu_1', 'mu_0'], ['mu_3', 'mu_4']], [['mu_2', 'mu_0'], ['mu_3', 'mu_5']], [['mu_1', 'mu_0'], ['mu_3', 'mu_4']], [['mu_1', 'mu_0'], ['mu_3', 'mu_4']], [['mu_1', 'mu_2'], ['mu_5', 'mu_4']]]\n",
      "\n",
      "S-wall #18\troot types : ['alpha_11', 'alpha_9']\n",
      "\t\tsheet pairs : [[['mu_1', 'mu_5'], ['mu_2', 'mu_4']], [['mu_0', 'mu_4'], ['mu_1', 'mu_3']]]\n",
      "\n",
      "S-wall #19\troot types : ['alpha_2']\n",
      "\t\tsheet pairs : [[['mu_4', 'mu_2'], ['mu_5', 'mu_1']]]\n",
      "\n",
      "S-wall #20\troot types : ['alpha_6']\n",
      "\t\tsheet pairs : [[['mu_0', 'mu_1'], ['mu_4', 'mu_3']]]\n",
      "\n",
      "S-wall #21\troot types : ['alpha_9', 'alpha_8']\n",
      "\t\tsheet pairs : [[['mu_0', 'mu_4'], ['mu_1', 'mu_3']], [['mu_1', 'mu_2'], ['mu_5', 'mu_4']]]\n",
      "\n",
      "S-wall #22\troot types : ['alpha_3', 'alpha_8']\n",
      "\t\tsheet pairs : [[['mu_1', 'mu_0'], ['mu_3', 'mu_4']], [['mu_1', 'mu_2'], ['mu_5', 'mu_4']]]\n",
      "\n",
      "S-wall #23\troot types : ['alpha_1', 'alpha_1']\n",
      "\t\tsheet pairs : [[['mu_3', 'mu_2'], ['mu_5', 'mu_0']], [['mu_3', 'mu_2'], ['mu_5', 'mu_0']]]\n",
      "\n",
      "S-wall #24\troot types : ['alpha_6']\n",
      "\t\tsheet pairs : [[['mu_0', 'mu_1'], ['mu_4', 'mu_3']]]\n",
      "\n",
      "S-wall #25\troot types : ['alpha_4', 'alpha_11', 'alpha_9']\n",
      "\t\tsheet pairs : [[['mu_2', 'mu_0'], ['mu_3', 'mu_5']], [['mu_1', 'mu_5'], ['mu_2', 'mu_4']], [['mu_0', 'mu_4'], ['mu_1', 'mu_3']]]\n",
      "\n",
      "S-wall #26\troot types : ['alpha_0', 'alpha_1', 'alpha_1']\n",
      "\t\tsheet pairs : [[['mu_3', 'mu_1'], ['mu_4', 'mu_0']], [['mu_3', 'mu_2'], ['mu_5', 'mu_0']], [['mu_3', 'mu_2'], ['mu_5', 'mu_0']]]\n",
      "\n",
      "S-wall #27\troot types : ['alpha_8']\n",
      "\t\tsheet pairs : [[['mu_1', 'mu_2'], ['mu_5', 'mu_4']]]\n",
      "\n",
      "S-wall #28\troot types : ['alpha_6']\n",
      "\t\tsheet pairs : [[['mu_0', 'mu_1'], ['mu_4', 'mu_3']]]\n",
      "\n",
      "S-wall #29\troot types : ['alpha_7']\n",
      "\t\tsheet pairs : [[['mu_0', 'mu_2'], ['mu_5', 'mu_3']]]\n",
      "\n",
      "S-wall #30\troot types : ['alpha_6']\n",
      "\t\tsheet pairs : [[['mu_0', 'mu_1'], ['mu_4', 'mu_3']]]\n",
      "\n",
      "S-wall #31\troot types : ['alpha_3', 'alpha_4', 'alpha_11', 'alpha_9']\n",
      "\t\tsheet pairs : [[['mu_1', 'mu_0'], ['mu_3', 'mu_4']], [['mu_2', 'mu_0'], ['mu_3', 'mu_5']], [['mu_1', 'mu_5'], ['mu_2', 'mu_4']], [['mu_0', 'mu_4'], ['mu_1', 'mu_3']]]\n",
      "\n",
      "S-wall #32\troot types : ['alpha_3', 'alpha_4', 'alpha_11', 'alpha_9']\n",
      "\t\tsheet pairs : [[['mu_1', 'mu_0'], ['mu_3', 'mu_4']], [['mu_2', 'mu_0'], ['mu_3', 'mu_5']], [['mu_1', 'mu_5'], ['mu_2', 'mu_4']], [['mu_0', 'mu_4'], ['mu_1', 'mu_3']]]\n",
      "\n",
      "S-wall #33\troot types : ['alpha_3', 'alpha_11']\n",
      "\t\tsheet pairs : [[['mu_1', 'mu_0'], ['mu_3', 'mu_4']], [['mu_1', 'mu_5'], ['mu_2', 'mu_4']]]\n",
      "\n",
      "S-wall #34\troot types : ['alpha_10']\n",
      "\t\tsheet pairs : [[['mu_0', 'mu_5'], ['mu_2', 'mu_3']]]\n",
      "\n",
      "S-wall #35\troot types : ['alpha_8', 'alpha_9']\n",
      "\t\tsheet pairs : [[['mu_1', 'mu_2'], ['mu_5', 'mu_4']], [['mu_0', 'mu_4'], ['mu_1', 'mu_3']]]\n",
      "\n",
      "S-wall #36\troot types : ['alpha_5', 'alpha_8', 'alpha_3']\n",
      "\t\tsheet pairs : [[['mu_2', 'mu_1'], ['mu_4', 'mu_5']], [['mu_1', 'mu_2'], ['mu_5', 'mu_4']], [['mu_1', 'mu_0'], ['mu_3', 'mu_4']]]\n",
      "\n",
      "S-wall #37\troot types : ['alpha_1', 'alpha_0', 'alpha_9', 'alpha_11']\n",
      "\t\tsheet pairs : [[['mu_3', 'mu_2'], ['mu_5', 'mu_0']], [['mu_3', 'mu_1'], ['mu_4', 'mu_0']], [['mu_0', 'mu_4'], ['mu_1', 'mu_3']], [['mu_1', 'mu_5'], ['mu_2', 'mu_4']]]\n",
      "\n",
      "S-wall #38\troot types : ['alpha_6']\n",
      "\t\tsheet pairs : [[['mu_0', 'mu_1'], ['mu_4', 'mu_3']]]\n",
      "\n",
      "S-wall #39\troot types : ['alpha_8']\n",
      "\t\tsheet pairs : [[['mu_1', 'mu_2'], ['mu_5', 'mu_4']]]\n",
      "\n",
      "S-wall #40\troot types : ['alpha_7']\n",
      "\t\tsheet pairs : [[['mu_0', 'mu_2'], ['mu_5', 'mu_3']]]\n",
      "\n",
      "S-wall #41\troot types : ['alpha_3', 'alpha_8']\n",
      "\t\tsheet pairs : [[['mu_1', 'mu_0'], ['mu_3', 'mu_4']], [['mu_1', 'mu_2'], ['mu_5', 'mu_4']]]\n",
      "\n",
      "S-wall #42\troot types : ['alpha_1', 'alpha_1']\n",
      "\t\tsheet pairs : [[['mu_3', 'mu_2'], ['mu_5', 'mu_0']], [['mu_3', 'mu_2'], ['mu_5', 'mu_0']]]\n",
      "\n",
      "S-wall #43\troot types : ['alpha_11', 'alpha_9']\n",
      "\t\tsheet pairs : [[['mu_1', 'mu_5'], ['mu_2', 'mu_4']], [['mu_0', 'mu_4'], ['mu_1', 'mu_3']]]\n",
      "\n",
      "\t--- The Branch Points ---\n",
      "\n",
      "Branch point #0\tposition : (-1.03807161327-0.599330925359j)\n",
      "\t\troot type : ['alpha_4']\n",
      "\n",
      "Branch point #1\tposition : (-0.89070877516-0.273801033531j)\n",
      "\t\troot type : ['alpha_0']\n",
      "\n",
      "Branch point #2\tposition : (-0.682473038201-0.634475909897j)\n",
      "\t\troot type : ['alpha_5']\n",
      "\n",
      "Branch point #3\tposition : (0.682473038201+0.634475909897j)\n",
      "\t\troot type : ['alpha_5']\n",
      "\n",
      "Branch point #4\tposition : (0.89070877516+0.273801033531j)\n",
      "\t\troot type : ['alpha_1']\n",
      "\n",
      "Branch point #5\tposition : (1.03807161327+0.599330925359j)\n",
      "\t\troot type : ['alpha_2']\n",
      "\n",
      "\t--- The Irregular Singularities ---\n",
      "\n"
     ]
    }
   ],
   "source": [
    "snp = loom.plot(snd)"
   ]
  },
  {
   "cell_type": "code",
   "execution_count": 1,
   "metadata": {
    "collapsed": false
   },
   "outputs": [
    {
     "name": "stderr",
     "output_type": "stream",
     "text": [
      "9817: config file: default.ini\n"
     ]
    },
    {
     "name": "stdout",
     "output_type": "stream",
     "text": [
      "Use TkAgg backend for matplotlib.\n"
     ]
    }
   ],
   "source": [
    "import loom\n",
    "config = loom.load_config(\"default.ini\")"
   ]
  },
  {
   "cell_type": "code",
   "execution_count": 2,
   "metadata": {
    "collapsed": false
   },
   "outputs": [
    {
     "name": "stderr",
     "output_type": "stream",
     "text": [
      "9817: Representation data of (A2, 1) retrieved from SAGE:\n",
      "{'ffr_weights': [(1, 0, 0), (0, 1, 0), (0, 0, 1)],\n",
      " 'multiplicities': [1, 1, 1],\n",
      " 'positive_roots': [(1, -1, 0), (1, 0, -1), (0, 1, -1)],\n",
      " 'roots': [(1, -1, 0),\n",
      "           (1, 0, -1),\n",
      "           (0, 1, -1),\n",
      "           (-1, 1, 0),\n",
      "           (-1, 0, 1),\n",
      "           (0, -1, 1)],\n",
      " 'weight_basis': [(1, 0, 0), (0, 1, 0), (0, 0, 1)],\n",
      " 'weight_coefficients': [(1, 0, 0), (0, 1, 0), (0, 0, 1)],\n",
      " 'weights': [(1, 0, 0), (0, 1, 0), (0, 0, 1)]}\n",
      "9817: \n",
      "Seiberg-Witten curve: x^{3} + 1.0 x + i z^{2} + 1.0 = 0\n",
      "\n",
      "9817: \n",
      "Seiberg-Witten differential: x dz\n",
      "\n"
     ]
    }
   ],
   "source": [
    "from loom.geometry import SWData\n",
    "sw = SWData(config)"
   ]
  },
  {
   "cell_type": "code",
   "execution_count": 3,
   "metadata": {
    "collapsed": false
   },
   "outputs": [
    {
     "data": {
      "text/plain": [
       "array([ 0.21863067+1.36890747j,  0.58027425-1.0099573j ,\n",
       "       -0.79890492-0.35895017j])"
      ]
     },
     "execution_count": 3,
     "metadata": {},
     "output_type": "execute_result"
    }
   ],
   "source": [
    "sw.curve.get_xs(1)"
   ]
  },
  {
   "cell_type": "code",
   "execution_count": 4,
   "metadata": {
    "collapsed": false
   },
   "outputs": [
    {
     "data": {
      "text/plain": [
       "array([ 0.21863067+1.36890747j,  0.58027425-1.0099573j ,\n",
       "       -0.79890492-0.35895017j])"
      ]
     },
     "execution_count": 4,
     "metadata": {},
     "output_type": "execute_result"
    }
   ],
   "source": [
    "sw.curve.get_aligned_xs(1, sw.g_data)"
   ]
  },
  {
   "cell_type": "code",
   "execution_count": 1,
   "metadata": {
    "collapsed": false
   },
   "outputs": [
    {
     "name": "stderr",
     "output_type": "stream",
     "text": [
      "14560: config file: config/A_3_coset.ini\n"
     ]
    },
    {
     "name": "stdout",
     "output_type": "stream",
     "text": [
      "Use TkAgg backend for matplotlib.\n"
     ]
    }
   ],
   "source": [
    "import loom\n",
    "config = loom.load_config('config/A_3_coset.ini')"
   ]
  },
  {
   "cell_type": "code",
   "execution_count": 2,
   "metadata": {
    "collapsed": false,
    "scrolled": false
   },
   "outputs": [
    {
     "name": "stderr",
     "output_type": "stream",
     "text": [
      "14560: Representation data of (A3, 1) retrieved from SAGE:\n",
      "{'ffr_weights': [(1, 0, 0, 0), (0, 1, 0, 0), (0, 0, 1, 0), (0, 0, 0, 1)],\n",
      " 'multiplicities': [1, 1, 1, 1],\n",
      " 'positive_roots': [(1, -1, 0, 0),\n",
      "                    (1, 0, -1, 0),\n",
      "                    (0, 1, -1, 0),\n",
      "                    (1, 0, 0, -1),\n",
      "                    (0, 1, 0, -1),\n",
      "                    (0, 0, 1, -1)],\n",
      " 'roots': [(1, -1, 0, 0),\n",
      "           (1, 0, -1, 0),\n",
      "           (0, 1, -1, 0),\n",
      "           (1, 0, 0, -1),\n",
      "           (0, 1, 0, -1),\n",
      "           (0, 0, 1, -1),\n",
      "           (-1, 1, 0, 0),\n",
      "           (-1, 0, 1, 0),\n",
      "           (-1, 0, 0, 1),\n",
      "           (0, -1, 1, 0),\n",
      "           (0, -1, 0, 1),\n",
      "           (0, 0, -1, 1)],\n",
      " 'weight_basis': [(1, 0, 0, 0), (0, 1, 0, 0), (0, 0, 1, 0), (0, 0, 0, 1)],\n",
      " 'weight_coefficients': [(1, 0, 0, 0),\n",
      "                         (0, 1, 0, 0),\n",
      "                         (0, 0, 1, 0),\n",
      "                         (0, 0, 0, 1)],\n",
      " 'weights': [(1, 0, 0, 0), (0, 1, 0, 0), (0, 0, 1, 0), (0, 0, 0, 1)]}\n",
      "14560: Option 'mt_params' not specified; use None.\n",
      "14560: \n",
      "Seiberg-Witten curve: x^{4} + 1.0 x^{2} + 0.25 x + i z^{2} = 0\n",
      "\n",
      "14560: \n",
      "Seiberg-Witten differential: x dz\n",
      "\n",
      "14560: Option 'punctures' not specified; use None.\n"
     ]
    }
   ],
   "source": [
    "from loom.geometry import SWData\n",
    "sw = SWData(config)"
   ]
  },
  {
   "cell_type": "code",
   "execution_count": 3,
   "metadata": {
    "collapsed": false
   },
   "outputs": [
    {
     "data": {
      "text/plain": [
       "array([ 0.31267184+1.20809361j, -0.75235641+0.40626179j,\n",
       "       -0.21517636-1.13224468j,  0.65486094-0.48211072j])"
      ]
     },
     "execution_count": 3,
     "metadata": {},
     "output_type": "execute_result"
    }
   ],
   "source": [
    "sw.curve.get_xs(1)"
   ]
  },
  {
   "cell_type": "code",
   "execution_count": 4,
   "metadata": {
    "collapsed": false
   },
   "outputs": [
    {
     "data": {
      "text/plain": [
       "array([ 0.31267184+1.20809361j, -0.75235641+0.40626179j,\n",
       "       -0.21517636-1.13224468j,  0.65486094-0.48211072j])"
      ]
     },
     "execution_count": 4,
     "metadata": {},
     "output_type": "execute_result"
    }
   ],
   "source": [
    "sw.curve.get_aligned_xs(1, sw.g_data)"
   ]
  },
  {
   "cell_type": "code",
   "execution_count": 5,
   "metadata": {
    "collapsed": false
   },
   "outputs": [
    {
     "name": "stderr",
     "output_type": "stream",
     "text": [
      "14560: Representation data of (A3, 2) retrieved from SAGE:\n",
      "{'ffr_weights': [(1, 0, 0, 0), (0, 1, 0, 0), (0, 0, 1, 0), (0, 0, 0, 1)],\n",
      " 'multiplicities': [1, 1, 1, 1, 1, 1],\n",
      " 'positive_roots': [(1, -1, 0, 0),\n",
      "                    (1, 0, -1, 0),\n",
      "                    (0, 1, -1, 0),\n",
      "                    (1, 0, 0, -1),\n",
      "                    (0, 1, 0, -1),\n",
      "                    (0, 0, 1, -1)],\n",
      " 'roots': [(1, -1, 0, 0),\n",
      "           (1, 0, -1, 0),\n",
      "           (0, 1, -1, 0),\n",
      "           (1, 0, 0, -1),\n",
      "           (0, 1, 0, -1),\n",
      "           (0, 0, 1, -1),\n",
      "           (-1, 1, 0, 0),\n",
      "           (-1, 0, 1, 0),\n",
      "           (-1, 0, 0, 1),\n",
      "           (0, -1, 1, 0),\n",
      "           (0, -1, 0, 1),\n",
      "           (0, 0, -1, 1)],\n",
      " 'weight_basis': [(1, 0, 0, 0), (0, 1, 0, 0), (0, 0, 1, 0), (0, 0, 0, 1)],\n",
      " 'weight_coefficients': [(0, 0, 1, 1),\n",
      "                         (0, 1, 1, 0),\n",
      "                         (0, 1, 0, 1),\n",
      "                         (1, 1, 0, 0),\n",
      "                         (1, 0, 0, 1),\n",
      "                         (1, 0, 1, 0)],\n",
      " 'weights': [(0, 0, 1, 1),\n",
      "             (0, 1, 1, 0),\n",
      "             (0, 1, 0, 1),\n",
      "             (1, 1, 0, 0),\n",
      "             (1, 0, 0, 1),\n",
      "             (1, 0, 1, 0)]}\n",
      "loom/geometry.py:132: UserWarning: class SWCurve with a general representation is not implemented yet.\n",
      "  warn('class SWCurve with a general representation '\n",
      "14560: \n",
      "Seiberg-Witten curve: \\mathrm{None} = 0\n",
      "\n",
      "14560: \n",
      "Seiberg-Witten differential: x dz\n",
      "\n"
     ]
    }
   ],
   "source": [
    "config['representation'] = '2'\n",
    "sw = SWData(config)"
   ]
  },
  {
   "cell_type": "code",
   "execution_count": 6,
   "metadata": {
    "collapsed": false
   },
   "outputs": [
    {
     "ename": "AttributeError",
     "evalue": "'NoneType' object has no attribute 'subs'",
     "output_type": "error",
     "traceback": [
      "\u001b[1;31m---------------------------------------------------------------------------\u001b[0m",
      "\u001b[1;31mAttributeError\u001b[0m                            Traceback (most recent call last)",
      "\u001b[1;32m<ipython-input-6-7de288dc43bb>\u001b[0m in \u001b[0;36m<module>\u001b[1;34m()\u001b[0m\n\u001b[1;32m----> 1\u001b[1;33m \u001b[0msw\u001b[0m\u001b[1;33m.\u001b[0m\u001b[0mcurve\u001b[0m\u001b[1;33m.\u001b[0m\u001b[0mget_xs\u001b[0m\u001b[1;33m(\u001b[0m\u001b[1;36m1\u001b[0m\u001b[1;33m)\u001b[0m\u001b[1;33m\u001b[0m\u001b[0m\n\u001b[0m",
      "\u001b[1;32m/home/chan/loom/loom/geometry.py\u001b[0m in \u001b[0;36mget_xs\u001b[1;34m(self, z_0, for_ffr)\u001b[0m\n\u001b[0;32m    144\u001b[0m         \u001b[1;32melse\u001b[0m\u001b[1;33m:\u001b[0m\u001b[1;33m\u001b[0m\u001b[0m\n\u001b[0;32m    145\u001b[0m             \u001b[0meq\u001b[0m \u001b[1;33m=\u001b[0m \u001b[0mself\u001b[0m\u001b[1;33m.\u001b[0m\u001b[0mnum_eq\u001b[0m\u001b[1;33m\u001b[0m\u001b[0m\n\u001b[1;32m--> 146\u001b[1;33m         \u001b[0mfx\u001b[0m \u001b[1;33m=\u001b[0m \u001b[0meq\u001b[0m\u001b[1;33m.\u001b[0m\u001b[0msubs\u001b[0m\u001b[1;33m(\u001b[0m\u001b[0mz\u001b[0m\u001b[1;33m,\u001b[0m \u001b[0mz_0\u001b[0m\u001b[1;33m)\u001b[0m\u001b[1;33m\u001b[0m\u001b[0m\n\u001b[0m\u001b[0;32m    147\u001b[0m         \u001b[1;31m#xs = sympy.solve(fx, x)\u001b[0m\u001b[1;33m\u001b[0m\u001b[1;33m\u001b[0m\u001b[0m\n\u001b[0;32m    148\u001b[0m         \u001b[1;31m### The following may fail when the curve is not a polynomial.\u001b[0m\u001b[1;33m\u001b[0m\u001b[1;33m\u001b[0m\u001b[0m\n",
      "\u001b[1;31mAttributeError\u001b[0m: 'NoneType' object has no attribute 'subs'"
     ]
    }
   ],
   "source": [
    "sw.curve.get_xs(1)"
   ]
  },
  {
   "cell_type": "code",
   "execution_count": 7,
   "metadata": {
    "collapsed": false
   },
   "outputs": [
    {
     "data": {
      "text/plain": [
       "array([ 0.43968458-1.6143554j , -0.96753278-0.72598289j,\n",
       "       -0.09749548-0.07584893j, -0.43968458+1.6143554j ,\n",
       "        0.96753278+0.72598289j,  0.09749548+0.07584893j])"
      ]
     },
     "execution_count": 7,
     "metadata": {},
     "output_type": "execute_result"
    }
   ],
   "source": [
    "sw.curve.get_aligned_xs(1, sw.g_data)"
   ]
  },
  {
   "cell_type": "code",
   "execution_count": null,
   "metadata": {
    "collapsed": true
   },
   "outputs": [],
   "source": []
  }
 ],
 "metadata": {
  "kernelspec": {
   "display_name": "Python 2",
   "language": "python",
   "name": "python2"
  },
  "language_info": {
   "codemirror_mode": {
    "name": "ipython",
    "version": 2
   },
   "file_extension": ".py",
   "mimetype": "text/x-python",
   "name": "python",
   "nbconvert_exporter": "python",
   "pygments_lexer": "ipython2",
   "version": "2.7.10"
  }
 },
 "nbformat": 4,
 "nbformat_minor": 0
}
