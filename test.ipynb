{
 "cells": [
  {
   "cell_type": "code",
   "execution_count": 1,
   "metadata": {
    "collapsed": false
   },
   "outputs": [
    {
     "name": "stdout",
     "output_type": "stream",
     "text": [
      "Use TkAgg backend for matplotlib.\n"
     ]
    }
   ],
   "source": [
    "%matplotlib tk\n",
    "#%matplotlib nbagg\n",
    "from pprint import pprint\n",
    "import loom"
   ]
  },
  {
   "cell_type": "code",
   "execution_count": 2,
   "metadata": {
    "collapsed": false
   },
   "outputs": [
    {
     "name": "stderr",
     "output_type": "stream",
     "text": [
      "9960: config file: default.ini\n"
     ]
    }
   ],
   "source": [
    "config = loom.load_config(\"default.ini\")"
   ]
  },
  {
   "cell_type": "code",
   "execution_count": 3,
   "metadata": {
    "collapsed": false
   },
   "outputs": [
    {
     "name": "stderr",
     "output_type": "stream",
     "text": [
      "9960: Representation data of (A2, 1) retrieved from SAGE:\n",
      "{'ffr_weights': [(1, 0, 0), (0, 1, 0), (0, 0, 1)],\n",
      " 'multiplicities': [1, 1, 1],\n",
      " 'positive_roots': [(1, -1, 0), (1, 0, -1), (0, 1, -1)],\n",
      " 'roots': [(1, -1, 0),\n",
      "           (1, 0, -1),\n",
      "           (0, 1, -1),\n",
      "           (-1, 1, 0),\n",
      "           (-1, 0, 1),\n",
      "           (0, -1, 1)],\n",
      " 'weight_basis': [(1, 0, 0), (0, 1, 0), (0, 0, 1)],\n",
      " 'weight_coefficients': [(1, 0, 0), (0, 1, 0), (0, 0, 1)],\n",
      " 'weights': [(1, 0, 0), (0, 1, 0), (0, 0, 1)]}\n",
      "9960: Seiberg-Witten curve in the 1st fundamental representation: x^{3} + 1.0 x + i z^{2} + 1.0 = 0\n",
      "9960: \n",
      "Seiberg-Witten differential: x dz\n",
      "\n",
      "9960: Calculating ramification points of the Seiberg-Witten curve in the first fundamental rep.\n",
      "9960: ramification point #0: z = (-0.853351314138-0.585925153822j), x = -0.57735026919j, i = 2.\n",
      "9960: ramification point #1: z = (0.853351314138+0.585925153822j), x = -0.57735026919j, i = 2.\n",
      "9960: ramification point #2: z = (-0.585925153822-0.853351314138j), x = 0.57735026919j, i = 2.\n",
      "9960: ramification point #3: z = (0.585925153822+0.853351314138j), x = 0.57735026919j, i = 2.\n",
      "9960: Getting aligned x's at the base point z = -2.07028186605j.\n",
      "9960: Analyzing a branch point at z = (-0.853351314138-0.585925153822j).\n",
      "9960: Analyzing a branch point at z = (0.853351314138+0.585925153822j).\n",
      "9960: Analyzing a branch point at z = (-0.585925153822-0.853351314138j).\n",
      "9960: Analyzing a branch point at z = (0.585925153822+0.853351314138j).\n",
      "9960: start cpu time: 1439253373.63\n",
      "9960: Generate multiple spectral networks.\n",
      "9960: phase_range = [0.01, 3.14, 5].\n",
      "9960: Number of processes in the pool: 4\n",
      "9960: end cpu time: 1439253378.57402492\n",
      "10117: Start generating spectral network #1/5: theta = 0.01.\n",
      "10120: Start generating spectral network #2/5: theta = 0.7925.\n",
      "10129: Start generating spectral network #4/5: theta = 2.3575.\n",
      "10124: Start generating spectral network #3/5: theta = 1.575.\n",
      "10117: Start growing a new spectral network...\n",
      "10120: Start growing a new spectral network...\n",
      "10129: Start growing a new spectral network...\n",
      "10124: Start growing a new spectral network...\n",
      "10117: Seed S-walls at ramification points...\n",
      "10120: Seed S-walls at ramification points...\n",
      "10129: Seed S-walls at ramification points...\n",
      "10124: Seed S-walls at ramification points...\n",
      "10117: Setup the ODE integrator...\n",
      "10120: Setup the ODE integrator...\n",
      "10129: Setup the ODE integrator...\n",
      "10124: Setup the ODE integrator...\n",
      "10117: Start growing a new spectral network...\n",
      "10120: Start growing a new spectral network...\n",
      "10129: Start growing a new spectral network...\n",
      "10124: Start growing a new spectral network...\n",
      "10117: Growing S-wall #0...\n",
      "10120: Growing S-wall #0...\n",
      "10129: Growing S-wall #0...\n",
      "10124: Growing S-wall #0...\n",
      "10117: Using CGAL to find intersections.\n",
      "10120: Using CGAL to find intersections.\n",
      "10129: Using CGAL to find intersections.\n",
      "10124: Using CGAL to find intersections.\n",
      "10117: Growing S-wall #1...\n",
      "10120: Growing S-wall #1...\n",
      "10129: Growing S-wall #1...\n",
      "10124: Growing S-wall #1...\n",
      "10117: Using CGAL to find intersections.\n",
      "10120: Using CGAL to find intersections.\n",
      "10129: Using CGAL to find intersections.\n",
      "10124: Using CGAL to find intersections.\n",
      "10117: Growing S-wall #2...\n",
      "10120: Growing S-wall #2...\n",
      "10129: Growing S-wall #2...\n",
      "10124: Growing S-wall #2...\n",
      "10117: Using CGAL to find intersections.\n",
      "10120: Using CGAL to find intersections.\n",
      "10129: Using CGAL to find intersections.\n",
      "10124: Using CGAL to find intersections.\n",
      "10117: Growing S-wall #3...\n",
      "10120: Growing S-wall #3...\n",
      "10129: Growing S-wall #3...\n",
      "10124: Growing S-wall #3...\n",
      "10117: Using CGAL to find intersections.\n",
      "10120: Using CGAL to find intersections.\n",
      "10129: Using CGAL to find intersections.\n",
      "10124: Using CGAL to find intersections.\n",
      "10117: Growing S-wall #4...\n",
      "10120: Growing S-wall #4...\n",
      "10129: Growing S-wall #4...\n",
      "10124: Growing S-wall #4...\n",
      "10117: Using CGAL to find intersections.\n",
      "10120: Using CGAL to find intersections.\n",
      "10129: Using CGAL to find intersections.\n",
      "10124: Using CGAL to find intersections.\n",
      "10117: Growing S-wall #5...\n",
      "10120: Growing S-wall #5...\n",
      "10129: Growing S-wall #5...\n",
      "10124: Growing S-wall #5...\n",
      "10117: Using CGAL to find intersections.\n",
      "10120: Using CGAL to find intersections.\n",
      "10129: Using CGAL to find intersections.\n",
      "10124: Using CGAL to find intersections.\n",
      "10117: Growing S-wall #6...\n",
      "10120: Growing S-wall #6...\n",
      "10129: Growing S-wall #6...\n",
      "10124: Growing S-wall #6...\n",
      "10117: Using CGAL to find intersections.\n",
      "10120: Using CGAL to find intersections.\n",
      "10129: Using CGAL to find intersections.\n",
      "10124: Using CGAL to find intersections.\n",
      "10117: Growing S-wall #7...\n",
      "10120: Growing S-wall #7...\n",
      "10129: Growing S-wall #7...\n",
      "10124: Growing S-wall #7...\n",
      "10117: Using CGAL to find intersections.\n",
      "10120: Using CGAL to find intersections.\n",
      "10129: Using CGAL to find intersections.\n",
      "10124: Using CGAL to find intersections.\n",
      "10117: Growing S-wall #8...\n",
      "10120: Growing S-wall #8...\n",
      "10129: Growing S-wall #8...\n",
      "10124: Growing S-wall #8...\n",
      "10117: Using CGAL to find intersections.\n",
      "10120: Using CGAL to find intersections.\n",
      "10129: Using CGAL to find intersections.\n",
      "10124: Using CGAL to find intersections.\n",
      "10117: Growing S-wall #9...\n",
      "10120: Growing S-wall #9...\n",
      "10129: Growing S-wall #9...\n",
      "10124: Growing S-wall #9...\n",
      "10117: Using CGAL to find intersections.\n",
      "10120: Using CGAL to find intersections.\n",
      "10129: Using CGAL to find intersections.\n",
      "10124: Using CGAL to find intersections.\n",
      "10117: Growing S-wall #10...\n",
      "10120: Growing S-wall #10...\n",
      "10129: Growing S-wall #10...\n",
      "10124: Growing S-wall #10...\n",
      "10117: Using CGAL to find intersections.\n",
      "10120: Using CGAL to find intersections.\n",
      "10129: Using CGAL to find intersections.\n",
      "10124: Using CGAL to find intersections.\n",
      "10117: Growing S-wall #11...\n",
      "10120: Growing S-wall #11...\n",
      "10129: Growing S-wall #11...\n",
      "10124: Growing S-wall #11...\n",
      "10117: Using CGAL to find intersections.\n",
      "10120: Using CGAL to find intersections.\n",
      "10129: Using CGAL to find intersections.\n",
      "10124: Using CGAL to find intersections.\n",
      "10117: Growing S-walls in iteration #0 finished; start finding joints of S-walls.\n",
      "10120: Growing S-walls in iteration #0 finished; start finding joints of S-walls.\n",
      "10129: Growing S-walls in iteration #0 finished; start finding joints of S-walls.\n",
      "10124: Growing S-walls in iteration #0 finished; start finding joints of S-walls.\n",
      "10117: Iteration #1 finished.\n",
      "10120: Iteration #1 finished.\n",
      "10129: Iteration #1 finished.\n",
      "10124: Iteration #1 finished.\n",
      "10117: Growing S-wall #12...\n",
      "10120: Growing S-wall #12...\n",
      "10129: Growing S-wall #12...\n",
      "10124: Growing S-wall #12...\n",
      "9960: elapsed cpu time: 4.94697881\n",
      "10117: Using CGAL to find intersections.\n",
      "10120: Using CGAL to find intersections.\n",
      "10129: Using CGAL to find intersections.\n",
      "10124: Using CGAL to find intersections.\n",
      "10117: Growing S-wall #13...\n",
      "10120: Growing S-wall #13...\n",
      "10129: Growing S-wall #13...\n",
      "10124: Growing S-wall #13...\n",
      "10117: Using CGAL to find intersections.\n",
      "10120: Using CGAL to find intersections.\n",
      "10129: Using CGAL to find intersections.\n",
      "10124: Using CGAL to find intersections.\n",
      "10117: Growing S-wall #14...\n",
      "10120: Growing S-wall #14...\n",
      "10129: Growing S-wall #14...\n",
      "10124: Growing S-wall #14...\n",
      "10117: Using CGAL to find intersections.\n",
      "10120: Using CGAL to find intersections.\n",
      "10129: Using CGAL to find intersections.\n",
      "10124: Using CGAL to find intersections.\n",
      "10117: Growing S-wall #15...\n",
      "10120: Growing S-wall #15...\n",
      "10129: Growing S-wall #15...\n",
      "10124: Growing S-wall #15...\n",
      "10117: Using CGAL to find intersections.\n",
      "10120: Using CGAL to find intersections.\n",
      "10129: Using CGAL to find intersections.\n",
      "10124: Using CGAL to find intersections.\n",
      "10117: Growing S-wall #16...\n",
      "10120: Growing S-wall #16...\n",
      "10129: Growing S-walls in iteration #1 finished; start finding joints of S-walls.\n",
      "10124: Growing S-wall #16...\n",
      "10117: Using CGAL to find intersections.\n",
      "10120: Using CGAL to find intersections.\n",
      "10129: Iteration #2 finished.\n",
      "10124: Using CGAL to find intersections.\n",
      "10117: Growing S-wall #17...\n",
      "10120: Growing S-wall #17...\n",
      "10129: Growing S-wall #16...\n",
      "10124: Growing S-wall #17...\n",
      "10117: Using CGAL to find intersections.\n",
      "10120: Using CGAL to find intersections.\n",
      "10129: Using CGAL to find intersections.\n",
      "10124: Using CGAL to find intersections.\n",
      "10117: No additional joint found: Stop growing this spectral network at iteration #1.\n",
      "10120: No additional joint found: Stop growing this spectral network at iteration #1.\n",
      "10129: Growing S-wall #17...\n",
      "10124: No additional joint found: Stop growing this spectral network at iteration #1.\n",
      "10117: Finished generating spectral network #2/5.\n",
      "10120: Finished generating spectral network #1/5.\n",
      "10129: Using CGAL to find intersections.\n",
      "10124: Finished generating spectral network #3/5.\n",
      "10129: Growing S-wall #18...\n",
      "10120: Start generating spectral network #5/5: theta = 3.14.\n",
      "10129: Using CGAL to find intersections.\n",
      "10120: Start growing a new spectral network...\n",
      "10129: Growing S-wall #19...\n",
      "10120: Seed S-walls at ramification points...\n",
      "10129: Using CGAL to find intersections.\n",
      "10120: Setup the ODE integrator...\n",
      "10129: Growing S-walls in iteration #2 finished; start finding joints of S-walls.\n",
      "10120: Start growing a new spectral network...\n",
      "10129: Iteration #3 finished.\n",
      "10120: Growing S-wall #0...\n",
      "10129: Growing S-wall #20...\n",
      "10120: Using CGAL to find intersections.\n",
      "10129: Using CGAL to find intersections.\n",
      "10120: Growing S-wall #1...\n",
      "10129: Growing S-wall #21...\n",
      "10120: Using CGAL to find intersections.\n",
      "10129: Using CGAL to find intersections.\n",
      "10120: Growing S-wall #2...\n",
      "10129: No additional joint found: Stop growing this spectral network at iteration #3.\n",
      "10120: Using CGAL to find intersections.\n",
      "10129: Finished generating spectral network #4/5.\n",
      "10120: Growing S-wall #3...\n",
      "10120: Using CGAL to find intersections.\n",
      "10120: Growing S-wall #4...\n",
      "10120: Using CGAL to find intersections.\n",
      "10120: Growing S-wall #5...\n",
      "10120: Using CGAL to find intersections.\n",
      "10120: Growing S-wall #6...\n",
      "10120: Using CGAL to find intersections.\n",
      "10120: Growing S-wall #7...\n",
      "10120: Using CGAL to find intersections.\n",
      "10120: Growing S-wall #8...\n",
      "10120: Using CGAL to find intersections.\n",
      "10120: Growing S-wall #9...\n",
      "10120: Using CGAL to find intersections.\n",
      "10120: Growing S-wall #10...\n",
      "10120: Using CGAL to find intersections.\n",
      "10120: Growing S-wall #11...\n",
      "10120: Using CGAL to find intersections.\n",
      "10120: Growing S-walls in iteration #0 finished; start finding joints of S-walls.\n",
      "10120: Iteration #1 finished.\n",
      "10120: Growing S-wall #12...\n",
      "10120: Using CGAL to find intersections.\n",
      "10120: Growing S-wall #13...\n",
      "10120: Using CGAL to find intersections.\n",
      "10120: Growing S-wall #14...\n",
      "10120: Using CGAL to find intersections.\n",
      "10120: Growing S-wall #15...\n",
      "10120: Using CGAL to find intersections.\n",
      "10120: Growing S-wall #16...\n",
      "10120: Using CGAL to find intersections.\n",
      "10120: Growing S-wall #17...\n",
      "10120: Using CGAL to find intersections.\n",
      "10120: No additional joint found: Stop growing this spectral network at iteration #1.\n",
      "10120: Finished generating spectral network #5/5.\n"
     ]
    }
   ],
   "source": [
    "#snd = loom.generate(config, phase=1.0)\n",
    "snd = loom.generate(config)"
   ]
  },
  {
   "cell_type": "code",
   "execution_count": 4,
   "metadata": {
    "collapsed": false
   },
   "outputs": [
    {
     "name": "stderr",
     "output_type": "stream",
     "text": [
      "9960: Generating the plot of a spectral network @ theta = 0.01...\n",
      "9960: Generating the plot of a spectral network @ theta = 0.7925...\n",
      "9960: Generating the plot of a spectral network @ theta = 1.575...\n",
      "9960: Generating the plot of a spectral network @ theta = 2.3575...\n",
      "9960: Generating the plot of a spectral network @ theta = 3.14...\n"
     ]
    }
   ],
   "source": [
    "snp = loom.plot(snd)"
   ]
  },
  {
   "cell_type": "code",
   "execution_count": 1,
   "metadata": {
    "collapsed": false
   },
   "outputs": [
    {
     "name": "stderr",
     "output_type": "stream",
     "text": [
      "9817: config file: default.ini\n"
     ]
    },
    {
     "name": "stdout",
     "output_type": "stream",
     "text": [
      "Use TkAgg backend for matplotlib.\n"
     ]
    }
   ],
   "source": [
    "import loom\n",
    "config = loom.load_config(\"default.ini\")"
   ]
  },
  {
   "cell_type": "code",
   "execution_count": 2,
   "metadata": {
    "collapsed": false
   },
   "outputs": [
    {
     "name": "stderr",
     "output_type": "stream",
     "text": [
      "9817: Representation data of (A2, 1) retrieved from SAGE:\n",
      "{'ffr_weights': [(1, 0, 0), (0, 1, 0), (0, 0, 1)],\n",
      " 'multiplicities': [1, 1, 1],\n",
      " 'positive_roots': [(1, -1, 0), (1, 0, -1), (0, 1, -1)],\n",
      " 'roots': [(1, -1, 0),\n",
      "           (1, 0, -1),\n",
      "           (0, 1, -1),\n",
      "           (-1, 1, 0),\n",
      "           (-1, 0, 1),\n",
      "           (0, -1, 1)],\n",
      " 'weight_basis': [(1, 0, 0), (0, 1, 0), (0, 0, 1)],\n",
      " 'weight_coefficients': [(1, 0, 0), (0, 1, 0), (0, 0, 1)],\n",
      " 'weights': [(1, 0, 0), (0, 1, 0), (0, 0, 1)]}\n",
      "9817: \n",
      "Seiberg-Witten curve: x^{3} + 1.0 x + i z^{2} + 1.0 = 0\n",
      "\n",
      "9817: \n",
      "Seiberg-Witten differential: x dz\n",
      "\n"
     ]
    }
   ],
   "source": [
    "from loom.geometry import SWData\n",
    "sw = SWData(config)"
   ]
  },
  {
   "cell_type": "code",
   "execution_count": 3,
   "metadata": {
    "collapsed": false
   },
   "outputs": [
    {
     "data": {
      "text/plain": [
       "array([ 0.21863067+1.36890747j,  0.58027425-1.0099573j ,\n",
       "       -0.79890492-0.35895017j])"
      ]
     },
     "execution_count": 3,
     "metadata": {},
     "output_type": "execute_result"
    }
   ],
   "source": [
    "sw.curve.get_xs(1)"
   ]
  },
  {
   "cell_type": "code",
   "execution_count": 4,
   "metadata": {
    "collapsed": false
   },
   "outputs": [
    {
     "data": {
      "text/plain": [
       "array([ 0.21863067+1.36890747j,  0.58027425-1.0099573j ,\n",
       "       -0.79890492-0.35895017j])"
      ]
     },
     "execution_count": 4,
     "metadata": {},
     "output_type": "execute_result"
    }
   ],
   "source": [
    "sw.curve.get_aligned_xs(1, sw.g_data)"
   ]
  },
  {
   "cell_type": "code",
   "execution_count": 1,
   "metadata": {
    "collapsed": false
   },
   "outputs": [
    {
     "name": "stderr",
     "output_type": "stream",
     "text": [
      "14560: config file: config/A_3_coset.ini\n"
     ]
    },
    {
     "name": "stdout",
     "output_type": "stream",
     "text": [
      "Use TkAgg backend for matplotlib.\n"
     ]
    }
   ],
   "source": [
    "import loom\n",
    "config = loom.load_config('config/A_3_coset.ini')"
   ]
  },
  {
   "cell_type": "code",
   "execution_count": 2,
   "metadata": {
    "collapsed": false,
    "scrolled": false
   },
   "outputs": [
    {
     "name": "stderr",
     "output_type": "stream",
     "text": [
      "14560: Representation data of (A3, 1) retrieved from SAGE:\n",
      "{'ffr_weights': [(1, 0, 0, 0), (0, 1, 0, 0), (0, 0, 1, 0), (0, 0, 0, 1)],\n",
      " 'multiplicities': [1, 1, 1, 1],\n",
      " 'positive_roots': [(1, -1, 0, 0),\n",
      "                    (1, 0, -1, 0),\n",
      "                    (0, 1, -1, 0),\n",
      "                    (1, 0, 0, -1),\n",
      "                    (0, 1, 0, -1),\n",
      "                    (0, 0, 1, -1)],\n",
      " 'roots': [(1, -1, 0, 0),\n",
      "           (1, 0, -1, 0),\n",
      "           (0, 1, -1, 0),\n",
      "           (1, 0, 0, -1),\n",
      "           (0, 1, 0, -1),\n",
      "           (0, 0, 1, -1),\n",
      "           (-1, 1, 0, 0),\n",
      "           (-1, 0, 1, 0),\n",
      "           (-1, 0, 0, 1),\n",
      "           (0, -1, 1, 0),\n",
      "           (0, -1, 0, 1),\n",
      "           (0, 0, -1, 1)],\n",
      " 'weight_basis': [(1, 0, 0, 0), (0, 1, 0, 0), (0, 0, 1, 0), (0, 0, 0, 1)],\n",
      " 'weight_coefficients': [(1, 0, 0, 0),\n",
      "                         (0, 1, 0, 0),\n",
      "                         (0, 0, 1, 0),\n",
      "                         (0, 0, 0, 1)],\n",
      " 'weights': [(1, 0, 0, 0), (0, 1, 0, 0), (0, 0, 1, 0), (0, 0, 0, 1)]}\n",
      "14560: Option 'mt_params' not specified; use None.\n",
      "14560: \n",
      "Seiberg-Witten curve: x^{4} + 1.0 x^{2} + 0.25 x + i z^{2} = 0\n",
      "\n",
      "14560: \n",
      "Seiberg-Witten differential: x dz\n",
      "\n",
      "14560: Option 'punctures' not specified; use None.\n"
     ]
    }
   ],
   "source": [
    "from loom.geometry import SWData\n",
    "sw = SWData(config)"
   ]
  },
  {
   "cell_type": "code",
   "execution_count": 3,
   "metadata": {
    "collapsed": false
   },
   "outputs": [
    {
     "data": {
      "text/plain": [
       "array([ 0.31267184+1.20809361j, -0.75235641+0.40626179j,\n",
       "       -0.21517636-1.13224468j,  0.65486094-0.48211072j])"
      ]
     },
     "execution_count": 3,
     "metadata": {},
     "output_type": "execute_result"
    }
   ],
   "source": [
    "sw.curve.get_xs(1)"
   ]
  },
  {
   "cell_type": "code",
   "execution_count": 4,
   "metadata": {
    "collapsed": false
   },
   "outputs": [
    {
     "data": {
      "text/plain": [
       "array([ 0.31267184+1.20809361j, -0.75235641+0.40626179j,\n",
       "       -0.21517636-1.13224468j,  0.65486094-0.48211072j])"
      ]
     },
     "execution_count": 4,
     "metadata": {},
     "output_type": "execute_result"
    }
   ],
   "source": [
    "sw.curve.get_aligned_xs(1, sw.g_data)"
   ]
  },
  {
   "cell_type": "code",
   "execution_count": 5,
   "metadata": {
    "collapsed": false
   },
   "outputs": [
    {
     "name": "stderr",
     "output_type": "stream",
     "text": [
      "14560: Representation data of (A3, 2) retrieved from SAGE:\n",
      "{'ffr_weights': [(1, 0, 0, 0), (0, 1, 0, 0), (0, 0, 1, 0), (0, 0, 0, 1)],\n",
      " 'multiplicities': [1, 1, 1, 1, 1, 1],\n",
      " 'positive_roots': [(1, -1, 0, 0),\n",
      "                    (1, 0, -1, 0),\n",
      "                    (0, 1, -1, 0),\n",
      "                    (1, 0, 0, -1),\n",
      "                    (0, 1, 0, -1),\n",
      "                    (0, 0, 1, -1)],\n",
      " 'roots': [(1, -1, 0, 0),\n",
      "           (1, 0, -1, 0),\n",
      "           (0, 1, -1, 0),\n",
      "           (1, 0, 0, -1),\n",
      "           (0, 1, 0, -1),\n",
      "           (0, 0, 1, -1),\n",
      "           (-1, 1, 0, 0),\n",
      "           (-1, 0, 1, 0),\n",
      "           (-1, 0, 0, 1),\n",
      "           (0, -1, 1, 0),\n",
      "           (0, -1, 0, 1),\n",
      "           (0, 0, -1, 1)],\n",
      " 'weight_basis': [(1, 0, 0, 0), (0, 1, 0, 0), (0, 0, 1, 0), (0, 0, 0, 1)],\n",
      " 'weight_coefficients': [(0, 0, 1, 1),\n",
      "                         (0, 1, 1, 0),\n",
      "                         (0, 1, 0, 1),\n",
      "                         (1, 1, 0, 0),\n",
      "                         (1, 0, 0, 1),\n",
      "                         (1, 0, 1, 0)],\n",
      " 'weights': [(0, 0, 1, 1),\n",
      "             (0, 1, 1, 0),\n",
      "             (0, 1, 0, 1),\n",
      "             (1, 1, 0, 0),\n",
      "             (1, 0, 0, 1),\n",
      "             (1, 0, 1, 0)]}\n",
      "loom/geometry.py:132: UserWarning: class SWCurve with a general representation is not implemented yet.\n",
      "  warn('class SWCurve with a general representation '\n",
      "14560: \n",
      "Seiberg-Witten curve: \\mathrm{None} = 0\n",
      "\n",
      "14560: \n",
      "Seiberg-Witten differential: x dz\n",
      "\n"
     ]
    }
   ],
   "source": [
    "config['representation'] = '2'\n",
    "sw = SWData(config)"
   ]
  },
  {
   "cell_type": "code",
   "execution_count": 6,
   "metadata": {
    "collapsed": false
   },
   "outputs": [
    {
     "ename": "AttributeError",
     "evalue": "'NoneType' object has no attribute 'subs'",
     "output_type": "error",
     "traceback": [
      "\u001b[1;31m---------------------------------------------------------------------------\u001b[0m",
      "\u001b[1;31mAttributeError\u001b[0m                            Traceback (most recent call last)",
      "\u001b[1;32m<ipython-input-6-7de288dc43bb>\u001b[0m in \u001b[0;36m<module>\u001b[1;34m()\u001b[0m\n\u001b[1;32m----> 1\u001b[1;33m \u001b[0msw\u001b[0m\u001b[1;33m.\u001b[0m\u001b[0mcurve\u001b[0m\u001b[1;33m.\u001b[0m\u001b[0mget_xs\u001b[0m\u001b[1;33m(\u001b[0m\u001b[1;36m1\u001b[0m\u001b[1;33m)\u001b[0m\u001b[1;33m\u001b[0m\u001b[0m\n\u001b[0m",
      "\u001b[1;32m/home/chan/loom/loom/geometry.py\u001b[0m in \u001b[0;36mget_xs\u001b[1;34m(self, z_0, for_ffr)\u001b[0m\n\u001b[0;32m    144\u001b[0m         \u001b[1;32melse\u001b[0m\u001b[1;33m:\u001b[0m\u001b[1;33m\u001b[0m\u001b[0m\n\u001b[0;32m    145\u001b[0m             \u001b[0meq\u001b[0m \u001b[1;33m=\u001b[0m \u001b[0mself\u001b[0m\u001b[1;33m.\u001b[0m\u001b[0mnum_eq\u001b[0m\u001b[1;33m\u001b[0m\u001b[0m\n\u001b[1;32m--> 146\u001b[1;33m         \u001b[0mfx\u001b[0m \u001b[1;33m=\u001b[0m \u001b[0meq\u001b[0m\u001b[1;33m.\u001b[0m\u001b[0msubs\u001b[0m\u001b[1;33m(\u001b[0m\u001b[0mz\u001b[0m\u001b[1;33m,\u001b[0m \u001b[0mz_0\u001b[0m\u001b[1;33m)\u001b[0m\u001b[1;33m\u001b[0m\u001b[0m\n\u001b[0m\u001b[0;32m    147\u001b[0m         \u001b[1;31m#xs = sympy.solve(fx, x)\u001b[0m\u001b[1;33m\u001b[0m\u001b[1;33m\u001b[0m\u001b[0m\n\u001b[0;32m    148\u001b[0m         \u001b[1;31m### The following may fail when the curve is not a polynomial.\u001b[0m\u001b[1;33m\u001b[0m\u001b[1;33m\u001b[0m\u001b[0m\n",
      "\u001b[1;31mAttributeError\u001b[0m: 'NoneType' object has no attribute 'subs'"
     ]
    }
   ],
   "source": [
    "sw.curve.get_xs(1)"
   ]
  },
  {
   "cell_type": "code",
   "execution_count": 7,
   "metadata": {
    "collapsed": false
   },
   "outputs": [
    {
     "data": {
      "text/plain": [
       "array([ 0.43968458-1.6143554j , -0.96753278-0.72598289j,\n",
       "       -0.09749548-0.07584893j, -0.43968458+1.6143554j ,\n",
       "        0.96753278+0.72598289j,  0.09749548+0.07584893j])"
      ]
     },
     "execution_count": 7,
     "metadata": {},
     "output_type": "execute_result"
    }
   ],
   "source": [
    "sw.curve.get_aligned_xs(1, sw.g_data)"
   ]
  },
  {
   "cell_type": "code",
   "execution_count": null,
   "metadata": {
    "collapsed": true
   },
   "outputs": [],
   "source": []
  }
 ],
 "metadata": {
  "kernelspec": {
   "display_name": "Python 2",
   "language": "python",
   "name": "python2"
  },
  "language_info": {
   "codemirror_mode": {
    "name": "ipython",
    "version": 2
   },
   "file_extension": ".py",
   "mimetype": "text/x-python",
   "name": "python",
   "nbconvert_exporter": "python",
   "pygments_lexer": "ipython2",
   "version": "2.7.6"
  }
 },
 "nbformat": 4,
 "nbformat_minor": 0
}
