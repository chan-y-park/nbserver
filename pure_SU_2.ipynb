{
 "cells": [
  {
   "cell_type": "code",
   "execution_count": 1,
   "metadata": {
    "collapsed": false,
    "scrolled": true
   },
   "outputs": [
    {
     "name": "stdout",
     "output_type": "stream",
     "text": [
      "Use TkAgg backend for matplotlib.\n",
      "Setting logging level to \"INFO\".\n"
     ]
    }
   ],
   "source": [
    "import loom\n",
    "from loom.geometry import SWDataBase"
   ]
  },
  {
   "cell_type": "code",
   "execution_count": 2,
   "metadata": {
    "collapsed": false
   },
   "outputs": [
    {
     "name": "stderr",
     "output_type": "stream",
     "text": [
      "23883: config file: config/pure_SU_2.ini\n"
     ]
    }
   ],
   "source": [
    "config = loom.load_config('config/pure_SU_2.ini')"
   ]
  },
  {
   "cell_type": "code",
   "execution_count": 3,
   "metadata": {
    "collapsed": false,
    "scrolled": true
   },
   "outputs": [
    {
     "data": {
      "text/plain": [
       "{'accuracy': 1e-06,\n",
       " 'casimir_differentials': '{2: (1/(z*r) + u_2 + (z*r))*(1/(z*r)^2)}',\n",
       " 'differential_parameters': '{u_2: 1/2, r: exp(pi*I/5)}',\n",
       " 'mass_limit': 10.0,\n",
       " 'mt_params': '[[1*I, -1*I], [1, 1]]',\n",
       " 'n_processes': 0,\n",
       " 'num_of_iterations': 5,\n",
       " 'num_of_steps': 5000,\n",
       " 'phase_range': [1e-06, 3.141592, 10],\n",
       " 'plot_range': [[-5, 5], [-5, 5]],\n",
       " 'punctures': '[0, oo]',\n",
       " 'representation': '1',\n",
       " 'root_system': 'A1',\n",
       " 'size_of_large_step': 0.02,\n",
       " 'size_of_neighborhood': 0.01,\n",
       " 'size_of_puncture_cutoff': 0.002,\n",
       " 'size_of_ramification_pt_cutoff': 0.001,\n",
       " 'size_of_small_step': 0.001}"
      ]
     },
     "execution_count": 3,
     "metadata": {},
     "output_type": "execute_result"
    }
   ],
   "source": [
    "config.data"
   ]
  },
  {
   "cell_type": "code",
   "execution_count": 4,
   "metadata": {
    "collapsed": false
   },
   "outputs": [],
   "source": [
    "#swd = SWDataBase(c)"
   ]
  },
  {
   "cell_type": "code",
   "execution_count": 5,
   "metadata": {
    "collapsed": false
   },
   "outputs": [
    {
     "name": "stderr",
     "output_type": "stream",
     "text": [
      "23883: Representation data of (A1, 1) retrieved from SAGE:\n",
      "{'ffr_weights': [(1, 0), (0, 1)],\n",
      " 'multiplicities': [1, 1],\n",
      " 'positive_roots': [(1, -1)],\n",
      " 'roots': [(1, -1), (-1, 1)],\n",
      " 'weight_basis': [(1, 0), (0, 1)],\n",
      " 'weight_coefficients': [(1, 0), (0, 1)],\n",
      " 'weights': [(1, 0), (0, 1)]}\n",
      "23883: Seiberg-Witten curve in the 1st fundamental representation: x^{2} + \\frac{1}{r^{2} z^{2}} \\left(r z + u_{2} + \\frac{1}{r z}\\right) = 0.\n",
      "(numerically x^{2} + \\frac{\\left(- z + i\\right)^{2}}{\\left(z + i\\right)^{2}} \\left(0.309016994374947 - 0.951056516295154 i\\right) \\left(\\frac{1}{z + i} \\left(0.809016994374947 - 0.587785252292473 i\\right) \\left(- z + i\\right) + 0.5 + \\frac{\\left(0.809016994374947 + 0.587785252292473 i\\right) \\left(z + i\\right)}{- z + i}\\right)=0.)\n",
      "23883: \n",
      "Seiberg-Witten differential: x \\left(\\frac{1}{- z + i} + \\frac{z + i}{\\left(- z + i\\right)^{2}}\\right) dz\n",
      "\n",
      "23883: Calculating ramification points of the Seiberg-Witten curve in the first fundamental rep.\n",
      "23883: mpmath.polyroots failed; increase maxsteps & extraprec by 10.\n",
      "23883: mpmath.polyroots failed; increase maxsteps & extraprec by 10.\n",
      "23883: mpmath.polyroots failed; increase maxsteps & extraprec by 10.\n",
      "23883: mpmath.polyroots failed; increase maxsteps & extraprec by 10.\n",
      "23883: ramification point #0: z = (2.7835130318071445056 - 1.259175438082856531e-21j), x = (-1.33515436971e-11-2.38207341003e-11j), i = 2.\n",
      "23883: ramification point #1: z = (-0.68058858333061008148 - 2.8727072832943985287e-22j), x = (-2.75198715248e-11+1.49174181527e-11j), i = 2.\n",
      "23883: Getting aligned x's at the base point z = (0.52573111211913360603 - 3.4641016151377545871j).\n",
      "23883: Analyzing a branch point at z = (2.7835130318071445056 - 1.259175438082856531e-21j).\n",
      "23883: Analyzing a branch point at z = (-0.68058858333061008148 - 2.8727072832943985287e-22j).\n",
      "23883: Analyzing an irregular singularity at z = -1j.\n",
      "23883: Analyzing an irregular singularity at z = 1j.\n",
      "23883: start cpu time: 1442439451.92\n",
      "23883: Generate a single spectral network at theta = 1.0.\n",
      "23883: Start growing a new spectral network...\n",
      "23883: Seed S-walls at ramification points...\n",
      "23883: Start growing a new spectral network...\n",
      "23883: Growing S-wall #0...\n",
      "23883: There is no joint for the given root system A1.\n",
      "23883: Growing S-wall #1...\n",
      "23883: There is no joint for the given root system A1.\n",
      "23883: Growing S-wall #2...\n",
      "23883: There is no joint for the given root system A1.\n",
      "23883: Growing S-wall #3...\n",
      "23883: There is no joint for the given root system A1.\n",
      "23883: Growing S-wall #4...\n",
      "23883: There is no joint for the given root system A1.\n",
      "23883: Growing S-wall #5...\n",
      "23883: There is no joint for the given root system A1.\n",
      "23883: No additional joint found: Stop growing this spectral network at iteration #0.\n",
      "23883: end cpu time: 1442439483.74858904\n",
      "23883: elapsed cpu time: 31.82797909\n"
     ]
    }
   ],
   "source": [
    "snd = loom.generate(config, phase=1.0)"
   ]
  },
  {
   "cell_type": "code",
   "execution_count": 6,
   "metadata": {
    "collapsed": true
   },
   "outputs": [],
   "source": [
    "sn = snd.spectral_networks[0]"
   ]
  },
  {
   "cell_type": "code",
   "execution_count": 9,
   "metadata": {
    "collapsed": false
   },
   "outputs": [
    {
     "data": {
      "text/plain": [
       "array([[-0.00064441 +1.65742213e-04j,  0.00064441 -1.65742213e-04j],\n",
       "       [-0.10897550 +2.84723649e-02j,  0.10897550 -2.84723649e-02j],\n",
       "       [-0.28811796 +8.30547805e-02j,  0.28811796 -8.30547805e-02j],\n",
       "       ..., \n",
       "       [-0.08999331 +2.94776466e-01j,  0.08999331 -2.94776466e-01j],\n",
       "       [-0.08970402 +2.94398975e-01j,  0.08970402 -2.94398975e-01j],\n",
       "       [-0.08941599 +2.94022261e-01j,  0.08941599 -2.94022261e-01j]])"
      ]
     },
     "execution_count": 9,
     "metadata": {},
     "output_type": "execute_result"
    }
   ],
   "source": [
    "sn.s_walls[0].x"
   ]
  },
  {
   "cell_type": "code",
   "execution_count": 10,
   "metadata": {
    "collapsed": false
   },
   "outputs": [
    {
     "name": "stderr",
     "output_type": "stream",
     "text": [
      "23883: Generating the plot of a spectral network @ theta = 1.0...\n"
     ]
    },
    {
     "name": "stdout",
     "output_type": "stream",
     "text": [
      "------------------------\n",
      "phase : 1.0\n",
      "------------------------\n",
      "\n",
      "\t--- The Root System ---\n",
      "\n",
      "alpha_0 : [1, -1]\n",
      "ordered weight pairs : ['(mu_1, mu_0)']\n",
      "\n",
      "alpha_1 : [-1, 1]\n",
      "ordered weight pairs : ['(mu_0, mu_1)']\n",
      "\n",
      "\t--- The Weight System ---\n",
      "\n",
      "mu_1 : [0, 1]\n",
      "\n",
      "mu_0 : [1, 0]\n",
      "\n",
      "\t--- The S-Wall Data ---\n",
      "\n",
      "S-wall #0\troot types : ['alpha_1']\n",
      "\t\tsheet pairs : [[['mu_0', 'mu_1']]]\n",
      "\n",
      "S-wall #1\troot types : ['alpha_0']\n",
      "\t\tsheet pairs : [[['mu_1', 'mu_0']]]\n",
      "\n",
      "S-wall #2\troot types : ['alpha_1', 'alpha_0', 'alpha_1']\n",
      "\t\tsheet pairs : [[['mu_0', 'mu_1']], [['mu_1', 'mu_0']], [['mu_0', 'mu_1']]]\n",
      "\n",
      "S-wall #3\troot types : ['alpha_1']\n",
      "\t\tsheet pairs : [[['mu_0', 'mu_1']]]\n",
      "\n",
      "S-wall #4\troot types : ['alpha_0']\n",
      "\t\tsheet pairs : [[['mu_1', 'mu_0']]]\n",
      "\n",
      "S-wall #5\troot types : ['alpha_0']\n",
      "\t\tsheet pairs : [[['mu_1', 'mu_0']]]\n",
      "\n",
      "\t--- The Branch Points ---\n",
      "\n",
      "Branch point #0\tposition : (2.7835130318071445056 - 1.259175438082856531e-21j)\n",
      "\t\troot type : ['alpha_0']\n",
      "\n",
      "Branch point #1\tposition : (-0.68058858333061008148 - 2.8727072832943985287e-22j)\n",
      "\t\troot type : ['alpha_0']\n",
      "\n"
     ]
    }
   ],
   "source": [
    "snp = loom.plot(snd, plot_range=[[-5, 5], [-5, 5]])"
   ]
  },
  {
   "cell_type": "code",
   "execution_count": null,
   "metadata": {
    "collapsed": true
   },
   "outputs": [],
   "source": []
  }
 ],
 "metadata": {
  "kernelspec": {
   "display_name": "Python 2",
   "language": "python",
   "name": "python2"
  },
  "language_info": {
   "codemirror_mode": {
    "name": "ipython",
    "version": 2
   },
   "file_extension": ".py",
   "mimetype": "text/x-python",
   "name": "python",
   "nbconvert_exporter": "python",
   "pygments_lexer": "ipython2",
   "version": "2.7.10"
  }
 },
 "nbformat": 4,
 "nbformat_minor": 0
}
