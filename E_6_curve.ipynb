{
 "cells": [
  {
   "cell_type": "code",
   "execution_count": 1,
   "metadata": {
    "collapsed": false
   },
   "outputs": [
    {
     "name": "stdout",
     "output_type": "stream",
     "text": [
      "Use TkAgg backend for matplotlib.\n",
      "Setting logging level to \"INFO\".\n"
     ]
    }
   ],
   "source": [
    "from loom.geometry import tau_str, q_1_str, q_2_str, p_1_str, p_2_str, get_ffr_curve_string"
   ]
  },
  {
   "cell_type": "code",
   "execution_count": 33,
   "metadata": {
    "collapsed": true
   },
   "outputs": [],
   "source": [
    "#phi = {2: 'phi_2', 5: 'phi_5', 6: 'phi_6', 8: 'phi_8', 9: 'phi_9', 12: 'phi_12'}\n",
    "phi = {2: 'u_1', 5: 'u_2', 6: 'u_3', 8: 'u_4', 9: 'u_5', 12: 'u_6'}"
   ]
  },
  {
   "cell_type": "code",
   "execution_count": 34,
   "metadata": {
    "collapsed": false
   },
   "outputs": [],
   "source": [
    "tau = tau_str.format(u_6=phi[12])\n",
    "q_1 = q_1_str.format(u_1=phi[2], u_2=phi[5], u_3=phi[6], u_4=phi[8], u_5=phi[9])\n",
    "p_1 = p_1_str.format(u_1=phi[2], u_2=phi[5], u_3=phi[6], u_4=phi[8], u_5=phi[9])\n",
    "p_2 = p_2_str.format(u_1=phi[2], u_2=phi[5], u_3=phi[6], u_4=phi[8], u_5=phi[9])\n",
    "q_2 = q_2_str.format(q_1=q_1, p_1=p_1, p_2=p_2)"
   ]
  },
  {
   "cell_type": "code",
   "execution_count": 35,
   "metadata": {
    "collapsed": false
   },
   "outputs": [
    {
     "data": {
      "text/plain": [
       "'270*x^(15) + 342*(u_1)*x^(13) + 162*(u_1)^2*x^(11) - 252*(u_2)*x^(10)+ (26*(u_1)^3 + 18*(u_3))*x^9 - 162*(u_1)*(u_2)*x^8+ (6*(u_1)*(u_3) - 27*(u_4))*x^7- (30*(u_1)^2*(u_2) - 36*(u_5))*x^6+ (27*(u_2)^2 - 9*(u_1)*(u_4))*x^5- (3*(u_2)*(u_3) - 6*(u_1)*(u_5))*x^4- 3*(u_1)*(u_2)^2*x^3 - 3*(u_2)*(u_5)*x - (u_2)^3'"
      ]
     },
     "execution_count": 35,
     "metadata": {},
     "output_type": "execute_result"
    }
   ],
   "source": [
    "q_1"
   ]
  },
  {
   "cell_type": "code",
   "execution_count": 36,
   "metadata": {
    "collapsed": false
   },
   "outputs": [],
   "source": [
    "E_6_curve_str = get_ffr_curve_string(phi, 'E', 6)"
   ]
  },
  {
   "cell_type": "code",
   "execution_count": 37,
   "metadata": {
    "collapsed": false
   },
   "outputs": [
    {
     "data": {
      "text/plain": [
       "'(1/2)*x^3*(t + 1/t + u_6)^2 - (270*x^(15) + 342*(u_1)*x^(13) + 162*(u_1)^2*x^(11) - 252*(u_2)*x^(10)+ (26*(u_1)^3 + 18*(u_3))*x^9 - 162*(u_1)*(u_2)*x^8+ (6*(u_1)*(u_3) - 27*(u_4))*x^7- (30*(u_1)^2*(u_2) - 36*(u_5))*x^6+ (27*(u_2)^2 - 9*(u_1)*(u_4))*x^5- (3*(u_2)*(u_3) - 6*(u_1)*(u_5))*x^4- 3*(u_1)*(u_2)^2*x^3 - 3*(u_2)*(u_5)*x - (u_2)^3)*(t + 1/t + u_6) + (1/(2*x^3)*((270*x^(15) + 342*(u_1)*x^(13) + 162*(u_1)^2*x^(11) - 252*(u_2)*x^(10)+ (26*(u_1)^3 + 18*(u_3))*x^9 - 162*(u_1)*(u_2)*x^8+ (6*(u_1)*(u_3) - 27*(u_4))*x^7- (30*(u_1)^2*(u_2) - 36*(u_5))*x^6+ (27*(u_2)^2 - 9*(u_1)*(u_4))*x^5- (3*(u_2)*(u_3) - 6*(u_1)*(u_5))*x^4- 3*(u_1)*(u_2)^2*x^3 - 3*(u_2)*(u_5)*x - (u_2)^3)^2 - (78*x^10 + 60*(u_1)*x^8 + 14*(u_1)^2*x^6 - 33*(u_2)*x^5 + 2*(u_3)*x^4- 5*(u_1)*(u_2)*x^3 - (u_4)*x^2 - (u_5)*x - (u_2)^2)^2*(12*x^10 + 12*(u_1)*x^8 + 4*(u_1)^2*x^6 - 12*(u_2)*x^5 + (u_3)*x^4- 4*(u_1)*(u_2)*x^3 - 2*(u_4)*x^2 + 4*(u_5)*x  + (u_2)^2)))'"
      ]
     },
     "execution_count": 37,
     "metadata": {},
     "output_type": "execute_result"
    }
   ],
   "source": [
    "E_6_curve_str"
   ]
  },
  {
   "cell_type": "code",
   "execution_count": 49,
   "metadata": {
    "collapsed": true
   },
   "outputs": [],
   "source": [
    "import sympy\n",
    "from sympy import init_printing, poly\n",
    "init_printing()\n",
    "x = sympy.symbols('x')"
   ]
  },
  {
   "cell_type": "code",
   "execution_count": 54,
   "metadata": {
    "collapsed": false
   },
   "outputs": [],
   "source": [
    "sym_q_1 = poly(sympy.sympify(q_1), x)"
   ]
  },
  {
   "cell_type": "code",
   "execution_count": 56,
   "metadata": {
    "collapsed": false
   },
   "outputs": [
    {
     "data": {
      "image/png": "[encoded data removed]",
      "text/latex": [
       "$$\\left [ 270, \\quad 0, \\quad 342 u_{1}, \\quad 0, \\quad 162 u_{1}^{2}, \\quad - 252 u_{2}, \\quad 26 u_{1}^{3} + 18 u_{3}, \\quad - 162 u_{1} u_{2}, \\quad 6 u_{1} u_{3} - 27 u_{4}, \\quad - 30 u_{1}^{2} u_{2} + 36 u_{5}, \\quad - 9 u_{1} u_{4} + 27 u_{2}^{2}, \\quad 6 u_{1} u_{5} - 3 u_{2} u_{3}, \\quad - 3 u_{1} u_{2}^{2}, \\quad 0, \\quad - 3 u_{2} u_{5}, \\quad - u_{2}^{3}\\right ]$$"
      ],
      "text/plain": [
       "⎡                         2                3                                  \n",
       "⎣270, 0, 342⋅u₁, 0, 162⋅u₁ , -252⋅u₂, 26⋅u₁  + 18⋅u₃, -162⋅u₁⋅u₂, 6⋅u₁⋅u₃ - 27\n",
       "\n",
       "            2                             2                             2     \n",
       "⋅u₄, - 30⋅u₁ ⋅u₂ + 36⋅u₅, -9⋅u₁⋅u₄ + 27⋅u₂ , 6⋅u₁⋅u₅ - 3⋅u₂⋅u₃, -3⋅u₁⋅u₂ , 0, \n",
       "\n",
       "             3⎤\n",
       "-3⋅u₂⋅u₅, -u₂ ⎦"
      ]
     },
     "execution_count": 56,
     "metadata": {},
     "output_type": "execute_result"
    }
   ],
   "source": [
    "sym_q_1.all_coeffs()"
   ]
  },
  {
   "cell_type": "code",
   "execution_count": 57,
   "metadata": {
    "collapsed": false
   },
   "outputs": [
    {
     "data": {
      "image/png": "[encoded data removed]",
      "text/latex": [
       "$$\\left [ 78, \\quad 0, \\quad 60 u_{1}, \\quad 0, \\quad 14 u_{1}^{2}, \\quad - 33 u_{2}, \\quad 2 u_{3}, \\quad - 5 u_{1} u_{2}, \\quad - u_{4}, \\quad - u_{5}, \\quad - u_{2}^{2}\\right ]$$"
      ],
      "text/plain": [
       "⎡                      2                                       2⎤\n",
       "⎣78, 0, 60⋅u₁, 0, 14⋅u₁ , -33⋅u₂, 2⋅u₃, -5⋅u₁⋅u₂, -u₄, -u₅, -u₂ ⎦"
      ]
     },
     "execution_count": 57,
     "metadata": {},
     "output_type": "execute_result"
    }
   ],
   "source": [
    "poly(sympy.sympify(p_1), x).all_coeffs()"
   ]
  },
  {
   "cell_type": "code",
   "execution_count": 58,
   "metadata": {
    "collapsed": false
   },
   "outputs": [
    {
     "data": {
      "image/png": "[encoded data removed]",
      "text/latex": [
       "$$\\left [ 12, \\quad 0, \\quad 12 u_{1}, \\quad 0, \\quad 4 u_{1}^{2}, \\quad - 12 u_{2}, \\quad u_{3}, \\quad - 4 u_{1} u_{2}, \\quad - 2 u_{4}, \\quad 4 u_{5}, \\quad u_{2}^{2}\\right ]$$"
      ],
      "text/plain": [
       "⎡                     2                                       2⎤\n",
       "⎣12, 0, 12⋅u₁, 0, 4⋅u₁ , -12⋅u₂, u₃, -4⋅u₁⋅u₂, -2⋅u₄, 4⋅u₅, u₂ ⎦"
      ]
     },
     "execution_count": 58,
     "metadata": {},
     "output_type": "execute_result"
    }
   ],
   "source": [
    "poly(sympy.sympify(p_2), x).all_coeffs()"
   ]
  },
  {
   "cell_type": "code",
   "execution_count": 27,
   "metadata": {
    "collapsed": false
   },
   "outputs": [],
   "source": [
    "E_6_curve = sympy.sympify(E_6_curve_str)"
   ]
  },
  {
   "cell_type": "code",
   "execution_count": 29,
   "metadata": {
    "collapsed": false,
    "scrolled": true
   },
   "outputs": [
    {
     "data": {
      "image/png": "[encoded data removed]",
      "text/latex": [
       "$$\\frac{x^{3}}{2} \\left(\\phi_{12} + t + \\frac{1}{t}\\right)^{2} - \\left(\\phi_{12} + t + \\frac{1}{t}\\right) \\left(162 \\phi_{2}^{2} x^{11} - 3 \\phi_{2} \\phi_{5}^{2} x^{3} - 162 \\phi_{2} \\phi_{5} x^{8} + 342 \\phi_{2} x^{13} - \\phi_{5}^{3} - 3 \\phi_{5} \\phi_{9} x - 252 \\phi_{5} x^{10} + 270 x^{15} + x^{9} \\left(26 \\phi_{2}^{3} + 18 \\phi_{6}\\right) + x^{7} \\left(6 \\phi_{2} \\phi_{6} - 27 \\phi_{8}\\right) - x^{6} \\left(30 \\phi_{2}^{2} \\phi_{5} - 36 \\phi_{9}\\right) + x^{5} \\left(- 9 \\phi_{2} \\phi_{8} + 27 \\phi_{5}^{2}\\right) - x^{4} \\left(- 6 \\phi_{2} \\phi_{9} + 3 \\phi_{5} \\phi_{6}\\right)\\right) + \\frac{1}{2 x^{3}} \\left(- \\left(4 \\phi_{2}^{2} x^{6} - 4 \\phi_{2} \\phi_{5} x^{3} + 12 \\phi_{2} x^{8} + \\phi_{5}^{2} - 12 \\phi_{5} x^{5} + \\phi_{6} x^{4} - 2 \\phi_{8} x^{2} + 4 \\phi_{9} x + 12 x^{10}\\right) \\left(14 \\phi_{2}^{2} x^{6} - 5 \\phi_{2} \\phi_{5} x^{3} + 60 \\phi_{2} x^{8} - \\phi_{5}^{2} - 33 \\phi_{5} x^{5} + 2 \\phi_{6} x^{4} - \\phi_{8} x^{2} - \\phi_{9} x + 78 x^{10}\\right)^{2} + \\left(162 \\phi_{2}^{2} x^{11} - 3 \\phi_{2} \\phi_{5}^{2} x^{3} - 162 \\phi_{2} \\phi_{5} x^{8} + 342 \\phi_{2} x^{13} - \\phi_{5}^{3} - 3 \\phi_{5} \\phi_{9} x - 252 \\phi_{5} x^{10} + 270 x^{15} + x^{9} \\left(26 \\phi_{2}^{3} + 18 \\phi_{6}\\right) + x^{7} \\left(6 \\phi_{2} \\phi_{6} - 27 \\phi_{8}\\right) - x^{6} \\left(30 \\phi_{2}^{2} \\phi_{5} - 36 \\phi_{9}\\right) + x^{5} \\left(- 9 \\phi_{2} \\phi_{8} + 27 \\phi_{5}^{2}\\right) - x^{4} \\left(- 6 \\phi_{2} \\phi_{9} + 3 \\phi_{5} \\phi_{6}\\right)\\right)^{2}\\right)$$"
      ],
      "text/plain": [
       "                2                                                             \n",
       " 3 ⎛          1⎞                                                              \n",
       "x ⋅⎜φ₁₂ + t + ─⎟                                                              \n",
       "   ⎝          t⎠    ⎛          1⎞ ⎛      2  11          2  3              8   \n",
       "───────────────── - ⎜φ₁₂ + t + ─⎟⋅⎝162⋅φ₂ ⋅x   - 3⋅φ₂⋅φ₅ ⋅x  - 162⋅φ₂⋅φ₅⋅x  + \n",
       "        2           ⎝          t⎠                                             \n",
       "                                                                              \n",
       "\n",
       "                                                                              \n",
       "                                                                              \n",
       "                                                                              \n",
       "        13     3                       10        15    9 ⎛     3        ⎞    7\n",
       "342⋅φ₂⋅x   - φ₅  - 3⋅φ₅⋅φ₉⋅x - 252⋅φ₅⋅x   + 270⋅x   + x ⋅⎝26⋅φ₂  + 18⋅φ₆⎠ + x \n",
       "                                                                              \n",
       "                                                                              \n",
       "\n",
       "                                                                              \n",
       "                                                                              \n",
       "                                                                              \n",
       "                      6 ⎛     2           ⎞    5 ⎛                2⎞    4     \n",
       "⋅(6⋅φ₂⋅φ₆ - 27⋅φ₈) - x ⋅⎝30⋅φ₂ ⋅φ₅ - 36⋅φ₉⎠ + x ⋅⎝-9⋅φ₂⋅φ₈ + 27⋅φ₅ ⎠ - x ⋅(-6⋅\n",
       "                                                                              \n",
       "                                                                              \n",
       "\n",
       "                                                                              \n",
       "                                                                              \n",
       "                      ⎛    2  6            3          8     2          5      \n",
       "                ⎞   - ⎝4⋅φ₂ ⋅x  - 4⋅φ₂⋅φ₅⋅x  + 12⋅φ₂⋅x  + φ₅  - 12⋅φ₅⋅x  + φ₆⋅\n",
       "φ₂⋅φ₉ + 3⋅φ₅⋅φ₆)⎠ + ──────────────────────────────────────────────────────────\n",
       "                                                                              \n",
       "                                                                              \n",
       "\n",
       "                                                                              \n",
       "                                                                              \n",
       " 4         2                10⎞ ⎛     2  6            3          8     2      \n",
       "x  - 2⋅φ₈⋅x  + 4⋅φ₉⋅x + 12⋅x  ⎠⋅⎝14⋅φ₂ ⋅x  - 5⋅φ₂⋅φ₅⋅x  + 60⋅φ₂⋅x  - φ₅  - 33⋅\n",
       "──────────────────────────────────────────────────────────────────────────────\n",
       "                                                                              \n",
       "                                                                              \n",
       "\n",
       "                                                                              \n",
       "                                        2                                     \n",
       "    5         4       2              10⎞    ⎛      2  11          2  3        \n",
       "φ₅⋅x  + 2⋅φ₆⋅x  - φ₈⋅x  - φ₉⋅x + 78⋅x  ⎠  + ⎝162⋅φ₂ ⋅x   - 3⋅φ₂⋅φ₅ ⋅x  - 162⋅φ\n",
       "──────────────────────────────────────────────────────────────────────────────\n",
       "                                                                3             \n",
       "                                                             2⋅x              \n",
       "\n",
       "                                                                              \n",
       "                                                                              \n",
       "      8           13     3                       10        15    9 ⎛     3    \n",
       "₂⋅φ₅⋅x  + 342⋅φ₂⋅x   - φ₅  - 3⋅φ₅⋅φ₉⋅x - 252⋅φ₅⋅x   + 270⋅x   + x ⋅⎝26⋅φ₂  + 1\n",
       "──────────────────────────────────────────────────────────────────────────────\n",
       "                                                                              \n",
       "                                                                              \n",
       "\n",
       "                                                                              \n",
       "                                                                              \n",
       "    ⎞    7                      6 ⎛     2           ⎞    5 ⎛                2⎞\n",
       "8⋅φ₆⎠ + x ⋅(6⋅φ₂⋅φ₆ - 27⋅φ₈) - x ⋅⎝30⋅φ₂ ⋅φ₅ - 36⋅φ₉⎠ + x ⋅⎝-9⋅φ₂⋅φ₈ + 27⋅φ₅ ⎠\n",
       "──────────────────────────────────────────────────────────────────────────────\n",
       "                                                                              \n",
       "                                                                              \n",
       "\n",
       "                            \n",
       "                           2\n",
       "    4                     ⎞ \n",
       " - x ⋅(-6⋅φ₂⋅φ₉ + 3⋅φ₅⋅φ₆)⎠ \n",
       "────────────────────────────\n",
       "                            \n",
       "                            "
      ]
     },
     "execution_count": 29,
     "metadata": {},
     "output_type": "execute_result"
    }
   ],
   "source": [
    "E_6_curve"
   ]
  },
  {
   "cell_type": "code",
   "execution_count": null,
   "metadata": {
    "collapsed": true
   },
   "outputs": [],
   "source": []
  }
 ],
 "metadata": {
  "kernelspec": {
   "display_name": "Python 2",
   "language": "python",
   "name": "python2"
  },
  "language_info": {
   "codemirror_mode": {
    "name": "ipython",
    "version": 2
   },
   "file_extension": ".py",
   "mimetype": "text/x-python",
   "name": "python",
   "nbconvert_exporter": "python",
   "pygments_lexer": "ipython2",
   "version": "2.7.10"
  }
 },
 "nbformat": 4,
 "nbformat_minor": 0
}
