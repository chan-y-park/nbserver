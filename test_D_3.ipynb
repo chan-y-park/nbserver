{
 "cells": [
  {
   "cell_type": "code",
   "execution_count": 1,
   "metadata": {
    "collapsed": false
   },
   "outputs": [
    {
     "name": "stdout",
     "output_type": "stream",
     "text": [
      "Use TkAgg backend for matplotlib.\n"
     ]
    }
   ],
   "source": [
    "%matplotlib tk\n",
    "#%matplotlib nbagg\n",
    "from pprint import pprint\n",
    "import loom\n",
    "from loom.trivialization import SWDataWithTrivialization"
   ]
  },
  {
   "cell_type": "code",
   "execution_count": 2,
   "metadata": {
    "collapsed": false
   },
   "outputs": [
    {
     "name": "stderr",
     "output_type": "stream",
     "text": [
      "25139: config file: config/coset_D_3.ini\n"
     ]
    }
   ],
   "source": [
    "config = loom.load_config(\"config/coset_D_3.ini\")"
   ]
  },
  {
   "cell_type": "code",
   "execution_count": 3,
   "metadata": {
    "collapsed": true
   },
   "outputs": [],
   "source": [
    "#loom.set_logging('debug')"
   ]
  },
  {
   "cell_type": "code",
   "execution_count": 4,
   "metadata": {
    "collapsed": false,
    "scrolled": true
   },
   "outputs": [
    {
     "name": "stderr",
     "output_type": "stream",
     "text": [
      "25139: Representation data of (D3, 1) retrieved from SAGE:\n",
      "{'ffr_weights': [(1, 0, 0),\n",
      "                 (0, 1, 0),\n",
      "                 (0, 0, 1),\n",
      "                 (-1, 0, 0),\n",
      "                 (0, -1, 0),\n",
      "                 (0, 0, -1)],\n",
      " 'multiplicities': [1, 1, 1, 1, 1, 1],\n",
      " 'positive_roots': [(1, 1, 0),\n",
      "                    (1, 0, 1),\n",
      "                    (0, 1, 1),\n",
      "                    (1, -1, 0),\n",
      "                    (1, 0, -1),\n",
      "                    (0, 1, -1)],\n",
      " 'roots': [(1, 1, 0),\n",
      "           (1, 0, 1),\n",
      "           (0, 1, 1),\n",
      "           (1, -1, 0),\n",
      "           (1, 0, -1),\n",
      "           (0, 1, -1),\n",
      "           (-1, 1, 0),\n",
      "           (-1, 0, 1),\n",
      "           (0, -1, 1),\n",
      "           (-1, -1, 0),\n",
      "           (-1, 0, -1),\n",
      "           (0, -1, -1)],\n",
      " 'weight_basis': [(1, 0, 0), (0, 1, 0), (0, 0, 1)],\n",
      " 'weight_coefficients': [(1, 0, 0),\n",
      "                         (0, 1, 0),\n",
      "                         (0, 0, 1),\n",
      "                         (-1, 0, 0),\n",
      "                         (0, -1, 0),\n",
      "                         (0, 0, -1)],\n",
      " 'weights': [(1, 0, 0),\n",
      "             (0, 1, 0),\n",
      "             (0, 0, 1),\n",
      "             (-1, 0, 0),\n",
      "             (0, -1, 0),\n",
      "             (0, 0, -1)]}\n",
      "25139: Option 'mt_params' not specified; use None.\n",
      "25139: Seiberg-Witten curve in the 1st fundamental representation: x^{6} + x^{2} \\left(i z + 0.111111111111\\right) + 0.25 = 0\n",
      "25139: \n",
      "Seiberg-Witten differential: x dz\n",
      "\n",
      "25139: Option 'punctures' not specified; use None.\n",
      "25139: Calculating ramification points of the Seiberg-Witten curve in the first fundamental rep.\n",
      "25139: ramification point #0: z = 0.861111111111j, x = (-0.707106781187+0j), i = 2.\n",
      "25139: ramification point #1: z = 0.861111111111j, x = (0.707106781187+0j), i = 2.\n",
      "25139: ramification point #2: z = (0.649519052838-0.263888888889j), x = (-0.353553390593-0.612372435696j), i = 2.\n",
      "25139: ramification point #3: z = (0.649519052838-0.263888888889j), x = (0.353553390593+0.612372435696j), i = 2.\n",
      "25139: ramification point #4: z = (-0.649519052838-0.263888888889j), x = (-0.353553390593+0.612372435696j), i = 2.\n",
      "25139: ramification point #5: z = (-0.649519052838-0.263888888889j), x = (0.353553390593-0.612372435696j), i = 2.\n",
      "25139: Getting aligned x's at the base point z = -1.18792699457j.\n",
      "25139: Analyzing a branch point at z = 0.861111111111j.\n",
      "25139: Analyzing a branch point at z = (0.649519052838-0.263888888889j).\n",
      "25139: Analyzing a branch point at z = (-0.649519052838-0.263888888889j).\n"
     ]
    }
   ],
   "source": [
    "sw = SWDataWithTrivialization(config)"
   ]
  },
  {
   "cell_type": "code",
   "execution_count": 5,
   "metadata": {
    "collapsed": false
   },
   "outputs": [
    {
     "data": {
      "text/plain": [
       "array([  7.90173140e-01-0.7284786j ,   7.90173140e-01+0.7284786j ,\n",
       "         8.79580802e-17-0.43287995j,  -7.90173140e-01+0.7284786j ,\n",
       "        -7.90173140e-01-0.7284786j ,   1.55382325e-17+0.43287995j])"
      ]
     },
     "execution_count": 5,
     "metadata": {},
     "output_type": "execute_result"
    }
   ],
   "source": [
    "sw.reference_xs"
   ]
  },
  {
   "cell_type": "code",
   "execution_count": 8,
   "metadata": {
    "collapsed": false
   },
   "outputs": [
    {
     "name": "stdout",
     "output_type": "stream",
     "text": [
      "0: (0.790173140002-0.728478597185j)\n",
      "1: (0.790173140002+0.728478597185j)\n",
      "2: (8.79580802176e-17-0.432879947846j)\n",
      "3: (-0.790173140002+0.728478597185j)\n",
      "4: (-0.790173140002-0.728478597185j)\n",
      "5: (1.55382325121e-17+0.432879947846j)\n"
     ]
    }
   ],
   "source": [
    "for i, x in enumerate(sw.reference_ffr_xs):\n",
    "    print \"{}: {}\".format(i, x)"
   ]
  },
  {
   "cell_type": "markdown",
   "metadata": {},
   "source": [
    "Compare reference sheets.\n",
    "\n",
    "```\n",
    "prev > new\n",
    "[\n",
    "[0, (0.7901731400014977-0.7284785971847652j)], > 0: (0.790173140002-0.728478597185j)\n",
    "[1, (0.7901731400014997+0.7284785971847642j)], > 1: (0.790173140002+0.728478597185j)\n",
    "[2, (-0.7901731400014986-0.7284785971847652j)], > 4: (-0.790173140002-0.728478597185j)\n",
    "[3, (-0.7901731400014984+0.7284785971847642j)], > 3: (-0.790173140002+0.728478597185j)\n",
    "[4, (-5.4914476957682985e-17+0.43287994784592515j)], 5: (1.55382325121e-17+0.432879947846j)\n",
    "[5, (5.376993580633643e-17-0.4328799478459251j)] > 2: (8.79580802176e-17-0.432879947846j)\n",
    "]\n",
    "```"
   ]
  },
  {
   "cell_type": "code",
   "execution_count": 9,
   "metadata": {
    "collapsed": false
   },
   "outputs": [
    {
     "data": {
      "text/plain": [
       "array([[ 1,  0,  0],\n",
       "       [ 0,  1,  0],\n",
       "       [ 0,  0,  1],\n",
       "       [-1,  0,  0],\n",
       "       [ 0, -1,  0],\n",
       "       [ 0,  0, -1]])"
      ]
     },
     "execution_count": 9,
     "metadata": {},
     "output_type": "execute_result"
    }
   ],
   "source": [
    "sw.g_data.weights"
   ]
  },
  {
   "cell_type": "code",
   "execution_count": 10,
   "metadata": {
    "collapsed": false
   },
   "outputs": [
    {
     "data": {
      "text/plain": [
       "array([[ 1,  1,  0],\n",
       "       [ 1,  0,  1],\n",
       "       [ 0,  1,  1],\n",
       "       [ 1, -1,  0],\n",
       "       [ 1,  0, -1],\n",
       "       [ 0,  1, -1]])"
      ]
     },
     "execution_count": 10,
     "metadata": {},
     "output_type": "execute_result"
    }
   ],
   "source": [
    "sw.g_data.positive_roots"
   ]
  },
  {
   "cell_type": "code",
   "execution_count": 13,
   "metadata": {
    "collapsed": false
   },
   "outputs": [
    {
     "name": "stdout",
     "output_type": "stream",
     "text": [
      "---------------------------------------------------------\n",
      "Branch Point at z = 0.861111111111j\n",
      "---------------------------------------------------------\n",
      "enum_sh:\n",
      "[[0, (0.70710676715749254+1.0648472231067092e-10j)],\n",
      " [1, (0.70710676715749254+1.0648472231067092e-10j)],\n",
      " [2, (5.5511151231257827e-16-1j)],\n",
      " [3, (-0.70710677430546631-2.6132789027238236e-11j)],\n",
      " [4, (-0.70710677430546631-2.6132789027238236e-11j)],\n",
      " [5, (4.30536697464785e-16+1j)]]\n",
      "singles:\n",
      "[2, 5]\n",
      "positive_roots:\n",
      "[array([ 1, -1,  0])]\n",
      "monodromy:\n",
      "matrix([[0, 1, 0, 0, 0, 0],\n",
      "        [1, 0, 0, 0, 0, 0],\n",
      "        [0, 0, 1, 0, 0, 0],\n",
      "        [0, 0, 0, 0, 1, 0],\n",
      "        [0, 0, 0, 1, 0, 0],\n",
      "        [0, 0, 0, 0, 0, 1]])\n",
      "groups:\n",
      "[[0, 1], [3, 4]]\n",
      "z:\n",
      "0.861111111111j\n",
      "order:\n",
      "2\n",
      "---------------------------------------------------------\n",
      "Branch Point at z = (0.649519052838-0.263888888889j)\n",
      "---------------------------------------------------------\n",
      "enum_sh:\n",
      "[[0, (0.86602540378443971-0.50000000000000044j)],\n",
      " [1, (0.35355340134002056+0.61237243037706601j)],\n",
      " [2, (-0.35355338334715775-0.61237243777846295j)],\n",
      " [3, (-0.86602540378443871+0.49999999999999989j)],\n",
      " [4, (-0.35355339783938944-0.61237243361312543j)],\n",
      " [5, (0.35355337984652713+0.61237244101452282j)]]\n",
      "singles:\n",
      "[0, 3]\n",
      "positive_roots:\n",
      "[array([0, 1, 1])]\n",
      "monodromy:\n",
      "matrix([[1, 0, 0, 0, 0, 0],\n",
      "        [0, 0, 0, 0, 0, 1],\n",
      "        [0, 0, 0, 0, 1, 0],\n",
      "        [0, 0, 0, 1, 0, 0],\n",
      "        [0, 0, 1, 0, 0, 0],\n",
      "        [0, 1, 0, 0, 0, 0]])\n",
      "groups:\n",
      "[[1, 5], [2, 4]]\n",
      "z:\n",
      "(0.649519052838329-0.26388888888900003j)\n",
      "order:\n",
      "2\n",
      "---------------------------------------------------------\n",
      "Branch Point at z = (-0.649519052838-0.263888888889j)\n",
      "---------------------------------------------------------\n",
      "enum_sh:\n",
      "[[0, (0.35355340134002056-0.61237243037706601j)],\n",
      " [1, (0.86602540378443971+0.50000000000000044j)],\n",
      " [2, (0.35355337984652713-0.61237244101452282j)],\n",
      " [3, (-0.35355339783938944+0.61237243361312543j)],\n",
      " [4, (-0.86602540378443871-0.49999999999999989j)],\n",
      " [5, (-0.35355338334715775+0.61237243777846295j)]]\n",
      "singles:\n",
      "[1, 4]\n",
      "positive_roots:\n",
      "[array([ 1,  0, -1])]\n",
      "monodromy:\n",
      "matrix([[0, 0, 1, 0, 0, 0],\n",
      "        [0, 1, 0, 0, 0, 0],\n",
      "        [1, 0, 0, 0, 0, 0],\n",
      "        [0, 0, 0, 0, 0, 1],\n",
      "        [0, 0, 0, 0, 1, 0],\n",
      "        [0, 0, 0, 1, 0, 0]])\n",
      "groups:\n",
      "[[0, 2], [3, 5]]\n",
      "z:\n",
      "(-0.649519052838329-0.26388888888900003j)\n",
      "order:\n",
      "2\n"
     ]
    }
   ],
   "source": [
    "for i, bp in enumerate(sw.branch_points):\n",
    "    bp.print_info()"
   ]
  },
  {
   "cell_type": "markdown",
   "metadata": {},
   "source": [
    "The above result matches the previous result."
   ]
  },
  {
   "cell_type": "code",
   "execution_count": 14,
   "metadata": {
    "collapsed": false
   },
   "outputs": [
    {
     "data": {
      "text/plain": [
       "{0: (1.2540497979706098-0.20150241215700146j),\n",
       " 1: (0.17706732978337347+1.2807214219593603j),\n",
       " 2: (-0.2911724363261638-0.08901988526254262j),\n",
       " 3: (-1.2540497979706084+0.20150241215700193j),\n",
       " 4: (-0.17706732978337336-1.2807214219593597j),\n",
       " 5: (0.29117243632616385+0.089019885262542675j)}"
      ]
     },
     "execution_count": 14,
     "metadata": {},
     "output_type": "execute_result"
    }
   ],
   "source": [
    "z_arb = 1.50 + 2.35j\n",
    "sw.get_sheets_at_z(z_arb)"
   ]
  },
  {
   "cell_type": "markdown",
   "metadata": {},
   "source": [
    "matched the previous result:\n",
    "\n",
    "```\n",
    "The sheets trivializing the FUNDAMENTAL cover at z = (1.5+2.35j)\n",
    "{\n",
    "0: (1.2540497979706087-0.2015024121570015j), > 0 \n",
    "1: (0.17706732978337292+1.2807214219593583j), > 1\n",
    "2: (-0.17706732978337325-1.2807214219593608j), > 4\n",
    "3: (-1.2540497979706091+0.20150241215700188j), > 3\n",
    "4: (0.29117243632616374+0.08901988526254266j), > 5\n",
    "5: (-0.2911724363261637-0.08901988526254263j)} > 2\n",
    "```"
   ]
  },
  {
   "cell_type": "code",
   "execution_count": 15,
   "metadata": {
    "collapsed": false
   },
   "outputs": [
    {
     "name": "stderr",
     "output_type": "stream",
     "text": [
      "25139: config file: config/coset_D_3.ini\n",
      "25139: Representation data of (D3, [0, 0, 1]) retrieved from SAGE:\n",
      "{'ffr_weights': [(1, 0, 0),\n",
      "                 (0, 1, 0),\n",
      "                 (0, 0, 1),\n",
      "                 (-1, 0, 0),\n",
      "                 (0, -1, 0),\n",
      "                 (0, 0, -1)],\n",
      " 'multiplicities': [1, 1, 1, 1],\n",
      " 'positive_roots': [(1, 1, 0),\n",
      "                    (1, 0, 1),\n",
      "                    (0, 1, 1),\n",
      "                    (1, -1, 0),\n",
      "                    (1, 0, -1),\n",
      "                    (0, 1, -1)],\n",
      " 'roots': [(1, 1, 0),\n",
      "           (1, 0, 1),\n",
      "           (0, 1, 1),\n",
      "           (1, -1, 0),\n",
      "           (1, 0, -1),\n",
      "           (0, 1, -1),\n",
      "           (-1, 1, 0),\n",
      "           (-1, 0, 1),\n",
      "           (0, -1, 1),\n",
      "           (-1, -1, 0),\n",
      "           (-1, 0, -1),\n",
      "           (0, -1, -1)],\n",
      " 'weight_basis': [(1, 0, 0), (0, 1, 0), (0, 0, 1)],\n",
      " 'weight_coefficients': [(0.5, 0.5, 0.5),\n",
      "                         (-0.5, 0.5, -0.5),\n",
      "                         (0.5, -0.5, -0.5),\n",
      "                         (-0.5, -0.5, 0.5)],\n",
      " 'weights': [(0.5, 0.5, 0.5),\n",
      "             (-0.5, 0.5, -0.5),\n",
      "             (0.5, -0.5, -0.5),\n",
      "             (-0.5, -0.5, 0.5)]}\n",
      "25139: Option 'mt_params' not specified; use None.\n",
      "25139: Seiberg-Witten curve in the 1st fundamental representation: x^{6} + x^{2} \\left(i z + 0.111111111111\\right) + 0.25 = 0\n",
      "25139: Seiberg-Witten curve in a general representation is not implemented yet.\n",
      "25139: \n",
      "Seiberg-Witten differential: x dz\n",
      "\n",
      "25139: Option 'punctures' not specified; use None.\n",
      "25139: Calculating ramification points of the Seiberg-Witten curve in the first fundamental rep.\n",
      "25139: ramification point #0: z = 0.861111111111j, x = (-0.707106781187+0j), i = 2.\n",
      "25139: ramification point #1: z = 0.861111111111j, x = (0.707106781187+0j), i = 2.\n",
      "25139: ramification point #2: z = (0.649519052838-0.263888888889j), x = (-0.353553390593-0.612372435696j), i = 2.\n",
      "25139: ramification point #3: z = (0.649519052838-0.263888888889j), x = (0.353553390593+0.612372435696j), i = 2.\n",
      "25139: ramification point #4: z = (-0.649519052838-0.263888888889j), x = (-0.353553390593+0.612372435696j), i = 2.\n",
      "25139: ramification point #5: z = (-0.649519052838-0.263888888889j), x = (0.353553390593-0.612372435696j), i = 2.\n",
      "25139: Getting aligned x's at the base point z = -1.18792699457j.\n",
      "25139: Analyzing a branch point at z = 0.861111111111j.\n",
      "25139: Analyzing a branch point at z = (0.649519052838-0.263888888889j).\n",
      "25139: Analyzing a branch point at z = (-0.649519052838-0.263888888889j).\n"
     ]
    }
   ],
   "source": [
    "config = loom.load_config(\"config/coset_D_3.ini\")\n",
    "config['representation'] = '[0, 0, 1]'\n",
    "sw2 = SWDataWithTrivialization(config)"
   ]
  },
  {
   "cell_type": "code",
   "execution_count": 16,
   "metadata": {
    "collapsed": false
   },
   "outputs": [
    {
     "data": {
      "text/plain": [
       "array([[ 0.5,  0.5,  0.5],\n",
       "       [-0.5,  0.5, -0.5],\n",
       "       [ 0.5, -0.5, -0.5],\n",
       "       [-0.5, -0.5,  0.5]])"
      ]
     },
     "execution_count": 16,
     "metadata": {},
     "output_type": "execute_result"
    }
   ],
   "source": [
    "sw2.g_data.weights"
   ]
  },
  {
   "cell_type": "code",
   "execution_count": 17,
   "metadata": {
    "collapsed": false
   },
   "outputs": [
    {
     "data": {
      "text/plain": [
       "array([  7.90173140e-01-0.7284786j ,   7.90173140e-01+0.7284786j ,\n",
       "         8.79580802e-17-0.43287995j,  -7.90173140e-01+0.7284786j ,\n",
       "        -7.90173140e-01-0.7284786j ,   1.55382325e-17+0.43287995j])"
      ]
     },
     "execution_count": 17,
     "metadata": {},
     "output_type": "execute_result"
    }
   ],
   "source": [
    "sw2.reference_ffr_xs"
   ]
  },
  {
   "cell_type": "code",
   "execution_count": 18,
   "metadata": {
    "collapsed": false
   },
   "outputs": [
    {
     "name": "stdout",
     "output_type": "stream",
     "text": [
      "0: (0.790173140002-0.216439973923j)\n",
      "1: (-8.21135157346e-16+0.944918571108j)\n",
      "2: (7.33177077129e-16-0.512038623262j)\n",
      "3: (-0.790173140002-0.216439973923j)\n"
     ]
    }
   ],
   "source": [
    "for i, x in enumerate(sw2.reference_xs):\n",
    "    print \"{}: {}\".format(i, x)"
   ]
  },
  {
   "cell_type": "markdown",
   "metadata": {},
   "source": [
    "When compared to the result of the previous trivialization, we get the match:\n",
    "```\n",
    "prev -> new\n",
    "\n",
    "Sheets of the rep-cover at the baspoint z_0 = -1.18792699457j\n",
    "[\n",
    "[0, (-1.0266579606414823e-15-0.5120386232618022j)], > 2\n",
    "[1, (-0.7901731400014987-0.21643997392296208j)], > 3\n",
    "[2, (0.7901731400014987-0.21643997392296307j)], > 0\n",
    "[3, (9.717434836837994e-16+0.9449185711077273j)] > 1\n",
    "]\n",
    "```"
   ]
  },
  {
   "cell_type": "code",
   "execution_count": 19,
   "metadata": {
    "collapsed": false
   },
   "outputs": [
    {
     "data": {
      "text/plain": [
       "{0: (0.56997234571390976+0.49509956226990814j),\n",
       " 1: (-0.39290501593053617+0.7856218596894522j),\n",
       " 2: (0.68407745225670002-0.69660197442690963j),\n",
       " 3: (-0.86114478204007361-0.58411944753245071j)}"
      ]
     },
     "execution_count": 19,
     "metadata": {},
     "output_type": "execute_result"
    }
   ],
   "source": [
    "z_arb = 1.50 + 2.35j\n",
    "sw2.get_sheets_at_z(z_arb)"
   ]
  },
  {
   "cell_type": "markdown",
   "metadata": {},
   "source": [
    "This is consistent with the previous matching:\n",
    "```\n",
    "prev -> new\n",
    "The sheets trivializing the rep-cover at z = (1.5+2.35j)\n",
    "{\n",
    "0: (0.6840774522566997-0.6966019744269086j), > 2 \n",
    "1: (-0.8611447820400726-0.5841194475324497j), > 3\n",
    "2: (0.569972345713909+0.4950995622699071j),  > 0 \n",
    "3: (-0.392905015930536+0.7856218596894512j)} > 1\n",
    "```"
   ]
  },
  {
   "cell_type": "code",
   "execution_count": 20,
   "metadata": {
    "collapsed": false
   },
   "outputs": [
    {
     "name": "stdout",
     "output_type": "stream",
     "text": [
      "---------------------------------------------------------\n",
      "Branch Point at z = 0.861111111111j\n",
      "---------------------------------------------------------\n",
      "enum_sh:\n",
      "[[0, (0.70710676715749288-0.49999999989351529j)],\n",
      " [1, (-2.7755575615628914e-16+0.5j)],\n",
      " [2, (-2.7755575615628914e-16+0.5j)],\n",
      " [3, (-0.70710676715749221-0.50000000010648471j)]]\n",
      "singles:\n",
      "[0, 3]\n",
      "positive_roots:\n",
      "[array([ 1., -1.,  0.])]\n",
      "monodromy:\n",
      "matrix([[1, 0, 0, 0],\n",
      "        [0, 0, 1, 0],\n",
      "        [0, 1, 0, 0],\n",
      "        [0, 0, 0, 1]])\n",
      "groups:\n",
      "[[1, 2]]\n",
      "z:\n",
      "0.861111111111j\n",
      "order:\n",
      "2\n",
      "---------------------------------------------------------\n",
      "Branch Point at z = (0.649519052838-0.263888888889j)\n",
      "---------------------------------------------------------\n",
      "enum_sh:\n",
      "[[0, (0.43301271088865123-0.25000000370069869j)],\n",
      " [1, (-0.079459309548630702+0.86237243407776476j)],\n",
      " [2, (0.43301269289578848-0.24999999629930181j)],\n",
      " [3, (-0.78656609423580903-0.36237243407776426j)]]\n",
      "singles:\n",
      "[1, 3]\n",
      "positive_roots:\n",
      "[array([ 0.,  1.,  1.])]\n",
      "monodromy:\n",
      "matrix([[0, 0, 1, 0],\n",
      "        [0, 1, 0, 0],\n",
      "        [1, 0, 0, 0],\n",
      "        [0, 0, 0, 1]])\n",
      "groups:\n",
      "[[0, 2]]\n",
      "z:\n",
      "(0.649519052838329-0.26388888888900003j)\n",
      "order:\n",
      "2\n",
      "---------------------------------------------------------\n",
      "Branch Point at z = (-0.649519052838-0.263888888889j)\n",
      "---------------------------------------------------------\n",
      "enum_sh:\n",
      "[[0, (0.7865660924854937-0.36237243569579419j)],\n",
      " [1, (0.079459311298946012+0.86237243569579469j)],\n",
      " [2, (-0.43301269114547314-0.24999999468127188j)],\n",
      " [3, (-0.43301271263896657-0.25000000531872862j)]]\n",
      "singles:\n",
      "[0, 1]\n",
      "positive_roots:\n",
      "[array([ 1.,  0., -1.])]\n",
      "monodromy:\n",
      "matrix([[1, 0, 0, 0],\n",
      "        [0, 1, 0, 0],\n",
      "        [0, 0, 0, 1],\n",
      "        [0, 0, 1, 0]])\n",
      "groups:\n",
      "[[2, 3]]\n",
      "z:\n",
      "(-0.649519052838329-0.26388888888900003j)\n",
      "order:\n",
      "2\n"
     ]
    }
   ],
   "source": [
    "for i, bp in enumerate(sw2.branch_points):\n",
    "    bp.print_info()"
   ]
  },
  {
   "cell_type": "code",
   "execution_count": null,
   "metadata": {
    "collapsed": true
   },
   "outputs": [],
   "source": []
  }
 ],
 "metadata": {
  "kernelspec": {
   "display_name": "Python 2",
   "language": "python",
   "name": "python2"
  },
  "language_info": {
   "codemirror_mode": {
    "name": "ipython",
    "version": 2
   },
   "file_extension": ".py",
   "mimetype": "text/x-python",
   "name": "python",
   "nbconvert_exporter": "python",
   "pygments_lexer": "ipython2",
   "version": "2.7.6"
  }
 },
 "nbformat": 4,
 "nbformat_minor": 0
}
