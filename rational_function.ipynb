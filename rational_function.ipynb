{
 "cells": [
  {
   "cell_type": "code",
   "execution_count": 25,
   "metadata": {
    "collapsed": false
   },
   "outputs": [],
   "source": [
    "import sympy\n",
    "sympy.__version__\n",
    "x, z = sympy.symbols('x z')"
   ]
  },
  {
   "cell_type": "code",
   "execution_count": 15,
   "metadata": {
    "collapsed": true
   },
   "outputs": [],
   "source": [
    "#f = sympy.sympify(\"z**(-2) + z**(-3) + z**(-1)\")"
   ]
  },
  {
   "cell_type": "code",
   "execution_count": 33,
   "metadata": {
    "collapsed": false
   },
   "outputs": [],
   "source": [
    "f = sympy.sympify(\"(r**3*x**2*(z + I)**3 - (z - I)*(r**2*(z + I)**2 - r*u_2*(z - I)*(z + I) + (z - I)**2))/(r**3*(z + I)**3)\")\n",
    "subs_dict = {'u_2': sympy.sympify('1/2'), 'r': sympy.sympify('exp(I*pi/5)')}"
   ]
  },
  {
   "cell_type": "code",
   "execution_count": 16,
   "metadata": {
    "collapsed": false
   },
   "outputs": [
    {
     "data": {
      "text/plain": [
       "(r**3*x**2*(z + I)**3 - (z - I)*(r**2*(z + I)**2 - r*u_2*(z - I)*(z + I) + (z - I)**2))/(r**3*(z + I)**3)"
      ]
     },
     "execution_count": 16,
     "metadata": {},
     "output_type": "execute_result"
    }
   ],
   "source": [
    "f"
   ]
  },
  {
   "cell_type": "code",
   "execution_count": 17,
   "metadata": {
    "collapsed": false
   },
   "outputs": [
    {
     "data": {
      "text/plain": [
       "(r**3*x**2*z**3 + 3*I*r**3*x**2*z**2 - 3*r**3*x**2*z - I*r**3*x**2 - r**2*z**3 - I*r**2*z**2 - r**2*z - I*r**2 + r*u_2*z**3 - I*r*u_2*z**2 + r*u_2*z - I*r*u_2 - z**3 + 3*I*z**2 + 3*z - I)/(r**3*z**3 + 3*I*r**3*z**2 - 3*r**3*z - I*r**3)"
      ]
     },
     "execution_count": 17,
     "metadata": {},
     "output_type": "execute_result"
    }
   ],
   "source": [
    "sympy.cancel(f)"
   ]
  },
  {
   "cell_type": "code",
   "execution_count": 18,
   "metadata": {
    "collapsed": false
   },
   "outputs": [
    {
     "data": {
      "text/plain": [
       "(r**3*x**2*z**3 + 3*I*r**3*x**2*z**2 - 3*r**3*x**2*z - I*r**3*x**2 - r**2*z**3 - I*r**2*z**2 - r**2*z - I*r**2 + r*u_2*z**3 - I*r*u_2*z**2 + r*u_2*z - I*r*u_2 - z**3 + 3*I*z**2 + 3*z - I)/(r**3*(z + I)**3)"
      ]
     },
     "execution_count": 18,
     "metadata": {},
     "output_type": "execute_result"
    }
   ],
   "source": [
    "sympy.factor(f)"
   ]
  },
  {
   "cell_type": "code",
   "execution_count": 19,
   "metadata": {
    "collapsed": false
   },
   "outputs": [
    {
     "data": {
      "text/plain": [
       "(r**3*x**2*z**3 + 3*I*r**3*x**2*z**2 - 3*r**3*x**2*z - I*r**3*x**2 - r**2*z**3 - I*r**2*z**2 - r**2*z - I*r**2 + r*u_2*z**3 - I*r*u_2*z**2 + r*u_2*z - I*r*u_2 - z**3 + 3*I*z**2 + 3*z - I)/(r**3*z**3 + 3*I*r**3*z**2 - 3*r**3*z - I*r**3)"
      ]
     },
     "execution_count": 19,
     "metadata": {},
     "output_type": "execute_result"
    }
   ],
   "source": [
    "rf = sympy.cancel(f)\n",
    "rf"
   ]
  },
  {
   "cell_type": "code",
   "execution_count": 20,
   "metadata": {
    "collapsed": false
   },
   "outputs": [
    {
     "data": {
      "text/plain": [
       "True"
      ]
     },
     "execution_count": 20,
     "metadata": {},
     "output_type": "execute_result"
    }
   ],
   "source": [
    "rf.is_rational_function()"
   ]
  },
  {
   "cell_type": "code",
   "execution_count": 22,
   "metadata": {
    "collapsed": false
   },
   "outputs": [],
   "source": [
    "f_n, f_d = rf.as_numer_denom()"
   ]
  },
  {
   "cell_type": "code",
   "execution_count": 23,
   "metadata": {
    "collapsed": false
   },
   "outputs": [
    {
     "data": {
      "text/plain": [
       "r**3*x**2*z**3 + 3*I*r**3*x**2*z**2 - 3*r**3*x**2*z - I*r**3*x**2 - r**2*z**3 - I*r**2*z**2 - r**2*z - I*r**2 + r*u_2*z**3 - I*r*u_2*z**2 + r*u_2*z - I*r*u_2 - z**3 + 3*I*z**2 + 3*z - I"
      ]
     },
     "execution_count": 23,
     "metadata": {},
     "output_type": "execute_result"
    }
   ],
   "source": [
    "f_n"
   ]
  },
  {
   "cell_type": "code",
   "execution_count": 27,
   "metadata": {
    "collapsed": false
   },
   "outputs": [],
   "source": [
    "D_z = sympy.discriminant(f_n, x)"
   ]
  },
  {
   "cell_type": "code",
   "execution_count": 29,
   "metadata": {
    "collapsed": false
   },
   "outputs": [],
   "source": [
    "D_z_n, D_z_d = sympy.cancel(D_z).as_numer_denom()"
   ]
  },
  {
   "cell_type": "code",
   "execution_count": 30,
   "metadata": {
    "collapsed": false
   },
   "outputs": [
    {
     "data": {
      "text/plain": [
       "4*r**5*z**15 + 52*I*r**5*z**14 - 308*r**5*z**13 - 1092*I*r**5*z**12 + 2548*r**5*z**11 + 4004*I*r**5*z**10 - 4004*r**5*z**9 - 1716*I*r**5*z**8 - 1716*r**5*z**7 - 4004*I*r**5*z**6 + 4004*r**5*z**5 + 2548*I*r**5*z**4 - 1092*r**5*z**3 - 308*I*r**5*z**2 + 52*r**5*z + 4*I*r**5 - 4*r**4*u_2*z**15 - 44*I*r**4*u_2*z**14 + 212*r**4*u_2*z**13 + 572*I*r**4*u_2*z**12 - 884*r**4*u_2*z**11 - 572*I*r**4*u_2*z**10 - 572*r**4*u_2*z**9 - 1716*I*r**4*u_2*z**8 + 1716*r**4*u_2*z**7 + 572*I*r**4*u_2*z**6 + 572*r**4*u_2*z**5 + 884*I*r**4*u_2*z**4 - 572*r**4*u_2*z**3 - 212*I*r**4*u_2*z**2 + 44*r**4*u_2*z + 4*I*r**4*u_2 + 4*r**3*z**15 + 36*I*r**3*z**14 - 132*r**3*z**13 - 228*I*r**3*z**12 + 84*r**3*z**11 - 396*I*r**3*z**10 + 748*r**3*z**9 + 396*I*r**3*z**8 + 396*r**3*z**7 + 748*I*r**3*z**6 - 396*r**3*z**5 + 84*I*r**3*z**4 - 228*r**3*z**3 - 132*I*r**3*z**2 + 36*r**3*z + 4*I*r**3"
      ]
     },
     "execution_count": 30,
     "metadata": {},
     "output_type": "execute_result"
    }
   ],
   "source": [
    "D_z_n"
   ]
  },
  {
   "cell_type": "code",
   "execution_count": 37,
   "metadata": {
    "collapsed": false
   },
   "outputs": [
    {
     "data": {
      "text/plain": [
       "[4*r**5 - 4*r**4*u_2 + 4*r**3,\n",
       " 52*I*r**5 - 44*I*r**4*u_2 + 36*I*r**3,\n",
       " -308*r**5 + 212*r**4*u_2 - 132*r**3,\n",
       " -1092*I*r**5 + 572*I*r**4*u_2 - 228*I*r**3,\n",
       " 2548*r**5 - 884*r**4*u_2 + 84*r**3,\n",
       " 4004*I*r**5 - 572*I*r**4*u_2 - 396*I*r**3,\n",
       " -4004*r**5 - 572*r**4*u_2 + 748*r**3,\n",
       " -1716*I*r**5 - 1716*I*r**4*u_2 + 396*I*r**3,\n",
       " -1716*r**5 + 1716*r**4*u_2 + 396*r**3,\n",
       " -4004*I*r**5 + 572*I*r**4*u_2 + 748*I*r**3,\n",
       " 4004*r**5 + 572*r**4*u_2 - 396*r**3,\n",
       " 2548*I*r**5 + 884*I*r**4*u_2 + 84*I*r**3,\n",
       " -1092*r**5 - 572*r**4*u_2 - 228*r**3,\n",
       " -308*I*r**5 - 212*I*r**4*u_2 - 132*I*r**3,\n",
       " 52*r**5 + 44*r**4*u_2 + 36*r**3,\n",
       " 4*I*r**5 + 4*I*r**4*u_2 + 4*I*r**3]"
      ]
     },
     "execution_count": 37,
     "metadata": {},
     "output_type": "execute_result"
    }
   ],
   "source": [
    "sympy.Poly(D_z_n, z).all_coeffs()"
   ]
  },
  {
   "cell_type": "code",
   "execution_count": 38,
   "metadata": {
    "collapsed": false
   },
   "outputs": [
    {
     "data": {
      "text/plain": [
       "4.0*r**5*z**15 + 52.0*I*r**5*z**14 - 308.0*r**5*z**13 - 1092.0*I*r**5*z**12 + 2548.0*r**5*z**11 + 4004.0*I*r**5*z**10 - 4004.0*r**5*z**9 - 1716.0*I*r**5*z**8 - 1716.0*r**5*z**7 - 4004.0*I*r**5*z**6 + 4004.0*r**5*z**5 + 2548.0*I*r**5*z**4 - 1092.0*r**5*z**3 - 308.0*I*r**5*z**2 + 52.0*r**5*z + 4.0*I*r**5 - 4.0*r**4*u_2*z**15 - 44.0*I*r**4*u_2*z**14 + 212.0*r**4*u_2*z**13 + 572.0*I*r**4*u_2*z**12 - 884.0*r**4*u_2*z**11 - 572.0*I*r**4*u_2*z**10 - 572.0*r**4*u_2*z**9 - 1716.0*I*r**4*u_2*z**8 + 1716.0*r**4*u_2*z**7 + 572.0*I*r**4*u_2*z**6 + 572.0*r**4*u_2*z**5 + 884.0*I*r**4*u_2*z**4 - 572.0*r**4*u_2*z**3 - 212.0*I*r**4*u_2*z**2 + 44.0*r**4*u_2*z + 4.0*I*r**4*u_2 + 4.0*r**3*z**15 + 36.0*I*r**3*z**14 - 132.0*r**3*z**13 - 228.0*I*r**3*z**12 + 84.0*r**3*z**11 - 396.0*I*r**3*z**10 + 748.0*r**3*z**9 + 396.0*I*r**3*z**8 + 396.0*r**3*z**7 + 748.0*I*r**3*z**6 - 396.0*r**3*z**5 + 84.0*I*r**3*z**4 - 228.0*r**3*z**3 - 132.0*I*r**3*z**2 + 36.0*r**3*z + 4.0*I*r**3"
      ]
     },
     "execution_count": 38,
     "metadata": {},
     "output_type": "execute_result"
    }
   ],
   "source": [
    "D_z_n.evalf(subs={'u_2': 1, 'r': 1}, n=50)"
   ]
  },
  {
   "cell_type": "code",
   "execution_count": 12,
   "metadata": {
    "collapsed": false
   },
   "outputs": [
    {
     "name": "stdout",
     "output_type": "stream",
     "text": [
      "Use TkAgg backend for matplotlib.\n",
      "Setting logging level to \"INFO\".\n"
     ]
    }
   ],
   "source": [
    "import loom"
   ]
  },
  {
   "cell_type": "code",
   "execution_count": 13,
   "metadata": {
    "collapsed": false
   },
   "outputs": [
    {
     "name": "stderr",
     "output_type": "stream",
     "text": [
      "7530: config file: config/pure_SU_2.ini\n"
     ]
    }
   ],
   "source": [
    "c = loom.load_config('config/pure_SU_2.ini')"
   ]
  },
  {
   "cell_type": "code",
   "execution_count": 14,
   "metadata": {
    "collapsed": false
   },
   "outputs": [
    {
     "data": {
      "text/plain": [
       "{'accuracy': 1e-06,\n",
       " 'casimir_differentials': \"{2: '(1/z + u_2 + z)(1/z^2)'}\",\n",
       " 'n_processes': 0,\n",
       " 'num_of_iterations': 5,\n",
       " 'num_of_steps': 5000,\n",
       " 'phase_range': [1e-06, 3.141592, 10],\n",
       " 'plot_range': [[-5, 5], [-5, 5]],\n",
       " 'punctures': \"[0, 'oo']\",\n",
       " 'representation': '1',\n",
       " 'root_system': 'A1',\n",
       " 'size_of_bin': 0.06,\n",
       " 'size_of_large_step': 0.02,\n",
       " 'size_of_neighborhood': 0.01,\n",
       " 'size_of_puncture_cutoff': 0.002,\n",
       " 'size_of_ramification_pt_cutoff': 0.001,\n",
       " 'size_of_small_step': 0.001,\n",
       " 'sw_parameters': {'u_2': 1.0}}"
      ]
     },
     "execution_count": 14,
     "metadata": {},
     "output_type": "execute_result"
    }
   ],
   "source": [
    "c.data"
   ]
  },
  {
   "cell_type": "code",
   "execution_count": null,
   "metadata": {
    "collapsed": true
   },
   "outputs": [],
   "source": []
  }
 ],
 "metadata": {
  "kernelspec": {
   "display_name": "Python 2",
   "language": "python",
   "name": "python2"
  },
  "language_info": {
   "codemirror_mode": {
    "name": "ipython",
    "version": 2
   },
   "file_extension": ".py",
   "mimetype": "text/x-python",
   "name": "python",
   "nbconvert_exporter": "python",
   "pygments_lexer": "ipython2",
   "version": "2.7.10"
  }
 },
 "nbformat": 4,
 "nbformat_minor": 0
}
