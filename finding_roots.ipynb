{
 "cells": [
  {
   "cell_type": "code",
   "execution_count": 1,
   "metadata": {
    "collapsed": true
   },
   "outputs": [],
   "source": [
    "import pdb"
   ]
  },
  {
   "cell_type": "code",
   "execution_count": 1,
   "metadata": {
    "collapsed": false
   },
   "outputs": [
    {
     "name": "stdout",
     "output_type": "stream",
     "text": [
      "0.7.6\n",
      "0.18\n",
      "Mpmath settings:\n",
      "  mp.prec = 70                [default: 53]\n",
      "  mp.dps = 20                 [default: 15]\n",
      "  mp.trap_complex = False     [default: False]\n"
     ]
    }
   ],
   "source": [
    "import sympy\n",
    "import copy\n",
    "#import mpmath\n",
    "#from mpmath import mp\n",
    "import sympy.mpmath as mpmath\n",
    "from sympy.mpmath.libmp.libhyper import NoConvergence\n",
    "from sympy.mpmath import mp \n",
    "from sympy import poly\n",
    "from sympy import symbols\n",
    "\n",
    "print sympy.__version__\n",
    "print mpmath.__version__\n",
    "\n",
    "precision = 20\n",
    "mp.dps = precision\n",
    "\n",
    "print mp"
   ]
  },
  {
   "cell_type": "code",
   "execution_count": 2,
   "metadata": {
    "collapsed": true
   },
   "outputs": [],
   "source": [
    "x, z = symbols('x, z')"
   ]
  },
  {
   "cell_type": "code",
   "execution_count": 3,
   "metadata": {
    "collapsed": false
   },
   "outputs": [],
   "source": [
    "f_sym_eq = sympy.sympify(\"x**4 + a*z*x**2 + b*x + c*z**2\")\n",
    "parameters = {'a': -10, 'b': 4, 'c': 9}"
   ]
  },
  {
   "cell_type": "code",
   "execution_count": 4,
   "metadata": {
    "collapsed": false
   },
   "outputs": [
    {
     "data": {
      "text/plain": [
       "a*x**2*z + b*x + c*z**2 + x**4"
      ]
     },
     "execution_count": 4,
     "metadata": {},
     "output_type": "execute_result"
    }
   ],
   "source": [
    "f_sym_eq"
   ]
  },
  {
   "cell_type": "code",
   "execution_count": 5,
   "metadata": {
    "collapsed": true
   },
   "outputs": [],
   "source": [
    "subs_dict = copy.deepcopy(parameters)"
   ]
  },
  {
   "cell_type": "code",
   "execution_count": 21,
   "metadata": {
    "collapsed": false
   },
   "outputs": [
    {
     "data": {
      "text/plain": [
       "Poly((16*a**4*c - 128*a**2*c**2 + 256*c**3)*z**6 + (-4*a**3*b**2 + 144*a*b**2*c)*z**3 - 27*b**4, z, domain='ZZ[a,b,c]')"
      ]
     },
     "execution_count": 21,
     "metadata": {},
     "output_type": "execute_result"
    }
   ],
   "source": [
    "D_z_sym = sympy.poly(sympy.discriminant(f_sym_eq, x), z)\n",
    "D_z_sym"
   ]
  },
  {
   "cell_type": "code",
   "execution_count": 7,
   "metadata": {
    "collapsed": false
   },
   "outputs": [
    {
     "name": "stdout",
     "output_type": "stream",
     "text": [
      "16*a**4*c - 128*a**2*c**2 + 256*c**3 = (589824.00000000000000, 0)\n",
      "0 = (0, 0)\n",
      "0 = (0, 0)\n",
      "-4*a**3*b**2 + 144*a*b**2*c = (-143360.00000000000000, 0)\n",
      "0 = (0, 0)\n",
      "0 = (0, 0)\n",
      "-27*b**4 = (-6912.0000000000000000, 0)\n"
     ]
    }
   ],
   "source": [
    "cs = [c_sym.evalf(subs=subs_dict, n=precision).as_real_imag() for c_sym in D_z_sym.all_coeffs()]\n",
    "for i, c_sym in enumerate(D_z_sym.all_coeffs()):\n",
    "    print '{} = {}'.format(c_sym, cs[i])"
   ]
  },
  {
   "cell_type": "code",
   "execution_count": 8,
   "metadata": {
    "collapsed": false
   },
   "outputs": [],
   "source": [
    "D_z_coeffs = [mpmath.mpc(*c) for c in cs]"
   ]
  },
  {
   "cell_type": "code",
   "execution_count": 9,
   "metadata": {
    "collapsed": false
   },
   "outputs": [],
   "source": [
    "# Due to the bug of mpmath, error estimation does not work for version < 0.20-git\n",
    "#D_z_roots, z_roots_error = mpmath.polyroots(D_z_coeffs, extraprec=precision, error=True)\n",
    "#print 'estimated error of z roots: {}'.format(z_roots_error)"
   ]
  },
  {
   "cell_type": "code",
   "execution_count": 10,
   "metadata": {
    "collapsed": true
   },
   "outputs": [],
   "source": [
    "D_z_roots = mpmath.polyroots(D_z_coeffs, extraprec=precision)"
   ]
  },
  {
   "cell_type": "code",
   "execution_count": 20,
   "metadata": {
    "collapsed": false
   },
   "outputs": [
    {
     "name": "stdout",
     "output_type": "stream",
     "text": [
      "-0.34544520170447289579\n"
     ]
    }
   ],
   "source": [
    "print D_z_roots[0]"
   ]
  },
  {
   "cell_type": "code",
   "execution_count": 12,
   "metadata": {
    "collapsed": false
   },
   "outputs": [
    {
     "name": "stdout",
     "output_type": "stream",
     "text": [
      "D(z_0) = 0.0\n",
      "D(z_1) = 6.2450045135165055399e-17\n",
      "D(z_2) = 1.4168545436079111663e-17\n",
      "D(z_3) = 1.4168545436079111663e-17\n",
      "D(z_4) = 9.6155545410899194482e-17\n",
      "D(z_5) = 9.6155545410899194482e-17\n"
     ]
    }
   ],
   "source": [
    "for i, z_i in enumerate(D_z_roots):\n",
    "    print 'D(z_{}) = {}'.format(i, abs(mpmath.polyval(D_z_coeffs, z_i)))"
   ]
  },
  {
   "cell_type": "code",
   "execution_count": 17,
   "metadata": {
    "collapsed": false
   },
   "outputs": [
    {
     "data": {
      "text/plain": [
       "mpf('1.0029737271645977072129')"
      ]
     },
     "execution_count": 17,
     "metadata": {},
     "output_type": "execute_result"
    }
   ],
   "source": [
    "abs(D_z_roots[0] - D_z_roots[1])"
   ]
  },
  {
   "cell_type": "code",
   "execution_count": 15,
   "metadata": {
    "collapsed": false
   },
   "outputs": [
    {
     "name": "stdout",
     "output_type": "stream",
     "text": [
      "z_0 = -0.34544520170447289579\n",
      "\n",
      "\tx_0 = -0.50458391000626530875\n",
      "\tf(z_0, x_0) = 0.0\n",
      "\n",
      "\tx_1 = -0.50458390999500690525\n",
      "\tf(z_0, x_1) = 0.0\n",
      "\n",
      "\tx_2 = (0.50458391000063610701 - 1.9908947389321689187j)\n",
      "\tf(z_0, x_2) = 1.0473773797765169395e-20\n",
      "\n",
      "\tx_3 = (0.50458391000063610701 + 1.9908947389321689187j)\n",
      "\tf(z_0, x_3) = 1.0473773797765169395e-20\n",
      "\n",
      "z_1 = 0.65752852546012481143\n",
      "\n",
      "\tx_0 = -2.7416415395448845372\n",
      "\tf(z_1, x_0) = 2.3716922523120409494e-20\n",
      "\n",
      "\tx_1 = -0.5302892369343576246\n",
      "\tf(z_1, x_1) = 0.0\n",
      "\n",
      "\tx_2 = (1.6359653882396210809 - 1.3147268817715335806e-11j)\n",
      "\tf(z_1, x_2) = 3.3881317890172013563e-21\n",
      "\n",
      "\tx_3 = (1.6359653882396210809 + 1.3147268832853956146e-11j)\n",
      "\tf(z_1, x_3) = 3.3881317890172013563e-21\n",
      "\n",
      "z_2 = (0.17272260085223644789 + 0.29916432029151299303j)\n",
      "\n",
      "\tx_0 = (0.25229195498544071555 - 0.43698248438724044883j)\n",
      "\tf(z_2, x_0) = 8.4703294725430033907e-22\n",
      "\n",
      "\tx_1 = (0.25229195501519539146 - 0.43698248441562301991j)\n",
      "\tf(z_2, x_1) = 0.0\n",
      "\n",
      "\tx_2 = (-1.9764573751763642059 - 0.55846488506465272499j)\n",
      "\tf(z_2, x_2) = 8.6380750534113709675e-21\n",
      "\n",
      "\tx_3 = (1.4718734651757280989 + 1.4324298538675161937j)\n",
      "\tf(z_2, x_3) = 1.8940232492426094033e-20\n",
      "\n",
      "z_3 = (0.17272260085223644789 - 0.29916432029151299303j)\n",
      "\n",
      "\tx_0 = (0.25229195498544071555 + 0.43698248438724044884j)\n",
      "\tf(z_3, x_0) = 0.0\n",
      "\n",
      "\tx_1 = (0.25229195501519539146 + 0.43698248441562301991j)\n",
      "\tf(z_3, x_1) = 1.1978854817838860011e-21\n",
      "\n",
      "\tx_2 = (-1.9764573751763642059 + 0.55846488506465272499j)\n",
      "\tf(z_3, x_2) = 8.6380750534113709675e-21\n",
      "\n",
      "\tx_3 = (1.4718734651757280989 - 1.4324298538675161937j)\n",
      "\tf(z_3, x_3) = 1.8940232492426094033e-20\n",
      "\n",
      "z_4 = (-0.32876426273006240571 + 0.56943640676139113697j)\n",
      "\n",
      "increase parameters...\n",
      "\tx_0 = (0.2651446184671788123 + 0.45924395053861891781j)\n",
      "\tf(z_4, x_0) = 3.3881317890172013563e-21\n",
      "\n",
      "\tx_1 = (-0.81798269413947741231 - 1.4167875859131968776j)\n",
      "\tf(z_4, x_1) = 0.0\n",
      "\n",
      "\tx_2 = (-0.81798269410014366858 - 1.4167875859419706873j)\n",
      "\tf(z_4, x_2) = 6.1080414466655291104e-21\n",
      "\n",
      "\tx_3 = (1.3708207697724422686 + 2.3743312213165486471j)\n",
      "\tf(z_4, x_3) = 6.3045658598257637088e-20\n",
      "\n",
      "z_5 = (-0.32876426273006240571 - 0.56943640676139113697j)\n",
      "\n",
      "increase parameters...\n",
      "\tx_0 = (0.2651446184671788123 - 0.45924395053861891781j)\n",
      "\tf(z_5, x_0) = 3.3881317890172013563e-21\n",
      "\n",
      "\tx_1 = (-0.81798269413947741231 + 1.4167875859131968776j)\n",
      "\tf(z_5, x_1) = 0.0\n",
      "\n",
      "\tx_2 = (-0.81798269410014366858 + 1.4167875859419706873j)\n",
      "\tf(z_5, x_2) = 6.1080414466655291104e-21\n",
      "\n",
      "\tx_3 = (1.3708207697724422686 - 2.3743312213165486471j)\n",
      "\tf(z_5, x_3) = 6.3045658598257637088e-20\n",
      "\n"
     ]
    }
   ],
   "source": [
    "for i, z_i in enumerate(D_z_roots):\n",
    "    print 'z_{} = {}\\n'.format(i, z_i)\n",
    "    subs_dict[z] = z_i\n",
    "    \n",
    "    f_x = sympy.poly(f_sym_eq.evalf(subs=subs_dict, n=precision), x)\n",
    "    f_x_cs = [c.evalf(subs=subs_dict, n=precision) for c in sympy.poly(f_sym_eq, x).all_coeffs()]\n",
    "    f_x_coeffs =  [mpmath.mpc(*c.as_real_imag()) for c in f_x_cs]\n",
    "    #f_x_roots, x_roots_error = mpmath.polyroots(f_x_coeffs, maxsteps=50, extraprec=30, error=True)\n",
    "    #print 'estimated error of x roots: {}\\n'.format(x_roots_error)\n",
    "    f_x_roots = None\n",
    "    polyroots_maxsteps = 50\n",
    "    polyroots_extra_precision = 30\n",
    "    while f_x_roots is None:\n",
    "        try:\n",
    "            f_x_roots = mpmath.polyroots(f_x_coeffs, maxsteps=polyroots_maxsteps, extraprec=polyroots_extra_precision)\n",
    "        except NoConvergence:\n",
    "            print 'increase parameters...'\n",
    "            polyroots_maxsteps += 10\n",
    "            polyroots_extra_precision +=10\n",
    "    for j, x_j in enumerate(f_x_roots):\n",
    "        print '\\tx_{} = {}'.format(j, x_j)\n",
    "        print '\\tf(z_{}, x_{}) = {}\\n'.format(i, j, abs(mpmath.polyval(f_x_coeffs, x_j)))\n",
    "    "
   ]
  },
  {
   "cell_type": "code",
   "execution_count": null,
   "metadata": {
    "collapsed": true
   },
   "outputs": [],
   "source": []
  }
 ],
 "metadata": {
  "kernelspec": {
   "display_name": "Python 2",
   "language": "python",
   "name": "python2"
  },
  "language_info": {
   "codemirror_mode": {
    "name": "ipython",
    "version": 2
   },
   "file_extension": ".py",
   "mimetype": "text/x-python",
   "name": "python",
   "nbconvert_exporter": "python",
   "pygments_lexer": "ipython2",
   "version": "2.7.10"
  }
 },
 "nbformat": 4,
 "nbformat_minor": 0
}
