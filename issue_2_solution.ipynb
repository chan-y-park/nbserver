{
 "cells": [
  {
   "cell_type": "code",
   "execution_count": 1,
   "metadata": {
    "collapsed": false
   },
   "outputs": [
    {
     "name": "stdout",
     "output_type": "stream",
     "text": [
      "Use TkAgg backend for matplotlib.\n",
      "Setting logging level to \"INFO\".\n"
     ]
    }
   ],
   "source": [
    "import loom\n",
    "from loom.geometry import SWDataBase"
   ]
  },
  {
   "cell_type": "code",
   "execution_count": 2,
   "metadata": {
    "collapsed": false
   },
   "outputs": [
    {
     "name": "stderr",
     "output_type": "stream",
     "text": [
      "29616: config file: config/pure_SU_2.ini\n"
     ]
    }
   ],
   "source": [
    "c = loom.load_config('config/pure_SU_2.ini')"
   ]
  },
  {
   "cell_type": "code",
   "execution_count": 3,
   "metadata": {
    "collapsed": false,
    "scrolled": true
   },
   "outputs": [
    {
     "data": {
      "text/plain": [
       "{'accuracy': 1e-06,\n",
       " 'casimir_differentials': '{2: (1/(z*r) + u_2 + (z*r))*(1/(z*r)^2)}',\n",
       " 'differential_parameters': '{u_2: 1/2, r: exp(pi*I/5)}',\n",
       " 'mass_limit': 10.0,\n",
       " 'mt_params': '[[1*I, -1*I], [1, 1]]',\n",
       " 'n_processes': 0,\n",
       " 'num_of_iterations': 5,\n",
       " 'num_of_steps': 5000,\n",
       " 'phase_range': [1e-06, 3.141592, 10],\n",
       " 'plot_range': [[-5, 5], [-5, 5]],\n",
       " 'punctures': '[0, oo]',\n",
       " 'representation': '1',\n",
       " 'root_system': 'A1',\n",
       " 'size_of_large_step': 0.02,\n",
       " 'size_of_neighborhood': 0.01,\n",
       " 'size_of_puncture_cutoff': 0.002,\n",
       " 'size_of_ramification_pt_cutoff': 0.001,\n",
       " 'size_of_small_step': 0.001}"
      ]
     },
     "execution_count": 3,
     "metadata": {},
     "output_type": "execute_result"
    }
   ],
   "source": [
    "c.data"
   ]
  },
  {
   "cell_type": "code",
   "execution_count": null,
   "metadata": {
    "collapsed": false
   },
   "outputs": [
    {
     "name": "stderr",
     "output_type": "stream",
     "text": [
      "29616: Representation data of (A1, 1) retrieved from SAGE:\n",
      "{'ffr_weights': [(1, 0), (0, 1)],\n",
      " 'multiplicities': [1, 1],\n",
      " 'positive_roots': [(1, -1)],\n",
      " 'roots': [(1, -1), (-1, 1)],\n",
      " 'weight_basis': [(1, 0), (0, 1)],\n",
      " 'weight_coefficients': [(1, 0), (0, 1)],\n",
      " 'weights': [(1, 0), (0, 1)]}\n",
      "29616: Seiberg-Witten curve in the 1st fundamental representation: \\frac{1}{r^{3} \\left(z + i\\right)^{3}} \\left(r^{3} x^{2} \\left(z + i\\right)^{3} - \\left(z - i\\right) \\left(r^{2} \\left(z + i\\right)^{2} - r u_{2} \\left(z - i\\right) \\left(z + i\\right) + \\left(z - i\\right)^{2}\\right)\\right) = 0.\n",
      "(numerically \\frac{1}{\\left(z + i\\right)^{3}} \\left(-0.309016994374947 - 0.951056516295154 i\\right) \\left(x^{2} \\left(-0.309016994374947 + 0.951056516295154 i\\right) \\left(z + i\\right)^{3} - \\left(z - i\\right) \\left(\\left(z - i\\right)^{2} + \\left(-0.404508497187474 - 0.293892626146237 i\\right) \\left(z - i\\right) \\left(z + i\\right) + \\left(0.309016994374947 + 0.951056516295154 i\\right) \\left(z + i\\right)^{2}\\right)\\right)=0.)\n",
      "29616: \n",
      "Seiberg-Witten differential: \\frac{2.0 i x}{\\left(z - i\\right)^{2}} dz\n",
      "\n",
      "29616: Calculating ramification points of the Seiberg-Witten curve in the first fundamental rep.\n"
     ]
    },
    {
     "name": "stdout",
     "output_type": "stream",
     "text": [
      "> /home/chan/loom/loom/geometry.py(256)get_ramification_points()\n",
      "-> D_z_sym = sympy.Poly(sympy.discriminant(f_n, x), z)\n",
      "(Pdb) f_n.subs(z=1)\n",
      "*** ValueError: subs accepts either 1 or 2 arguments\n",
      "(Pdb) f_n\n",
      "r**3*x**2*z**3 + 3*I*r**3*x**2*z**2 - 3*r**3*x**2*z - I*r**3*x**2 - r**2*z**3 - I*r**2*z**2 - r**2*z - I*r**2 + r*u_2*z**3 - I*r*u_2*z**2 + r*u_2*z - I*r*u_2 - z**3 + 3*I*z**2 + 3*z - I\n",
      "(Pdb) f_n.subs({r: 1})\n",
      "*** NameError: name 'r' is not defined\n",
      "(Pdb) f_n.subs({'r': 1})\n",
      "u_2*z**3 - I*u_2*z**2 + u_2*z - I*u_2 + x**2*z**3 + 3*I*x**2*z**2 - 3*x**2*z - I*x**2 - 2*z**3 + 2*I*z**2 + 2*z - 2*I\n",
      "(Pdb) f_n.subs({'r': 1, z:1})\n",
      "2*u_2 - 2*I*u_2 - 2*x**2 + 2*I*x**2\n",
      "(Pdb) sympy.discriminant(f_n.subs({'r': 1, z:1}), x)\n",
      "(32*u_2 + 32*I*u_2)/(-1 + I)\n",
      "(Pdb) sympy.Poly(f_n, x)\n",
      "Poly((r**3*z**3 + 3*I*r**3*z**2 - 3*r**3*z - I*r**3)*x**2 - r**2*z**3 - I*r**2*z**2 - r**2*z - I*r**2 + r*u_2*z**3 - I*r*u_2*z**2 + r*u_2*z - I*r*u_2 - z**3 + 3*I*z**2 + 3*z - I, x, domain='EX')\n",
      "(Pdb) sympy.discriminant(sympy.Poly(f_n, x))\n",
      "(4*r**5*z**15 + 52*I*r**5*z**14 - 308*r**5*z**13 - 1092*I*r**5*z**12 + 2548*r**5*z**11 + 4004*I*r**5*z**10 - 4004*r**5*z**9 - 1716*I*r**5*z**8 - 1716*r**5*z**7 - 4004*I*r**5*z**6 + 4004*r**5*z**5 + 2548*I*r**5*z**4 - 1092*r**5*z**3 - 308*I*r**5*z**2 + 52*r**5*z + 4*I*r**5 - 4*r**4*u_2*z**15 - 44*I*r**4*u_2*z**14 + 212*r**4*u_2*z**13 + 572*I*r**4*u_2*z**12 - 884*r**4*u_2*z**11 - 572*I*r**4*u_2*z**10 - 572*r**4*u_2*z**9 - 1716*I*r**4*u_2*z**8 + 1716*r**4*u_2*z**7 + 572*I*r**4*u_2*z**6 + 572*r**4*u_2*z**5 + 884*I*r**4*u_2*z**4 - 572*r**4*u_2*z**3 - 212*I*r**4*u_2*z**2 + 44*r**4*u_2*z + 4*I*r**4*u_2 + 4*r**3*z**15 + 36*I*r**3*z**14 - 132*r**3*z**13 - 228*I*r**3*z**12 + 84*r**3*z**11 - 396*I*r**3*z**10 + 748*r**3*z**9 + 396*I*r**3*z**8 + 396*r**3*z**7 + 748*I*r**3*z**6 - 396*r**3*z**5 + 84*I*r**3*z**4 - 228*r**3*z**3 - 132*I*r**3*z**2 + 36*r**3*z + 4*I*r**3)/(z**9 + 9*I*z**8 - 36*z**7 - 84*I*z**6 + 126*z**5 + 126*I*z**4 - 84*z**3 - 36*I*z**2 + 9*z + I)\n",
      "(Pdb) sympy.discriminant(f_n, x)\n",
      "(4*r**5*z**15 + 52*I*r**5*z**14 - 308*r**5*z**13 - 1092*I*r**5*z**12 + 2548*r**5*z**11 + 4004*I*r**5*z**10 - 4004*r**5*z**9 - 1716*I*r**5*z**8 - 1716*r**5*z**7 - 4004*I*r**5*z**6 + 4004*r**5*z**5 + 2548*I*r**5*z**4 - 1092*r**5*z**3 - 308*I*r**5*z**2 + 52*r**5*z + 4*I*r**5 - 4*r**4*u_2*z**15 - 44*I*r**4*u_2*z**14 + 212*r**4*u_2*z**13 + 572*I*r**4*u_2*z**12 - 884*r**4*u_2*z**11 - 572*I*r**4*u_2*z**10 - 572*r**4*u_2*z**9 - 1716*I*r**4*u_2*z**8 + 1716*r**4*u_2*z**7 + 572*I*r**4*u_2*z**6 + 572*r**4*u_2*z**5 + 884*I*r**4*u_2*z**4 - 572*r**4*u_2*z**3 - 212*I*r**4*u_2*z**2 + 44*r**4*u_2*z + 4*I*r**4*u_2 + 4*r**3*z**15 + 36*I*r**3*z**14 - 132*r**3*z**13 - 228*I*r**3*z**12 + 84*r**3*z**11 - 396*I*r**3*z**10 + 748*r**3*z**9 + 396*I*r**3*z**8 + 396*r**3*z**7 + 748*I*r**3*z**6 - 396*r**3*z**5 + 84*I*r**3*z**4 - 228*r**3*z**3 - 132*I*r**3*z**2 + 36*r**3*z + 4*I*r**3)/(z**9 + 9*I*z**8 - 36*z**7 - 84*I*z**6 + 126*z**5 + 126*I*z**4 - 84*z**3 - 36*I*z**2 + 9*z + I)\n",
      "(Pdb) simplify(sympy.discriminant(f_n, x))\n",
      "*** NameError: name 'simplify' is not defined\n",
      "(Pdb) sympy.simplify(simplify(sympy.discriminant(f_n, x)))\n",
      "*** NameError: name 'simplify' is not defined\n",
      "(Pdb) sympy.simplify(sympy.discriminant(f_n, x))\n",
      "4*r**3*(r**2*z**15 + 13*I*r**2*z**14 - 77*r**2*z**13 - 273*I*r**2*z**12 + 637*r**2*z**11 + 1001*I*r**2*z**10 - 1001*r**2*z**9 - 429*I*r**2*z**8 - 429*r**2*z**7 - 1001*I*r**2*z**6 + 1001*r**2*z**5 + 637*I*r**2*z**4 - 273*r**2*z**3 - 77*I*r**2*z**2 + 13*r**2*z + I*r**2 - r*u_2*z**15 - 11*I*r*u_2*z**14 + 53*r*u_2*z**13 + 143*I*r*u_2*z**12 - 221*r*u_2*z**11 - 143*I*r*u_2*z**10 - 143*r*u_2*z**9 - 429*I*r*u_2*z**8 + 429*r*u_2*z**7 + 143*I*r*u_2*z**6 + 143*r*u_2*z**5 + 221*I*r*u_2*z**4 - 143*r*u_2*z**3 - 53*I*r*u_2*z**2 + 11*r*u_2*z + I*r*u_2 + z**15 + 9*I*z**14 - 33*z**13 - 57*I*z**12 + 21*z**11 - 99*I*z**10 + 187*z**9 + 99*I*z**8 + 99*z**7 + 187*I*z**6 - 99*z**5 + 21*I*z**4 - 57*z**3 - 33*I*z**2 + 9*z + I)/(z**9 + 9*I*z**8 - 36*z**7 - 84*I*z**6 + 126*z**5 + 126*I*z**4 - 84*z**3 - 36*I*z**2 + 9*z + I)\n",
      "(Pdb) sympy.discriminant(f_n, x)\n",
      "(4*r**5*z**15 + 52*I*r**5*z**14 - 308*r**5*z**13 - 1092*I*r**5*z**12 + 2548*r**5*z**11 + 4004*I*r**5*z**10 - 4004*r**5*z**9 - 1716*I*r**5*z**8 - 1716*r**5*z**7 - 4004*I*r**5*z**6 + 4004*r**5*z**5 + 2548*I*r**5*z**4 - 1092*r**5*z**3 - 308*I*r**5*z**2 + 52*r**5*z + 4*I*r**5 - 4*r**4*u_2*z**15 - 44*I*r**4*u_2*z**14 + 212*r**4*u_2*z**13 + 572*I*r**4*u_2*z**12 - 884*r**4*u_2*z**11 - 572*I*r**4*u_2*z**10 - 572*r**4*u_2*z**9 - 1716*I*r**4*u_2*z**8 + 1716*r**4*u_2*z**7 + 572*I*r**4*u_2*z**6 + 572*r**4*u_2*z**5 + 884*I*r**4*u_2*z**4 - 572*r**4*u_2*z**3 - 212*I*r**4*u_2*z**2 + 44*r**4*u_2*z + 4*I*r**4*u_2 + 4*r**3*z**15 + 36*I*r**3*z**14 - 132*r**3*z**13 - 228*I*r**3*z**12 + 84*r**3*z**11 - 396*I*r**3*z**10 + 748*r**3*z**9 + 396*I*r**3*z**8 + 396*r**3*z**7 + 748*I*r**3*z**6 - 396*r**3*z**5 + 84*I*r**3*z**4 - 228*r**3*z**3 - 132*I*r**3*z**2 + 36*r**3*z + 4*I*r**3)/(z**9 + 9*I*z**8 - 36*z**7 - 84*I*z**6 + 126*z**5 + 126*I*z**4 - 84*z**3 - 36*I*z**2 + 9*z + I)\n",
      "(Pdb) sympy.discriminant(f_n, x).factor()\n",
      "4*r**3*(z**2 + 1)*(r**2*z**13 + 13*I*r**2*z**12 - 78*r**2*z**11 - 286*I*r**2*z**10 + 715*r**2*z**9 + 1287*I*r**2*z**8 - 1716*r**2*z**7 - 1716*I*r**2*z**6 + 1287*r**2*z**5 + 715*I*r**2*z**4 - 286*r**2*z**3 - 78*I*r**2*z**2 + 13*r**2*z + I*r**2 - r*u_2*z**13 - 11*I*r*u_2*z**12 + 54*r*u_2*z**11 + 154*I*r*u_2*z**10 - 275*r*u_2*z**9 - 297*I*r*u_2*z**8 + 132*r*u_2*z**7 - 132*I*r*u_2*z**6 + 297*r*u_2*z**5 + 275*I*r*u_2*z**4 - 154*r*u_2*z**3 - 54*I*r*u_2*z**2 + 11*r*u_2*z + I*r*u_2 + z**13 + 9*I*z**12 - 34*z**11 - 66*I*z**10 + 55*z**9 - 33*I*z**8 + 132*z**7 + 132*I*z**6 - 33*z**5 + 55*I*z**4 - 66*z**3 - 34*I*z**2 + 9*z + I)/(z**9 + 9*I*z**8 - 36*z**7 - 84*I*z**6 + 126*z**5 + 126*I*z**4 - 84*z**3 - 36*I*z**2 + 9*z + I)\n",
      "(Pdb) sympy.discriminant(f_n, x).as_numer_denom()\n",
      "(4*r**5*z**15 + 52*I*r**5*z**14 - 308*r**5*z**13 - 1092*I*r**5*z**12 + 2548*r**5*z**11 + 4004*I*r**5*z**10 - 4004*r**5*z**9 - 1716*I*r**5*z**8 - 1716*r**5*z**7 - 4004*I*r**5*z**6 + 4004*r**5*z**5 + 2548*I*r**5*z**4 - 1092*r**5*z**3 - 308*I*r**5*z**2 + 52*r**5*z + 4*I*r**5 - 4*r**4*u_2*z**15 - 44*I*r**4*u_2*z**14 + 212*r**4*u_2*z**13 + 572*I*r**4*u_2*z**12 - 884*r**4*u_2*z**11 - 572*I*r**4*u_2*z**10 - 572*r**4*u_2*z**9 - 1716*I*r**4*u_2*z**8 + 1716*r**4*u_2*z**7 + 572*I*r**4*u_2*z**6 + 572*r**4*u_2*z**5 + 884*I*r**4*u_2*z**4 - 572*r**4*u_2*z**3 - 212*I*r**4*u_2*z**2 + 44*r**4*u_2*z + 4*I*r**4*u_2 + 4*r**3*z**15 + 36*I*r**3*z**14 - 132*r**3*z**13 - 228*I*r**3*z**12 + 84*r**3*z**11 - 396*I*r**3*z**10 + 748*r**3*z**9 + 396*I*r**3*z**8 + 396*r**3*z**7 + 748*I*r**3*z**6 - 396*r**3*z**5 + 84*I*r**3*z**4 - 228*r**3*z**3 - 132*I*r**3*z**2 + 36*r**3*z + 4*I*r**3, z**9 + 9*I*z**8 - 36*z**7 - 84*I*z**6 + 126*z**5 + 126*I*z**4 - 84*z**3 - 36*I*z**2 + 9*z + I)\n",
      "(Pdb) D_z_n, D_z_d = sympy.discriminant(f_n, x).as_numer_denom()\n",
      "(Pdb) sympy.Poly(D_z_n)\n",
      "Poly(4*z**15*r**5 - 4*z**15*r**4*u_2 + 4*z**15*r**3 + 52*z**14*r**5*I - 44*z**14*r**4*I*u_2 + 36*z**14*r**3*I - 308*z**13*r**5 + 212*z**13*r**4*u_2 - 132*z**13*r**3 - 1092*z**12*r**5*I + 572*z**12*r**4*I*u_2 - 228*z**12*r**3*I + 2548*z**11*r**5 - 884*z**11*r**4*u_2 + 84*z**11*r**3 + 4004*z**10*r**5*I - 572*z**10*r**4*I*u_2 - 396*z**10*r**3*I - 4004*z**9*r**5 - 572*z**9*r**4*u_2 + 748*z**9*r**3 - 1716*z**8*r**5*I - 1716*z**8*r**4*I*u_2 + 396*z**8*r**3*I - 1716*z**7*r**5 + 1716*z**7*r**4*u_2 + 396*z**7*r**3 - 4004*z**6*r**5*I + 572*z**6*r**4*I*u_2 + 748*z**6*r**3*I + 4004*z**5*r**5 + 572*z**5*r**4*u_2 - 396*z**5*r**3 + 2548*z**4*r**5*I + 884*z**4*r**4*I*u_2 + 84*z**4*r**3*I - 1092*z**3*r**5 - 572*z**3*r**4*u_2 - 228*z**3*r**3 - 308*z**2*r**5*I - 212*z**2*r**4*I*u_2 - 132*z**2*r**3*I + 52*z*r**5 + 44*z*r**4*u_2 + 36*z*r**3 + 4*r**5*I + 4*r**4*I*u_2 + 4*r**3*I, z, r, I, u_2, domain='ZZ')\n",
      "(Pdb) f.subs(self.parameters)\n",
      "(x**2*(z + I)**3*exp(3*I*pi/5) - (z - I)*((z - I)**2 - (z - I)*(z + I)*exp(I*pi/5)/2 + (z + I)**2*exp(2*I*pi/5)))*exp(-3*I*pi/5)/(z + I)**3\n",
      "(Pdb) f\n",
      "(r**3*x**2*(z + I)**3 - (z - I)*(r**2*(z + I)**2 - r*u_2*(z - I)*(z + I) + (z - I)**2))/(r**3*(z + I)**3)\n",
      "(Pdb) subs_dict\n",
      "{'u_2': 1/2, 'r': exp(I*pi/5)}\n"
     ]
    }
   ],
   "source": [
    "swd = SWDataBase(c)"
   ]
  },
  {
   "cell_type": "code",
   "execution_count": 6,
   "metadata": {
    "collapsed": false
   },
   "outputs": [
    {
     "data": {
      "text/plain": [
       "[-1, 2]"
      ]
     },
     "execution_count": 6,
     "metadata": {},
     "output_type": "execute_result"
    }
   ],
   "source": [
    "swd.punctures"
   ]
  },
  {
   "cell_type": "code",
   "execution_count": 7,
   "metadata": {
    "collapsed": false
   },
   "outputs": [
    {
     "data": {
      "text/plain": [
       "(r**3*x**2*(z + 1)**3 - (-z + 2)*(r**2*(z + 1)**2 - r*u_2*(-z + 2)*(z + 1) + (-z + 2)**2))/(r**3*(z + 1)**3)"
      ]
     },
     "execution_count": 7,
     "metadata": {},
     "output_type": "execute_result"
    }
   ],
   "source": [
    "swd.ffr_curve.sym_eq"
   ]
  },
  {
   "cell_type": "code",
   "execution_count": 8,
   "metadata": {
    "collapsed": false
   },
   "outputs": [
    {
     "data": {
      "text/plain": [
       "(-0.309016994374947 - 0.951056516295154*I)*(x**2*(-0.309016994374947 + 0.951056516295154*I)*(z + 1.0)**3 - (-z + 2.0)*((-z + 2.0)**2 + (-0.404508497187474 - 0.293892626146237*I)*(-z + 2.0)*(z + 1.0) + (0.309016994374947 + 0.951056516295154*I)*(z + 1.0)**2))/(z + 1.0)**3"
      ]
     },
     "execution_count": 8,
     "metadata": {},
     "output_type": "execute_result"
    }
   ],
   "source": [
    "swd.ffr_curve.num_eq"
   ]
  },
  {
   "cell_type": "code",
   "execution_count": null,
   "metadata": {
    "collapsed": true
   },
   "outputs": [],
   "source": []
  }
 ],
 "metadata": {
  "kernelspec": {
   "display_name": "Python 2",
   "language": "python",
   "name": "python2"
  },
  "language_info": {
   "codemirror_mode": {
    "name": "ipython",
    "version": 2
   },
   "file_extension": ".py",
   "mimetype": "text/x-python",
   "name": "python",
   "nbconvert_exporter": "python",
   "pygments_lexer": "ipython2",
   "version": "2.7.10"
  }
 },
 "nbformat": 4,
 "nbformat_minor": 0
}
