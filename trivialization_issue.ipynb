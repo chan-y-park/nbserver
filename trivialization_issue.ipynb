{
 "cells": [
  {
   "cell_type": "code",
   "execution_count": 1,
   "metadata": {
    "collapsed": false
   },
   "outputs": [
    {
     "name": "stdout",
     "output_type": "stream",
     "text": [
      "Use TkAgg backend for matplotlib.\n",
      "Setting logging level to \"INFO\".\n"
     ]
    }
   ],
   "source": [
    "%matplotlib tk\n",
    "#%matplotlib nbagg\n",
    "from pprint import pprint\n",
    "import loom"
   ]
  },
  {
   "cell_type": "code",
   "execution_count": 2,
   "metadata": {
    "collapsed": false
   },
   "outputs": [
    {
     "name": "stderr",
     "output_type": "stream",
     "text": [
      "2356: config file: config/pure_SO_4.ini\n"
     ]
    }
   ],
   "source": [
    "#config = loom.load_config(\"default.ini\") #success\n",
    "#config = loom.load_config(\"config/AD_SO_4.ini\")\n",
    "#config = loom.load_config(\"config/AD_SO_6.ini\")\n",
    "#config = loom.load_config(\"config/coset_A_3.ini\")\n",
    "#config = loom.load_config(\"config/coset_A_3_2nd_rep.ini\")\n",
    "#config = loom.load_config(\"config/coset_A_4_2nd_rep.ini\")\n",
    "#config = loom.load_config(\"config/coset_D_3.ini\")\n",
    "#config = loom.load_config(\"config/coset_D_4.ini\")\n",
    "#config = loom.load_config(\"config/issue_2.ini\")\n",
    "config = loom.load_config(\"config/pure_SO_4.ini\")\n",
    "#config = loom.load_config(\"config/pure_SU_2.ini\")"
   ]
  },
  {
   "cell_type": "code",
   "execution_count": 3,
   "metadata": {
    "collapsed": false,
    "scrolled": false
   },
   "outputs": [
    {
     "name": "stderr",
     "output_type": "stream",
     "text": [
      "2356: Representation data of (D2, 1) retrieved from SAGE:\n",
      "{'ffr_weights': [(1, 0), (0, 1), (-1, 0), (0, -1)],\n",
      " 'multiplicities': [1, 1, 1, 1],\n",
      " 'positive_roots': [(1, 1), (1, -1)],\n",
      " 'roots': [(1, 1), (1, -1), (-1, 1), (-1, -1)],\n",
      " 'weight_basis': [(1, 0), (0, 1)],\n",
      " 'weight_coefficients': [(1, 0), (0, 1), (-1, 0), (0, -1)],\n",
      " 'weights': [(1, 0), (0, 1), (-1, 0), (0, -1)]}\n",
      "2356: The z-plane has not been rotated.\n",
      "2356: Seiberg-Witten curve in the 1st fundamental representation:\n",
      "\\frac{u_{4}}{z^{4}} + x^{4} + \\frac{x^{2}}{z^{2}} \\left(u_{2} + z + \\frac{1}{z}\\right) = 0\n",
      "(numerically\n",
      "x^{4} + \\frac{x^{2} \\left(- z + i\\right)^{2}}{\\left(z + i\\right)^{2}} \\left(\\frac{- z + i}{z + i} - 1.0 + \\frac{z + i}{- z + i}\\right) + \\frac{2.5 \\left(- z + i\\right)^{4}}{\\left(z + i\\right)^{4}}=0\n",
      ")\n",
      "2356: Seiberg-Witten differential:\n",
      "x \\left(\\frac{1}{- z + i} + \\frac{z + i}{\\left(- z + i\\right)^{2}}\\right) dz\n",
      "\n",
      "2356: Calculating ramification points of the Seiberg-Witten curve in the first fundamental rep.\n",
      "2356: Option 'ramification_point_finding_method' not specified; use None.\n",
      "2356: ramification point #0: z = 0.592359147246j, x = 0.321900518764j, i = 2.\n",
      "2356: ramification point #1: z = 0.592359147246j, x = -0.321900518764j, i = 2.\n",
      "2356: ramification point #2: z = 5.06449489964j, x = (-0.842746505478+0j), i = 2.\n",
      "2356: ramification point #3: z = 5.06449489964j, x = (0.842746505478+0j), i = 2.\n",
      "2356: ramification point #4: z = -5.06449489964j, x = (1.87617370892+0j), i = 2.\n",
      "2356: ramification point #5: z = -5.06449489964j, x = (-1.87617370892+0j), i = 2.\n",
      "2356: ramification point #6: z = (-6.61700496083e-19-0.592359147246j), x = (1.57974753945e-17+4.91188655475j), i = 2.\n",
      "2356: ramification point #7: z = (6.6197787796e-19-0.592359147246j), x = (1.57974753945e-17-4.91188655475j), i = 2.\n",
      "2356: Some branch points or punctures are vertically aligned.\n",
      "Need to rotate the z-plane.\n",
      "\n",
      "2356: Will try rotating z-plane in increments of pi/2\n",
      "2356: The z-plane has been rotated 1 times.\n",
      "Current rotation of the z-plane: I\n",
      "\n",
      "2356: Seiberg-Witten curve in the 1st fundamental representation:\n",
      "\\frac{u_{4}}{z^{4}} + x^{4} + \\frac{x^{2}}{z^{2}} \\left(u_{2} + z + \\frac{1}{z}\\right) = 0\n",
      "(numerically\n",
      "x^{4} + \\frac{x^{2} \\left(- i z + i\\right)^{2}}{\\left(i z + i\\right)^{2}} \\left(\\frac{- i z + i}{i z + i} - 1.0 + \\frac{i z + i}{- i z + i}\\right) + \\frac{2.5 \\left(- i z + i\\right)^{4}}{\\left(i z + i\\right)^{4}}=0\n",
      ")\n",
      "2356: Seiberg-Witten differential:\n",
      "x \\left(\\frac{i}{- i z + i} + \\frac{i \\left(i z + i\\right)}{\\left(- i z + i\\right)^{2}}\\right) dz\n",
      "\n",
      "2356: Calculating ramification points of the Seiberg-Witten curve in the first fundamental rep.\n",
      "2356: ramification point #0: z = (0.592359147246+0j), x = 0.321900518764j, i = 2.\n",
      "2356: ramification point #1: z = (0.592359147246+0j), x = -0.321900518764j, i = 2.\n",
      "2356: ramification point #2: z = (5.06449489964+0j), x = (-0.842746505478+0j), i = 2.\n",
      "2356: ramification point #3: z = (5.06449489964+0j), x = (0.842746505478+0j), i = 2.\n",
      "2356: ramification point #4: z = (-5.06449489964-0j), x = (1.87617370892+0j), i = 2.\n",
      "2356: ramification point #5: z = (-5.06449489964-0j), x = (-1.87617370892+0j), i = 2.\n",
      "2356: ramification point #6: z = (-0.592359147246+6.61700496083e-19j), x = (1.57974753945e-17+4.91188655475j), i = 2.\n",
      "2356: ramification point #7: z = (-0.592359147246-6.6197787796e-19j), x = (1.57974753945e-17-4.91188655475j), i = 2.\n",
      "2356: All branch points and punctures are sufficiently separated vertically.\n",
      "Will not rotate z-plane any more.\n",
      "\n",
      "2356: Getting aligned x's at the base point z = (-3.70074341542e-16-10.1289897993j).\n",
      "2356: Analyzing a branch point at z = (-0.592359147246+6.61700496083e-19j).\n"
     ]
    },
    {
     "name": "stdout",
     "output_type": "stream",
     "text": [
      "\n",
      "At step 61, between (-0.592359147246-0.534659405473j) and (-0.592359147246-0.203820426377j) \n",
      "ref_xs:\n",
      "[(1.0134792224094682-2.1041415705249791j), (-3.7732348990201694-1.9023875836940627j), (-1.0134792224094689+2.10414157052498j), (3.7732348990201716+1.9023875836940634j)]\n",
      "new xs:\n",
      "[ 5.38503335-2.89367685j  0.33376144-3.19160896j -5.38503335+2.89367685j\n",
      " -0.33376144+3.19160896j]\n",
      "sorted_xs:\n",
      "[(0.33376143957560167-3.191608959851024j), (0.33376143957560167-3.191608959851024j), (-0.33376143957560106+3.1916089598510227j), (-0.33376143957560106+3.1916089598510227j)]\n",
      "unique_sorted_xs:\n",
      "[(-0.33376143957560106+3.1916089598510227j), (0.33376143957560167-3.191608959851024j)]\n"
     ]
    },
    {
     "ename": "ValueError",
     "evalue": "\nCannot track the sheets!\nProbably passing too close to a branch point.",
     "output_type": "error",
     "traceback": [
      "\u001b[1;31m---------------------------------------------------------------------------\u001b[0m",
      "\u001b[1;31mValueError\u001b[0m                                Traceback (most recent call last)",
      "\u001b[1;32m<ipython-input-3-5c01f8c5f143>\u001b[0m in \u001b[0;36m<module>\u001b[1;34m()\u001b[0m\n\u001b[1;32m----> 1\u001b[1;33m \u001b[0msnd\u001b[0m \u001b[1;33m=\u001b[0m \u001b[0mloom\u001b[0m\u001b[1;33m.\u001b[0m\u001b[0mgenerate\u001b[0m\u001b[1;33m(\u001b[0m\u001b[0mconfig\u001b[0m\u001b[1;33m,\u001b[0m \u001b[0mphase\u001b[0m\u001b[1;33m=\u001b[0m\u001b[1;36m1.0\u001b[0m\u001b[1;33m)\u001b[0m\u001b[1;33m\u001b[0m\u001b[0m\n\u001b[0m\u001b[0;32m      2\u001b[0m \u001b[1;31m#snd = loom.generate(config)\u001b[0m\u001b[1;33m\u001b[0m\u001b[1;33m\u001b[0m\u001b[0m\n",
      "\u001b[1;32m/home/chan/loom/loom/api.pyc\u001b[0m in \u001b[0;36mgenerate_spectral_network\u001b[1;34m(config, phase)\u001b[0m\n\u001b[0;32m     64\u001b[0m \u001b[1;33m\u001b[0m\u001b[0m\n\u001b[0;32m     65\u001b[0m     \u001b[0mphase_range\u001b[0m \u001b[1;33m=\u001b[0m \u001b[0mconfig\u001b[0m\u001b[1;33m[\u001b[0m\u001b[1;34m'phase_range'\u001b[0m\u001b[1;33m]\u001b[0m\u001b[1;33m\u001b[0m\u001b[0m\n\u001b[1;32m---> 66\u001b[1;33m     \u001b[0msw\u001b[0m \u001b[1;33m=\u001b[0m \u001b[0mSWDataWithTrivialization\u001b[0m\u001b[1;33m(\u001b[0m\u001b[0mconfig\u001b[0m\u001b[1;33m)\u001b[0m\u001b[1;33m\u001b[0m\u001b[0m\n\u001b[0m\u001b[0;32m     67\u001b[0m \u001b[1;33m\u001b[0m\u001b[0m\n\u001b[0;32m     68\u001b[0m     \u001b[0mstart_time\u001b[0m \u001b[1;33m=\u001b[0m \u001b[0mtime\u001b[0m\u001b[1;33m.\u001b[0m\u001b[0mtime\u001b[0m\u001b[1;33m(\u001b[0m\u001b[1;33m)\u001b[0m\u001b[1;33m\u001b[0m\u001b[0m\n",
      "\u001b[1;32m/home/chan/loom/loom/trivialization.pyc\u001b[0m in \u001b[0;36m__init__\u001b[1;34m(self, config)\u001b[0m\n\u001b[0;32m    257\u001b[0m             \u001b[0mbp\u001b[0m \u001b[1;33m=\u001b[0m \u001b[0mBranchPoint\u001b[0m\u001b[1;33m(\u001b[0m\u001b[0mz\u001b[0m\u001b[1;33m=\u001b[0m\u001b[0mz_bp\u001b[0m\u001b[1;33m)\u001b[0m\u001b[1;33m\u001b[0m\u001b[0m\n\u001b[0;32m    258\u001b[0m             \u001b[0mbp\u001b[0m\u001b[1;33m.\u001b[0m\u001b[0mlabel\u001b[0m \u001b[1;33m=\u001b[0m \u001b[1;34m'Branch point #{}'\u001b[0m\u001b[1;33m.\u001b[0m\u001b[0mformat\u001b[0m\u001b[1;33m(\u001b[0m\u001b[0mi\u001b[0m\u001b[1;33m)\u001b[0m\u001b[1;33m\u001b[0m\u001b[0m\n\u001b[1;32m--> 259\u001b[1;33m             \u001b[0mself\u001b[0m\u001b[1;33m.\u001b[0m\u001b[0manalyze_branch_point\u001b[0m\u001b[1;33m(\u001b[0m\u001b[0mbp\u001b[0m\u001b[1;33m)\u001b[0m\u001b[1;33m\u001b[0m\u001b[0m\n\u001b[0m\u001b[0;32m    260\u001b[0m             \u001b[0mself\u001b[0m\u001b[1;33m.\u001b[0m\u001b[0mbranch_points\u001b[0m\u001b[1;33m.\u001b[0m\u001b[0mappend\u001b[0m\u001b[1;33m(\u001b[0m\u001b[0mbp\u001b[0m\u001b[1;33m)\u001b[0m\u001b[1;33m\u001b[0m\u001b[0m\n\u001b[0;32m    261\u001b[0m \u001b[1;33m\u001b[0m\u001b[0m\n",
      "\u001b[1;32m/home/chan/loom/loom/trivialization.pyc\u001b[0m in \u001b[0;36manalyze_branch_point\u001b[1;34m(self, bp)\u001b[0m\n\u001b[0;32m    447\u001b[0m         path_around_bp = get_path_around(bp.z, self.base_point,\n\u001b[0;32m    448\u001b[0m                                          self.min_distance)\n\u001b[1;32m--> 449\u001b[1;33m         \u001b[0mbp\u001b[0m\u001b[1;33m.\u001b[0m\u001b[0mmonodromy\u001b[0m \u001b[1;33m=\u001b[0m \u001b[0mself\u001b[0m\u001b[1;33m.\u001b[0m\u001b[0mget_sheet_monodromy\u001b[0m\u001b[1;33m(\u001b[0m\u001b[0mpath_around_bp\u001b[0m\u001b[1;33m)\u001b[0m\u001b[1;33m\u001b[0m\u001b[0m\n\u001b[0m\u001b[0;32m    450\u001b[0m \u001b[1;33m\u001b[0m\u001b[0m\n\u001b[0;32m    451\u001b[0m         bp.ffr_ramification_points = [rp \n",
      "\u001b[1;32m/home/chan/loom/loom/trivialization.pyc\u001b[0m in \u001b[0;36mget_sheet_monodromy\u001b[1;34m(self, z_path)\u001b[0m\n\u001b[0;32m    353\u001b[0m         \u001b[0minitial_sheets\u001b[0m \u001b[1;33m=\u001b[0m \u001b[1;33m[\u001b[0m\u001b[1;33m[\u001b[0m\u001b[0mi\u001b[0m\u001b[1;33m,\u001b[0m \u001b[0mx\u001b[0m\u001b[1;33m]\u001b[0m \u001b[1;32mfor\u001b[0m \u001b[0mi\u001b[0m\u001b[1;33m,\u001b[0m \u001b[0mx\u001b[0m \u001b[1;32min\u001b[0m \u001b[0menumerate\u001b[0m\u001b[1;33m(\u001b[0m\u001b[0minitial_xs\u001b[0m\u001b[1;33m)\u001b[0m\u001b[1;33m]\u001b[0m\u001b[1;33m\u001b[0m\u001b[0m\n\u001b[0;32m    354\u001b[0m         final_xs = [sheet_i[-1] \n\u001b[1;32m--> 355\u001b[1;33m                     for sheet_i in self.get_sheets_along_path(z_path)]\n\u001b[0m\u001b[0;32m    356\u001b[0m         \u001b[0mfinal_sheets\u001b[0m \u001b[1;33m=\u001b[0m \u001b[1;33m[\u001b[0m\u001b[1;33m[\u001b[0m\u001b[0mi\u001b[0m\u001b[1;33m,\u001b[0m \u001b[0mx\u001b[0m\u001b[1;33m]\u001b[0m \u001b[1;32mfor\u001b[0m \u001b[0mi\u001b[0m\u001b[1;33m,\u001b[0m \u001b[0mx\u001b[0m \u001b[1;32min\u001b[0m \u001b[0menumerate\u001b[0m\u001b[1;33m(\u001b[0m\u001b[0mfinal_xs\u001b[0m\u001b[1;33m)\u001b[0m\u001b[1;33m]\u001b[0m\u001b[1;33m\u001b[0m\u001b[0m\n\u001b[0;32m    357\u001b[0m \u001b[1;33m\u001b[0m\u001b[0m\n",
      "\u001b[1;32m/home/chan/loom/loom/trivialization.pyc\u001b[0m in \u001b[0;36mget_sheets_along_path\u001b[1;34m(self, z_path, is_path_to_bp, ffr)\u001b[0m\n\u001b[0;32m    300\u001b[0m                     \u001b[0mffr_xs_0\u001b[0m\u001b[1;33m,\u001b[0m \u001b[0mffr_xs_1\u001b[0m\u001b[1;33m,\u001b[0m \u001b[0maccuracy\u001b[0m\u001b[1;33m=\u001b[0m\u001b[0mself\u001b[0m\u001b[1;33m.\u001b[0m\u001b[0maccuracy\u001b[0m\u001b[1;33m,\u001b[0m\u001b[1;33m\u001b[0m\u001b[0m\n\u001b[0;32m    301\u001b[0m                     \u001b[0mcheck_tracking\u001b[0m\u001b[1;33m=\u001b[0m\u001b[0mTrue\u001b[0m\u001b[1;33m,\u001b[0m \u001b[0mindex\u001b[0m\u001b[1;33m=\u001b[0m\u001b[0mi\u001b[0m\u001b[1;33m,\u001b[0m\u001b[1;33m\u001b[0m\u001b[0m\n\u001b[1;32m--> 302\u001b[1;33m                     \u001b[0mz_0\u001b[0m\u001b[1;33m=\u001b[0m\u001b[0mz_path\u001b[0m\u001b[1;33m[\u001b[0m\u001b[0mi\u001b[0m\u001b[1;33m-\u001b[0m\u001b[1;36m1\u001b[0m\u001b[1;33m]\u001b[0m\u001b[1;33m,\u001b[0m \u001b[0mz_1\u001b[0m\u001b[1;33m=\u001b[0m\u001b[0mz_path\u001b[0m\u001b[1;33m[\u001b[0m\u001b[0mi\u001b[0m\u001b[1;33m]\u001b[0m\u001b[1;33m,\u001b[0m\u001b[1;33m\u001b[0m\u001b[0m\n\u001b[0m\u001b[0;32m    303\u001b[0m                 )\n\u001b[0;32m    304\u001b[0m             \u001b[1;32melse\u001b[0m\u001b[1;33m:\u001b[0m\u001b[1;33m\u001b[0m\u001b[0m\n",
      "\u001b[1;32m/home/chan/loom/loom/trivialization.pyc\u001b[0m in \u001b[0;36mget_sorted_xs\u001b[1;34m(ref_xs, new_xs, accuracy, check_tracking, index, z_0, z_1)\u001b[0m\n\u001b[0;32m    590\u001b[0m             \u001b[1;32mprint\u001b[0m \u001b[0munique_sorted_xs\u001b[0m\u001b[1;33m\u001b[0m\u001b[0m\n\u001b[0;32m    591\u001b[0m             raise ValueError(\n\u001b[1;32m--> 592\u001b[1;33m                 \u001b[1;34m'\\nCannot track the sheets!\\n'\u001b[0m\u001b[1;33m\u001b[0m\u001b[0m\n\u001b[0m\u001b[0;32m    593\u001b[0m                 \u001b[1;34m'Probably passing too close to a branch point.'\u001b[0m\u001b[1;33m\u001b[0m\u001b[0m\n\u001b[0;32m    594\u001b[0m             )\n",
      "\u001b[1;31mValueError\u001b[0m: \nCannot track the sheets!\nProbably passing too close to a branch point."
     ]
    }
   ],
   "source": [
    "snd = loom.generate(config, phase=1.0)\n",
    "#snd = loom.generate(config)"
   ]
  },
  {
   "cell_type": "code",
   "execution_count": 4,
   "metadata": {
    "collapsed": false
   },
   "outputs": [
    {
     "name": "stderr",
     "output_type": "stream",
     "text": [
      "9513: Generating the plot of a spectral network @ theta = 1.0...\n"
     ]
    },
    {
     "name": "stdout",
     "output_type": "stream",
     "text": [
      "------------------------\n",
      "phase : 1.0\n",
      "------------------------\n",
      "\n",
      "\t--- The Root System ---\n",
      "\n",
      "alpha_4 : [-1, 0, 1]\n",
      "ordered weight pairs : ['(mu_0, mu_2)']\n",
      "\n",
      "alpha_5 : [0, -1, 1]\n",
      "ordered weight pairs : ['(mu_1, mu_2)']\n",
      "\n",
      "alpha_2 : [0, 1, -1]\n",
      "ordered weight pairs : ['(mu_2, mu_1)']\n",
      "\n",
      "alpha_3 : [-1, 1, 0]\n",
      "ordered weight pairs : ['(mu_0, mu_1)']\n",
      "\n",
      "alpha_0 : [1, -1, 0]\n",
      "ordered weight pairs : ['(mu_1, mu_0)']\n",
      "\n",
      "alpha_1 : [1, 0, -1]\n",
      "ordered weight pairs : ['(mu_2, mu_0)']\n",
      "\n",
      "\t--- The Weight System ---\n",
      "\n",
      "mu_2 : [0, 0, 1]\n",
      "\n",
      "mu_1 : [0, 1, 0]\n",
      "\n",
      "mu_0 : [1, 0, 0]\n",
      "\n",
      "\t--- The S-Wall Data ---\n",
      "\n",
      "S-wall #0\troot types : ['alpha_3']\n",
      "\t\tsheet pairs : [[['mu_0', 'mu_1']]]\n",
      "\n",
      "S-wall #1\troot types : ['alpha_0', 'alpha_1']\n",
      "\t\tsheet pairs : [[['mu_1', 'mu_0']], [['mu_2', 'mu_0']]]\n",
      "\n",
      "S-wall #2\troot types : ['alpha_3']\n",
      "\t\tsheet pairs : [[['mu_0', 'mu_1']]]\n",
      "\n",
      "S-wall #3\troot types : ['alpha_4']\n",
      "\t\tsheet pairs : [[['mu_0', 'mu_2']]]\n",
      "\n",
      "S-wall #4\troot types : ['alpha_1']\n",
      "\t\tsheet pairs : [[['mu_2', 'mu_0']]]\n",
      "\n",
      "S-wall #5\troot types : ['alpha_4']\n",
      "\t\tsheet pairs : [[['mu_0', 'mu_2']]]\n",
      "\n",
      "S-wall #6\troot types : ['alpha_5', 'alpha_0']\n",
      "\t\tsheet pairs : [[['mu_1', 'mu_2']], [['mu_1', 'mu_0']]]\n",
      "\n",
      "S-wall #7\troot types : ['alpha_2', 'alpha_3']\n",
      "\t\tsheet pairs : [[['mu_2', 'mu_1']], [['mu_0', 'mu_1']]]\n",
      "\n",
      "S-wall #8\troot types : ['alpha_2', 'alpha_5', 'alpha_4']\n",
      "\t\tsheet pairs : [[['mu_2', 'mu_1']], [['mu_1', 'mu_2']], [['mu_0', 'mu_2']]]\n",
      "\n",
      "S-wall #9\troot types : ['alpha_5']\n",
      "\t\tsheet pairs : [[['mu_1', 'mu_2']]]\n",
      "\n",
      "S-wall #10\troot types : ['alpha_2']\n",
      "\t\tsheet pairs : [[['mu_2', 'mu_1']]]\n",
      "\n",
      "S-wall #11\troot types : ['alpha_5']\n",
      "\t\tsheet pairs : [[['mu_1', 'mu_2']]]\n",
      "\n",
      "S-wall #12\troot types : ['alpha_5']\n",
      "\t\tsheet pairs : [[['mu_1', 'mu_2']]]\n",
      "\n",
      "S-wall #13\troot types : ['alpha_4', 'alpha_5']\n",
      "\t\tsheet pairs : [[['mu_0', 'mu_2']], [['mu_1', 'mu_2']]]\n",
      "\n",
      "S-wall #14\troot types : ['alpha_3']\n",
      "\t\tsheet pairs : [[['mu_0', 'mu_1']]]\n",
      "\n",
      "S-wall #15\troot types : ['alpha_0']\n",
      "\t\tsheet pairs : [[['mu_1', 'mu_0']]]\n",
      "\n",
      "S-wall #16\troot types : ['alpha_0']\n",
      "\t\tsheet pairs : [[['mu_1', 'mu_0']]]\n",
      "\n",
      "S-wall #17\troot types : ['alpha_4']\n",
      "\t\tsheet pairs : [[['mu_0', 'mu_2']]]\n",
      "\n",
      "\t--- The Branch Points ---\n",
      "\n",
      "Branch point #0\tposition : (-0.975922662037-0.345096666087j)\n",
      "\t\troot type : ['alpha_0']\n",
      "\n",
      "Branch point #1\tposition : (0.975922662037+0.345096666087j)\n",
      "\t\troot type : ['alpha_1']\n",
      "\n",
      "Branch point #2\tposition : (0.786823810611+0.67262548441j)\n",
      "\t\troot type : ['alpha_2']\n",
      "\n",
      "Branch point #3\tposition : (-0.786823810611-0.67262548441j)\n",
      "\t\troot type : ['alpha_2']\n",
      "\n",
      "\t--- The Irregular Singularities ---\n",
      "\n"
     ]
    }
   ],
   "source": [
    "snp = loom.plot(snd)"
   ]
  },
  {
   "cell_type": "code",
   "execution_count": 1,
   "metadata": {
    "collapsed": false
   },
   "outputs": [
    {
     "name": "stderr",
     "output_type": "stream",
     "text": [
      "9817: config file: default.ini\n"
     ]
    },
    {
     "name": "stdout",
     "output_type": "stream",
     "text": [
      "Use TkAgg backend for matplotlib.\n"
     ]
    }
   ],
   "source": [
    "import loom\n",
    "config = loom.load_config(\"default.ini\")"
   ]
  },
  {
   "cell_type": "code",
   "execution_count": 2,
   "metadata": {
    "collapsed": false
   },
   "outputs": [
    {
     "name": "stderr",
     "output_type": "stream",
     "text": [
      "9817: Representation data of (A2, 1) retrieved from SAGE:\n",
      "{'ffr_weights': [(1, 0, 0), (0, 1, 0), (0, 0, 1)],\n",
      " 'multiplicities': [1, 1, 1],\n",
      " 'positive_roots': [(1, -1, 0), (1, 0, -1), (0, 1, -1)],\n",
      " 'roots': [(1, -1, 0),\n",
      "           (1, 0, -1),\n",
      "           (0, 1, -1),\n",
      "           (-1, 1, 0),\n",
      "           (-1, 0, 1),\n",
      "           (0, -1, 1)],\n",
      " 'weight_basis': [(1, 0, 0), (0, 1, 0), (0, 0, 1)],\n",
      " 'weight_coefficients': [(1, 0, 0), (0, 1, 0), (0, 0, 1)],\n",
      " 'weights': [(1, 0, 0), (0, 1, 0), (0, 0, 1)]}\n",
      "9817: \n",
      "Seiberg-Witten curve: x^{3} + 1.0 x + i z^{2} + 1.0 = 0\n",
      "\n",
      "9817: \n",
      "Seiberg-Witten differential: x dz\n",
      "\n"
     ]
    }
   ],
   "source": [
    "from loom.geometry import SWData\n",
    "sw = SWData(config)"
   ]
  },
  {
   "cell_type": "code",
   "execution_count": 3,
   "metadata": {
    "collapsed": false
   },
   "outputs": [
    {
     "data": {
      "text/plain": [
       "array([ 0.21863067+1.36890747j,  0.58027425-1.0099573j ,\n",
       "       -0.79890492-0.35895017j])"
      ]
     },
     "execution_count": 3,
     "metadata": {},
     "output_type": "execute_result"
    }
   ],
   "source": [
    "sw.curve.get_xs(1)"
   ]
  },
  {
   "cell_type": "code",
   "execution_count": 4,
   "metadata": {
    "collapsed": false
   },
   "outputs": [
    {
     "data": {
      "text/plain": [
       "array([ 0.21863067+1.36890747j,  0.58027425-1.0099573j ,\n",
       "       -0.79890492-0.35895017j])"
      ]
     },
     "execution_count": 4,
     "metadata": {},
     "output_type": "execute_result"
    }
   ],
   "source": [
    "sw.curve.get_aligned_xs(1, sw.g_data)"
   ]
  },
  {
   "cell_type": "code",
   "execution_count": 1,
   "metadata": {
    "collapsed": false
   },
   "outputs": [
    {
     "name": "stderr",
     "output_type": "stream",
     "text": [
      "14560: config file: config/A_3_coset.ini\n"
     ]
    },
    {
     "name": "stdout",
     "output_type": "stream",
     "text": [
      "Use TkAgg backend for matplotlib.\n"
     ]
    }
   ],
   "source": [
    "import loom\n",
    "config = loom.load_config('config/A_3_coset.ini')"
   ]
  },
  {
   "cell_type": "code",
   "execution_count": 2,
   "metadata": {
    "collapsed": false,
    "scrolled": false
   },
   "outputs": [
    {
     "name": "stderr",
     "output_type": "stream",
     "text": [
      "14560: Representation data of (A3, 1) retrieved from SAGE:\n",
      "{'ffr_weights': [(1, 0, 0, 0), (0, 1, 0, 0), (0, 0, 1, 0), (0, 0, 0, 1)],\n",
      " 'multiplicities': [1, 1, 1, 1],\n",
      " 'positive_roots': [(1, -1, 0, 0),\n",
      "                    (1, 0, -1, 0),\n",
      "                    (0, 1, -1, 0),\n",
      "                    (1, 0, 0, -1),\n",
      "                    (0, 1, 0, -1),\n",
      "                    (0, 0, 1, -1)],\n",
      " 'roots': [(1, -1, 0, 0),\n",
      "           (1, 0, -1, 0),\n",
      "           (0, 1, -1, 0),\n",
      "           (1, 0, 0, -1),\n",
      "           (0, 1, 0, -1),\n",
      "           (0, 0, 1, -1),\n",
      "           (-1, 1, 0, 0),\n",
      "           (-1, 0, 1, 0),\n",
      "           (-1, 0, 0, 1),\n",
      "           (0, -1, 1, 0),\n",
      "           (0, -1, 0, 1),\n",
      "           (0, 0, -1, 1)],\n",
      " 'weight_basis': [(1, 0, 0, 0), (0, 1, 0, 0), (0, 0, 1, 0), (0, 0, 0, 1)],\n",
      " 'weight_coefficients': [(1, 0, 0, 0),\n",
      "                         (0, 1, 0, 0),\n",
      "                         (0, 0, 1, 0),\n",
      "                         (0, 0, 0, 1)],\n",
      " 'weights': [(1, 0, 0, 0), (0, 1, 0, 0), (0, 0, 1, 0), (0, 0, 0, 1)]}\n",
      "14560: Option 'mt_params' not specified; use None.\n",
      "14560: \n",
      "Seiberg-Witten curve: x^{4} + 1.0 x^{2} + 0.25 x + i z^{2} = 0\n",
      "\n",
      "14560: \n",
      "Seiberg-Witten differential: x dz\n",
      "\n",
      "14560: Option 'punctures' not specified; use None.\n"
     ]
    }
   ],
   "source": [
    "from loom.geometry import SWData\n",
    "sw = SWData(config)"
   ]
  },
  {
   "cell_type": "code",
   "execution_count": 3,
   "metadata": {
    "collapsed": false
   },
   "outputs": [
    {
     "data": {
      "text/plain": [
       "array([ 0.31267184+1.20809361j, -0.75235641+0.40626179j,\n",
       "       -0.21517636-1.13224468j,  0.65486094-0.48211072j])"
      ]
     },
     "execution_count": 3,
     "metadata": {},
     "output_type": "execute_result"
    }
   ],
   "source": [
    "sw.curve.get_xs(1)"
   ]
  },
  {
   "cell_type": "code",
   "execution_count": 4,
   "metadata": {
    "collapsed": false
   },
   "outputs": [
    {
     "data": {
      "text/plain": [
       "array([ 0.31267184+1.20809361j, -0.75235641+0.40626179j,\n",
       "       -0.21517636-1.13224468j,  0.65486094-0.48211072j])"
      ]
     },
     "execution_count": 4,
     "metadata": {},
     "output_type": "execute_result"
    }
   ],
   "source": [
    "sw.curve.get_aligned_xs(1, sw.g_data)"
   ]
  },
  {
   "cell_type": "code",
   "execution_count": 5,
   "metadata": {
    "collapsed": false
   },
   "outputs": [
    {
     "name": "stderr",
     "output_type": "stream",
     "text": [
      "14560: Representation data of (A3, 2) retrieved from SAGE:\n",
      "{'ffr_weights': [(1, 0, 0, 0), (0, 1, 0, 0), (0, 0, 1, 0), (0, 0, 0, 1)],\n",
      " 'multiplicities': [1, 1, 1, 1, 1, 1],\n",
      " 'positive_roots': [(1, -1, 0, 0),\n",
      "                    (1, 0, -1, 0),\n",
      "                    (0, 1, -1, 0),\n",
      "                    (1, 0, 0, -1),\n",
      "                    (0, 1, 0, -1),\n",
      "                    (0, 0, 1, -1)],\n",
      " 'roots': [(1, -1, 0, 0),\n",
      "           (1, 0, -1, 0),\n",
      "           (0, 1, -1, 0),\n",
      "           (1, 0, 0, -1),\n",
      "           (0, 1, 0, -1),\n",
      "           (0, 0, 1, -1),\n",
      "           (-1, 1, 0, 0),\n",
      "           (-1, 0, 1, 0),\n",
      "           (-1, 0, 0, 1),\n",
      "           (0, -1, 1, 0),\n",
      "           (0, -1, 0, 1),\n",
      "           (0, 0, -1, 1)],\n",
      " 'weight_basis': [(1, 0, 0, 0), (0, 1, 0, 0), (0, 0, 1, 0), (0, 0, 0, 1)],\n",
      " 'weight_coefficients': [(0, 0, 1, 1),\n",
      "                         (0, 1, 1, 0),\n",
      "                         (0, 1, 0, 1),\n",
      "                         (1, 1, 0, 0),\n",
      "                         (1, 0, 0, 1),\n",
      "                         (1, 0, 1, 0)],\n",
      " 'weights': [(0, 0, 1, 1),\n",
      "             (0, 1, 1, 0),\n",
      "             (0, 1, 0, 1),\n",
      "             (1, 1, 0, 0),\n",
      "             (1, 0, 0, 1),\n",
      "             (1, 0, 1, 0)]}\n",
      "loom/geometry.py:132: UserWarning: class SWCurve with a general representation is not implemented yet.\n",
      "  warn('class SWCurve with a general representation '\n",
      "14560: \n",
      "Seiberg-Witten curve: \\mathrm{None} = 0\n",
      "\n",
      "14560: \n",
      "Seiberg-Witten differential: x dz\n",
      "\n"
     ]
    }
   ],
   "source": [
    "config['representation'] = '2'\n",
    "sw = SWData(config)"
   ]
  },
  {
   "cell_type": "code",
   "execution_count": 6,
   "metadata": {
    "collapsed": false
   },
   "outputs": [
    {
     "ename": "AttributeError",
     "evalue": "'NoneType' object has no attribute 'subs'",
     "output_type": "error",
     "traceback": [
      "\u001b[1;31m---------------------------------------------------------------------------\u001b[0m",
      "\u001b[1;31mAttributeError\u001b[0m                            Traceback (most recent call last)",
      "\u001b[1;32m<ipython-input-6-7de288dc43bb>\u001b[0m in \u001b[0;36m<module>\u001b[1;34m()\u001b[0m\n\u001b[1;32m----> 1\u001b[1;33m \u001b[0msw\u001b[0m\u001b[1;33m.\u001b[0m\u001b[0mcurve\u001b[0m\u001b[1;33m.\u001b[0m\u001b[0mget_xs\u001b[0m\u001b[1;33m(\u001b[0m\u001b[1;36m1\u001b[0m\u001b[1;33m)\u001b[0m\u001b[1;33m\u001b[0m\u001b[0m\n\u001b[0m",
      "\u001b[1;32m/home/chan/loom/loom/geometry.py\u001b[0m in \u001b[0;36mget_xs\u001b[1;34m(self, z_0, for_ffr)\u001b[0m\n\u001b[0;32m    144\u001b[0m         \u001b[1;32melse\u001b[0m\u001b[1;33m:\u001b[0m\u001b[1;33m\u001b[0m\u001b[0m\n\u001b[0;32m    145\u001b[0m             \u001b[0meq\u001b[0m \u001b[1;33m=\u001b[0m \u001b[0mself\u001b[0m\u001b[1;33m.\u001b[0m\u001b[0mnum_eq\u001b[0m\u001b[1;33m\u001b[0m\u001b[0m\n\u001b[1;32m--> 146\u001b[1;33m         \u001b[0mfx\u001b[0m \u001b[1;33m=\u001b[0m \u001b[0meq\u001b[0m\u001b[1;33m.\u001b[0m\u001b[0msubs\u001b[0m\u001b[1;33m(\u001b[0m\u001b[0mz\u001b[0m\u001b[1;33m,\u001b[0m \u001b[0mz_0\u001b[0m\u001b[1;33m)\u001b[0m\u001b[1;33m\u001b[0m\u001b[0m\n\u001b[0m\u001b[0;32m    147\u001b[0m         \u001b[1;31m#xs = sympy.solve(fx, x)\u001b[0m\u001b[1;33m\u001b[0m\u001b[1;33m\u001b[0m\u001b[0m\n\u001b[0;32m    148\u001b[0m         \u001b[1;31m### The following may fail when the curve is not a polynomial.\u001b[0m\u001b[1;33m\u001b[0m\u001b[1;33m\u001b[0m\u001b[0m\n",
      "\u001b[1;31mAttributeError\u001b[0m: 'NoneType' object has no attribute 'subs'"
     ]
    }
   ],
   "source": [
    "sw.curve.get_xs(1)"
   ]
  },
  {
   "cell_type": "code",
   "execution_count": 7,
   "metadata": {
    "collapsed": false
   },
   "outputs": [
    {
     "data": {
      "text/plain": [
       "array([ 0.43968458-1.6143554j , -0.96753278-0.72598289j,\n",
       "       -0.09749548-0.07584893j, -0.43968458+1.6143554j ,\n",
       "        0.96753278+0.72598289j,  0.09749548+0.07584893j])"
      ]
     },
     "execution_count": 7,
     "metadata": {},
     "output_type": "execute_result"
    }
   ],
   "source": [
    "sw.curve.get_aligned_xs(1, sw.g_data)"
   ]
  },
  {
   "cell_type": "code",
   "execution_count": null,
   "metadata": {
    "collapsed": true
   },
   "outputs": [],
   "source": []
  }
 ],
 "metadata": {
  "kernelspec": {
   "display_name": "Python 2",
   "language": "python",
   "name": "python2"
  },
  "language_info": {
   "codemirror_mode": {
    "name": "ipython",
    "version": 2
   },
   "file_extension": ".py",
   "mimetype": "text/x-python",
   "name": "python",
   "nbconvert_exporter": "python",
   "pygments_lexer": "ipython2",
   "version": "2.7.10"
  }
 },
 "nbformat": 4,
 "nbformat_minor": 0
}
