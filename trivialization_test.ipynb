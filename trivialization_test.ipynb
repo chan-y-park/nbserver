{
 "cells": [
  {
   "cell_type": "code",
   "execution_count": 5,
   "metadata": {
    "collapsed": false
   },
   "outputs": [
    {
     "name": "stdout",
     "output_type": "stream",
     "text": [
      "Use TkAgg backend for matplotlib.\n",
      "Setting logging level to \"INFO\".\n"
     ]
    }
   ],
   "source": [
    "%matplotlib tk\n",
    "#%matplotlib nbagg\n",
    "import loom"
   ]
  },
  {
   "cell_type": "code",
   "execution_count": 6,
   "metadata": {
    "collapsed": false
   },
   "outputs": [
    {
     "name": "stderr",
     "output_type": "stream",
     "text": [
      "24259: config file: default.ini\n"
     ]
    }
   ],
   "source": [
    "config = loom.load_config(\"default.ini\")"
   ]
  },
  {
   "cell_type": "code",
   "execution_count": 7,
   "metadata": {
    "collapsed": false
   },
   "outputs": [
    {
     "name": "stderr",
     "output_type": "stream",
     "text": [
      "24259: Representation data of (A2, 1) retrieved from SAGE:\n",
      "{'ffr_weights': [(1, 0, 0), (0, 1, 0), (0, 0, 1)],\n",
      " 'multiplicities': [1, 1, 1],\n",
      " 'positive_roots': [(1, -1, 0), (1, 0, -1), (0, 1, -1)],\n",
      " 'roots': [(1, -1, 0),\n",
      "           (1, 0, -1),\n",
      "           (0, 1, -1),\n",
      "           (-1, 1, 0),\n",
      "           (-1, 0, 1),\n",
      "           (0, -1, 1)],\n",
      " 'weight_basis': [(1, 0, 0), (0, 1, 0), (0, 0, 1)],\n",
      " 'weight_coefficients': [(1, 0, 0), (0, 1, 0), (0, 0, 1)],\n",
      " 'weights': [(1, 0, 0), (0, 1, 0), (0, 0, 1)]}\n",
      "24259: Seiberg-Witten curve in the 1st fundamental representation: x^{3} + 1.0 x + i z^{2} + 1.0 = 0\n",
      "24259: \n",
      "Seiberg-Witten differential: x dz\n",
      "\n",
      "24259: Calculating ramification points of the Seiberg-Witten curve in the first fundamental rep.\n",
      "24259: ramification point #0: z = (-0.853351314138-0.585925153822j), x = -0.57735026919j, i = 2.\n",
      "24259: ramification point #1: z = (0.853351314138+0.585925153822j), x = -0.57735026919j, i = 2.\n",
      "24259: ramification point #2: z = (-0.585925153822-0.853351314138j), x = 0.57735026919j, i = 2.\n",
      "24259: ramification point #3: z = (0.585925153822+0.853351314138j), x = 0.57735026919j, i = 2.\n",
      "24259: Getting aligned x's at the base point z = (-2.77555756156e-17-2.07028186605j).\n",
      "24259: Analyzing a branch point at z = (-0.853351314138-0.585925153822j).\n",
      "24259: Analyzing a branch point at z = (-0.585925153822-0.853351314138j).\n",
      "24259: Analyzing a branch point at z = (0.585925153822+0.853351314138j).\n",
      "24259: Analyzing a branch point at z = (0.853351314138+0.585925153822j).\n",
      "24259: start cpu time: 1441394887.15\n",
      "24259: Generate a single spectral network at theta = 1.0.\n",
      "24259: Start growing a new spectral network...\n",
      "24259: Seed S-walls at ramification points...\n",
      "24259: Start growing a new spectral network...\n",
      "24259: Growing S-wall #0...\n",
      "24259: Using CGAL to find intersections.\n",
      "24259: Growing S-wall #1...\n",
      "24259: Using CGAL to find intersections.\n",
      "24259: Growing S-wall #2...\n",
      "24259: Using CGAL to find intersections.\n",
      "24259: Growing S-wall #3...\n",
      "24259: Using CGAL to find intersections.\n",
      "24259: Growing S-wall #4...\n",
      "24259: Using CGAL to find intersections.\n",
      "24259: Growing S-wall #5...\n",
      "24259: Using CGAL to find intersections.\n",
      "24259: Growing S-wall #6...\n",
      "24259: Using CGAL to find intersections.\n",
      "24259: Growing S-wall #7...\n",
      "24259: Using CGAL to find intersections.\n",
      "24259: Growing S-wall #8...\n",
      "24259: Using CGAL to find intersections.\n",
      "24259: Growing S-wall #9...\n",
      "24259: Using CGAL to find intersections.\n",
      "24259: Growing S-wall #10...\n",
      "24259: Using CGAL to find intersections.\n",
      "24259: Growing S-wall #11...\n",
      "24259: Using CGAL to find intersections.\n",
      "24259: Growing S-walls in iteration #0 finished.\n",
      "24259: Iteration #1 finished.\n",
      "24259: Growing S-wall #12...\n",
      "24259: Using CGAL to find intersections.\n",
      "24259: Growing S-wall #13...\n",
      "24259: Using CGAL to find intersections.\n",
      "24259: Growing S-wall #14...\n",
      "24259: Using CGAL to find intersections.\n",
      "24259: Growing S-wall #15...\n",
      "24259: Using CGAL to find intersections.\n",
      "24259: Growing S-wall #16...\n",
      "24259: Using CGAL to find intersections.\n",
      "24259: Growing S-wall #17...\n",
      "24259: Using CGAL to find intersections.\n",
      "24259: No additional joint found: Stop growing this spectral network at iteration #1.\n",
      "24259: end cpu time: 1441394901.70437789\n",
      "24259: elapsed cpu time: 14.55548477\n"
     ]
    }
   ],
   "source": [
    "snd = loom.generate(config, phase=1.0)"
   ]
  },
  {
   "cell_type": "code",
   "execution_count": 8,
   "metadata": {
    "collapsed": false,
    "scrolled": true
   },
   "outputs": [
    {
     "name": "stderr",
     "output_type": "stream",
     "text": [
      "24259: Make a directory ./data/1441394901 to save data.\n",
      "24259: Save configuration to ./data/1441394901/config.ini.\n",
      "24259: Saving data to ./data/1441394901/data_0.json.\n",
      "24259: Save compressed data to ./data/1441394901.zip.\n"
     ]
    }
   ],
   "source": [
    "loom.save(config, snd)"
   ]
  },
  {
   "cell_type": "code",
   "execution_count": 6,
   "metadata": {
    "collapsed": true
   },
   "outputs": [],
   "source": [
    "sn = snd.spectral_networks[0]"
   ]
  },
  {
   "cell_type": "code",
   "execution_count": 7,
   "metadata": {
    "collapsed": false
   },
   "outputs": [],
   "source": [
    "sw0 = sn.s_walls[0]"
   ]
  },
  {
   "cell_type": "code",
   "execution_count": 8,
   "metadata": {
    "collapsed": false
   },
   "outputs": [
    {
     "data": {
      "text/plain": [
       "[array([ 1, -1,  0]), array([ 1,  0, -1])]"
      ]
     },
     "execution_count": 8,
     "metadata": {},
     "output_type": "execute_result"
    }
   ],
   "source": [
    "sw0.local_roots"
   ]
  },
  {
   "cell_type": "code",
   "execution_count": 10,
   "metadata": {
    "collapsed": false
   },
   "outputs": [],
   "source": [
    "r0 = sw0.local_roots[0]"
   ]
  },
  {
   "cell_type": "code",
   "execution_count": 10,
   "metadata": {
    "collapsed": false
   },
   "outputs": [
    {
     "data": {
      "text/plain": [
       "[[[1, 0]], [[2, 0]]]"
      ]
     },
     "execution_count": 10,
     "metadata": {},
     "output_type": "execute_result"
    }
   ],
   "source": [
    "r0."
   ]
  },
  {
   "cell_type": "code",
   "execution_count": null,
   "metadata": {
    "collapsed": true
   },
   "outputs": [],
   "source": []
  }
 ],
 "metadata": {
  "kernelspec": {
   "display_name": "Python 2",
   "language": "python",
   "name": "python2"
  },
  "language_info": {
   "codemirror_mode": {
    "name": "ipython",
    "version": 2
   },
   "file_extension": ".py",
   "mimetype": "text/x-python",
   "name": "python",
   "nbconvert_exporter": "python",
   "pygments_lexer": "ipython2",
   "version": "2.7.10"
  }
 },
 "nbformat": 4,
 "nbformat_minor": 0
}
